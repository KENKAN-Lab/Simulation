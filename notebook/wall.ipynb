{
 "cells": [
  {
   "cell_type": "code",
   "execution_count": 1,
   "metadata": {},
   "outputs": [],
   "source": [
    "import matplotlib.pyplot as plt\n",
    "import sys\n",
    "import numpy as np\n",
    "\n",
    "sys.path.append('../')\n",
    "from src.wall.wall import Side, SolidLayer, AirLayer, Cell, Envelope\n",
    "from src.wall import wall\n",
    "#from src.temperature import Temperature"
   ]
  },
  {
   "cell_type": "markdown",
   "metadata": {},
   "source": [
    "# Calculation of Envelope Part"
   ]
  },
  {
   "cell_type": "markdown",
   "metadata": {},
   "source": [
    "## 1. Basic Class"
   ]
  },
  {
   "cell_type": "markdown",
   "metadata": {},
   "source": [
    "### 1) Side Class"
   ]
  },
  {
   "cell_type": "markdown",
   "metadata": {},
   "source": [
    "This class is data class which have the parameters 'minus side' and 'plus side'."
   ]
  },
  {
   "cell_type": "code",
   "execution_count": 2,
   "metadata": {},
   "outputs": [
    {
     "data": {
      "text/plain": [
       "(1.2, 0.8)"
      ]
     },
     "execution_count": 2,
     "metadata": {},
     "output_type": "execute_result"
    }
   ],
   "source": [
    "x = Side(mns=1.2, pls=0.8)\n",
    "x.mns, x.pls"
   ]
  },
  {
   "cell_type": "markdown",
   "metadata": {},
   "source": [
    "## 2. Layer Class"
   ]
  },
  {
   "cell_type": "markdown",
   "metadata": {},
   "source": [
    "### 1) Solid Layer Class"
   ]
  },
  {
   "cell_type": "markdown",
   "metadata": {},
   "source": [
    "#### Outline"
   ]
  },
  {
   "cell_type": "markdown",
   "metadata": {},
   "source": [
    "This class has the properties below:  \n",
    "- thermal conductivity, W m<sup>-1</sup> K<sup>-1</sup>  \n",
    "- volumetric specific heat, J m<sup>-3</sup> K<sup>-1</sup>  \n",
    "- thickness, m  \n",
    "- division number."
   ]
  },
  {
   "cell_type": "markdown",
   "metadata": {},
   "source": [
    "These parameters should be positive."
   ]
  },
  {
   "cell_type": "markdown",
   "metadata": {},
   "source": [
    "#### Example"
   ]
  },
  {
   "cell_type": "code",
   "execution_count": 3,
   "metadata": {},
   "outputs": [
    {
     "data": {
      "text/plain": [
       "(1.2, 100.0, 0.12, 10, 0.012)"
      ]
     },
     "execution_count": 3,
     "metadata": {},
     "output_type": "execute_result"
    }
   ],
   "source": [
    "s = SolidLayer(conductivity=1.2, specific_heat=100.0, thickness=0.12, division_number=10)\n",
    "s.conductivity, s.specific_heat, s.thickness, s.division_number, s.delta_x"
   ]
  },
  {
   "cell_type": "markdown",
   "metadata": {},
   "source": [
    "### 2) Air Layer Class"
   ]
  },
  {
   "cell_type": "markdown",
   "metadata": {},
   "source": [
    "#### Outline"
   ]
  },
  {
   "cell_type": "markdown",
   "metadata": {},
   "source": [
    "This class has the properties below:  \n",
    "- thermal resistance, m <sup>2</sup> K W <sup>-1</sup>  "
   ]
  },
  {
   "cell_type": "markdown",
   "metadata": {},
   "source": [
    "#### Example"
   ]
  },
  {
   "cell_type": "code",
   "execution_count": 4,
   "metadata": {},
   "outputs": [
    {
     "data": {
      "text/plain": [
       "0.1"
      ]
     },
     "execution_count": 4,
     "metadata": {},
     "output_type": "execute_result"
    }
   ],
   "source": [
    "a = AirLayer(resistance=0.1)\n",
    "a.resistance"
   ]
  },
  {
   "cell_type": "markdown",
   "metadata": {},
   "source": [
    "## 3. Cell Class"
   ]
  },
  {
   "cell_type": "markdown",
   "metadata": {},
   "source": [
    "### 1) Outline"
   ]
  },
  {
   "cell_type": "markdown",
   "metadata": {},
   "source": [
    "This class has the properties below:  \n",
    "- thermal resistance, m <sup>2</sup> K W <sup>-1</sup>  \n",
    "- capacity, J m <sup>-2</sup> K <sup>-1</sup>\n",
    "- temperature, degree C"
   ]
  },
  {
   "cell_type": "markdown",
   "metadata": {},
   "source": [
    "### 2) create function"
   ]
  },
  {
   "cell_type": "markdown",
   "metadata": {},
   "source": [
    "This function make the list of the class 'Ceell'.  \n",
    "The arguments are below:  \n",
    "- the list of layers class  \n",
    "- initial temperature, degree C"
   ]
  },
  {
   "cell_type": "markdown",
   "metadata": {},
   "source": [
    "#### Example"
   ]
  },
  {
   "cell_type": "code",
   "execution_count": 5,
   "metadata": {
    "scrolled": true
   },
   "outputs": [],
   "source": [
    "cs = Cell.create(\n",
    "    layers=[\n",
    "        SolidLayer(conductivity=1.2, specific_heat=100.0, thickness=0.12, division_number=3),\n",
    "        AirLayer(resistance=120.0),\n",
    "        SolidLayer(conductivity=1.2, specific_heat=100.0, thickness=0.12, division_number=3),\n",
    "        SolidLayer(conductivity=1.2, specific_heat=100.0, thickness=0.12, division_number=3),\n",
    "        AirLayer(resistance=120.0),\n",
    "        SolidLayer(conductivity=1.2, specific_heat=100.0, thickness=0.12, division_number=6),\n",
    "    ],\n",
    "    initial_temp=15.0\n",
    ")"
   ]
  },
  {
   "cell_type": "code",
   "execution_count": 6,
   "metadata": {},
   "outputs": [
    {
     "name": "stdout",
     "output_type": "stream",
     "text": [
      "{'res-': 'surfaceMns', 'res+': 0.016666666666666666, 'cap': 2.0, 'temp': 15.0}\n",
      "{'res-': 0.016666666666666666, 'res+': 0.016666666666666666, 'cap': 4.0, 'temp': 15.0}\n",
      "{'res-': 0.016666666666666666, 'res+': 0.016666666666666666, 'cap': 4.0, 'temp': 15.0}\n",
      "{'res-': 0.016666666666666666, 'res+': 60.0, 'cap': 2.0, 'temp': 15.0}\n",
      "{'res-': 60.0, 'res+': 0.016666666666666666, 'cap': 2.0, 'temp': 15.0}\n",
      "{'res-': 0.016666666666666666, 'res+': 0.016666666666666666, 'cap': 4.0, 'temp': 15.0}\n",
      "{'res-': 0.016666666666666666, 'res+': 0.016666666666666666, 'cap': 4.0, 'temp': 15.0}\n",
      "{'res-': 0.016666666666666666, 'res+': 0.016666666666666666, 'cap': 4.0, 'temp': 15.0}\n",
      "{'res-': 0.016666666666666666, 'res+': 0.016666666666666666, 'cap': 4.0, 'temp': 15.0}\n",
      "{'res-': 0.016666666666666666, 'res+': 0.016666666666666666, 'cap': 4.0, 'temp': 15.0}\n",
      "{'res-': 0.016666666666666666, 'res+': 60.0, 'cap': 2.0, 'temp': 15.0}\n",
      "{'res-': 60.0, 'res+': 0.008333333333333333, 'cap': 1.0, 'temp': 15.0}\n",
      "{'res-': 0.008333333333333333, 'res+': 0.008333333333333333, 'cap': 2.0, 'temp': 15.0}\n",
      "{'res-': 0.008333333333333333, 'res+': 0.008333333333333333, 'cap': 2.0, 'temp': 15.0}\n",
      "{'res-': 0.008333333333333333, 'res+': 0.008333333333333333, 'cap': 2.0, 'temp': 15.0}\n",
      "{'res-': 0.008333333333333333, 'res+': 0.008333333333333333, 'cap': 2.0, 'temp': 15.0}\n",
      "{'res-': 0.008333333333333333, 'res+': 0.008333333333333333, 'cap': 2.0, 'temp': 15.0}\n",
      "{'res-': 0.016666666666666666, 'res+': 'surfacePls', 'cap': 1.0, 'temp': 15.0}\n"
     ]
    }
   ],
   "source": [
    "for c in cs:\n",
    "    print(c.get_property())"
   ]
  },
  {
   "cell_type": "markdown",
   "metadata": {},
   "source": [
    "## 4. Envelope Class"
   ]
  },
  {
   "cell_type": "markdown",
   "metadata": {},
   "source": [
    "### 1) Outline"
   ]
  },
  {
   "cell_type": "markdown",
   "metadata": {},
   "source": [
    "Property of Envelope Class is below:  \n",
    "- List of Class Cell\n",
    "- Envelope's name\n",
    "- long wave emittance of each side"
   ]
  },
  {
   "cell_type": "markdown",
   "metadata": {},
   "source": [
    "### 2) create function"
   ]
  },
  {
   "cell_type": "code",
   "execution_count": 7,
   "metadata": {},
   "outputs": [],
   "source": [
    "e2 = Envelope.create(\n",
    "    name='test2',\n",
    "    layers=[\n",
    "        SolidLayer(conductivity=1.2, specific_heat=100000.0, thickness=0.12, division_number=3),\n",
    "        AirLayer(resistance=120.0),\n",
    "        SolidLayer(conductivity=1.2, specific_heat=100000.0, thickness=0.12, division_number=3),\n",
    "        SolidLayer(conductivity=1.2, specific_heat=100000.0, thickness=0.12, division_number=3),\n",
    "        AirLayer(resistance=120.0),\n",
    "        SolidLayer(conductivity=1.2, specific_heat=100000.0, thickness=0.12, division_number=6),\n",
    "    ],\n",
    "    initial_temp=15.0,\n",
    "    long_wave_emissivity=Side(0.0, 0.0)\n",
    ")"
   ]
  },
  {
   "cell_type": "code",
   "execution_count": 8,
   "metadata": {},
   "outputs": [
    {
     "name": "stdout",
     "output_type": "stream",
     "text": [
      "{'res-': 'surfaceMns', 'res+': 0.016666666666666666, 'cap': 2000.0, 'temp': 15.0}\n",
      "{'res-': 0.016666666666666666, 'res+': 0.016666666666666666, 'cap': 4000.0, 'temp': 15.0}\n",
      "{'res-': 0.016666666666666666, 'res+': 0.016666666666666666, 'cap': 4000.0, 'temp': 15.0}\n",
      "{'res-': 0.016666666666666666, 'res+': 60.0, 'cap': 2000.0, 'temp': 15.0}\n",
      "{'res-': 60.0, 'res+': 0.016666666666666666, 'cap': 2000.0, 'temp': 15.0}\n",
      "{'res-': 0.016666666666666666, 'res+': 0.016666666666666666, 'cap': 4000.0, 'temp': 15.0}\n",
      "{'res-': 0.016666666666666666, 'res+': 0.016666666666666666, 'cap': 4000.0, 'temp': 15.0}\n",
      "{'res-': 0.016666666666666666, 'res+': 0.016666666666666666, 'cap': 4000.0, 'temp': 15.0}\n",
      "{'res-': 0.016666666666666666, 'res+': 0.016666666666666666, 'cap': 4000.0, 'temp': 15.0}\n",
      "{'res-': 0.016666666666666666, 'res+': 0.016666666666666666, 'cap': 4000.0, 'temp': 15.0}\n",
      "{'res-': 0.016666666666666666, 'res+': 60.0, 'cap': 2000.0, 'temp': 15.0}\n",
      "{'res-': 60.0, 'res+': 0.008333333333333333, 'cap': 1000.0, 'temp': 15.0}\n",
      "{'res-': 0.008333333333333333, 'res+': 0.008333333333333333, 'cap': 2000.0, 'temp': 15.0}\n",
      "{'res-': 0.008333333333333333, 'res+': 0.008333333333333333, 'cap': 2000.0, 'temp': 15.0}\n",
      "{'res-': 0.008333333333333333, 'res+': 0.008333333333333333, 'cap': 2000.0, 'temp': 15.0}\n",
      "{'res-': 0.008333333333333333, 'res+': 0.008333333333333333, 'cap': 2000.0, 'temp': 15.0}\n",
      "{'res-': 0.008333333333333333, 'res+': 0.008333333333333333, 'cap': 2000.0, 'temp': 15.0}\n",
      "{'res-': 0.016666666666666666, 'res+': 'surfacePls', 'cap': 1000.0, 'temp': 15.0}\n"
     ]
    }
   ],
   "source": [
    "for c in e2.cells:\n",
    "    print(c.get_property())"
   ]
  },
  {
   "cell_type": "code",
   "execution_count": 9,
   "metadata": {},
   "outputs": [
    {
     "data": {
      "text/plain": [
       "Side(mns=0.0, pls=0.0)"
      ]
     },
     "execution_count": 9,
     "metadata": {},
     "output_type": "execute_result"
    }
   ],
   "source": [
    "e2.long_wave_emissivity"
   ]
  },
  {
   "cell_type": "code",
   "execution_count": 10,
   "metadata": {},
   "outputs": [
    {
     "data": {
      "text/plain": [
       "'test2'"
      ]
     },
     "execution_count": 10,
     "metadata": {},
     "output_type": "execute_result"
    }
   ],
   "source": [
    "e2.name"
   ]
  },
  {
   "cell_type": "markdown",
   "metadata": {},
   "source": [
    "### 3) show_all_temperature function"
   ]
  },
  {
   "cell_type": "code",
   "execution_count": 11,
   "metadata": {},
   "outputs": [
    {
     "data": {
      "text/plain": [
       "[15.0,\n",
       " 15.0,\n",
       " 15.0,\n",
       " 15.0,\n",
       " 15.0,\n",
       " 15.0,\n",
       " 15.0,\n",
       " 15.0,\n",
       " 15.0,\n",
       " 15.0,\n",
       " 15.0,\n",
       " 15.0,\n",
       " 15.0,\n",
       " 15.0,\n",
       " 15.0,\n",
       " 15.0,\n",
       " 15.0,\n",
       " 15.0]"
      ]
     },
     "execution_count": 11,
     "metadata": {},
     "output_type": "execute_result"
    }
   ],
   "source": [
    "e2.show_all_temperature()"
   ]
  },
  {
   "cell_type": "markdown",
   "metadata": {},
   "source": [
    "### 4) show_temperature function"
   ]
  },
  {
   "cell_type": "code",
   "execution_count": 12,
   "metadata": {},
   "outputs": [
    {
     "name": "stdout",
     "output_type": "stream",
     "text": [
      "Index should be over zero.\n"
     ]
    }
   ],
   "source": [
    "try:\n",
    "    e2.show_temperature(-1)\n",
    "except IndexError as e:\n",
    "    print(e)"
   ]
  },
  {
   "cell_type": "code",
   "execution_count": 13,
   "metadata": {},
   "outputs": [
    {
     "name": "stdout",
     "output_type": "stream",
     "text": [
      "Index is over the number of cells.\n"
     ]
    }
   ],
   "source": [
    "try:\n",
    "    e2.show_temperature(50)\n",
    "except IndexError as e:\n",
    "    print(e)"
   ]
  },
  {
   "cell_type": "code",
   "execution_count": 14,
   "metadata": {},
   "outputs": [
    {
     "data": {
      "text/plain": [
       "15.0"
      ]
     },
     "execution_count": 14,
     "metadata": {},
     "output_type": "execute_result"
    }
   ],
   "source": [
    "e2.show_temperature(10)"
   ]
  },
  {
   "cell_type": "markdown",
   "metadata": {},
   "source": [
    "### 5) show_surface_temperatures function"
   ]
  },
  {
   "cell_type": "code",
   "execution_count": 15,
   "metadata": {},
   "outputs": [
    {
     "data": {
      "text/plain": [
       "Side(mns=15.0, pls=15.0)"
      ]
     },
     "execution_count": 15,
     "metadata": {},
     "output_type": "execute_result"
    }
   ],
   "source": [
    "e2.show_surface_temperature()"
   ]
  },
  {
   "cell_type": "markdown",
   "metadata": {},
   "source": [
    "### 6) set_surface_temperature function"
   ]
  },
  {
   "cell_type": "code",
   "execution_count": 16,
   "metadata": {},
   "outputs": [
    {
     "data": {
      "text/plain": [
       "Side(mns=15.0, pls=15.0)"
      ]
     },
     "execution_count": 16,
     "metadata": {},
     "output_type": "execute_result"
    }
   ],
   "source": [
    "e2.show_surface_temperature()"
   ]
  },
  {
   "cell_type": "code",
   "execution_count": 17,
   "metadata": {},
   "outputs": [],
   "source": [
    "e2.set_surface_temperature(Side(12.0, None))"
   ]
  },
  {
   "cell_type": "code",
   "execution_count": 18,
   "metadata": {},
   "outputs": [
    {
     "data": {
      "text/plain": [
       "Side(mns=12.0, pls=15.0)"
      ]
     },
     "execution_count": 18,
     "metadata": {},
     "output_type": "execute_result"
    }
   ],
   "source": [
    "e2.show_surface_temperature()"
   ]
  },
  {
   "cell_type": "code",
   "execution_count": 19,
   "metadata": {},
   "outputs": [],
   "source": [
    "e2.set_surface_temperature(Side(None, 9.0))"
   ]
  },
  {
   "cell_type": "code",
   "execution_count": 20,
   "metadata": {},
   "outputs": [
    {
     "data": {
      "text/plain": [
       "Side(mns=12.0, pls=9.0)"
      ]
     },
     "execution_count": 20,
     "metadata": {},
     "output_type": "execute_result"
    }
   ],
   "source": [
    "e2.show_surface_temperature()"
   ]
  },
  {
   "cell_type": "code",
   "execution_count": 21,
   "metadata": {},
   "outputs": [],
   "source": [
    "e2.set_surface_temperature(Side(16.0, 16.0))"
   ]
  },
  {
   "cell_type": "code",
   "execution_count": 22,
   "metadata": {},
   "outputs": [
    {
     "data": {
      "text/plain": [
       "Side(mns=16.0, pls=16.0)"
      ]
     },
     "execution_count": 22,
     "metadata": {},
     "output_type": "execute_result"
    }
   ],
   "source": [
    "e2.show_surface_temperature()"
   ]
  },
  {
   "cell_type": "markdown",
   "metadata": {},
   "source": [
    "### 3) Calculate New Temperatures"
   ]
  },
  {
   "cell_type": "markdown",
   "metadata": {},
   "source": [
    "#### Function"
   ]
  },
  {
   "cell_type": "code",
   "execution_count": 25,
   "metadata": {
    "code_folding": []
   },
   "outputs": [
    {
     "name": "stdout",
     "output_type": "stream",
     "text": [
      "{'res-': 'surfaceMns', 'res+': 0.016666666666666666, 'cap': 2000.0, 'temp': 15.0}\n",
      "{'res-': 0.016666666666666666, 'res+': 0.016666666666666666, 'cap': 4000.0, 'temp': 15.0}\n",
      "{'res-': 0.016666666666666666, 'res+': 0.016666666666666666, 'cap': 4000.0, 'temp': 15.0}\n",
      "{'res-': 0.016666666666666666, 'res+': 0.04, 'cap': 2000.0, 'temp': 15.0}\n",
      "{'res-': 0.04, 'res+': 0.39999999999999997, 'cap': 2000.0, 'temp': 15.0}\n",
      "{'res-': 0.39999999999999997, 'res+': 0.39999999999999997, 'cap': 4000.0, 'temp': 15.0}\n",
      "{'res-': 0.39999999999999997, 'res+': 0.39999999999999997, 'cap': 4000.0, 'temp': 15.0}\n",
      "{'res-': 0.39999999999999997, 'res+': 0.016666666666666666, 'cap': 4000.0, 'temp': 15.0}\n",
      "{'res-': 0.016666666666666666, 'res+': 0.016666666666666666, 'cap': 4000.0, 'temp': 15.0}\n",
      "{'res-': 0.016666666666666666, 'res+': 0.016666666666666666, 'cap': 4000.0, 'temp': 15.0}\n",
      "{'res-': 0.03333333333333333, 'res+': 'surfacePls', 'cap': 2000.0, 'temp': 15.0}\n"
     ]
    },
    {
     "data": {
      "image/png": "[encoded data removed]",
      "text/plain": [
       "<Figure size 1080x360 with 1 Axes>"
      ]
     },
     "metadata": {
      "needs_background": "light"
     },
     "output_type": "display_data"
    }
   ],
   "source": [
    "e3 = Envelope.create(\n",
    "    name='test2',\n",
    "    layers=[\n",
    "        SolidLayer(conductivity=1.2, specific_heat=100000.0, thickness=0.12, division_number=3),\n",
    "        AirLayer(resistance=0.08),\n",
    "        SolidLayer(conductivity=0.05, specific_heat=100000.0, thickness=0.12, division_number=3),\n",
    "        SolidLayer(conductivity=1.2, specific_heat=100000.0, thickness=0.12, division_number=3),\n",
    "    ],\n",
    "    initial_temp=15.0,\n",
    "    long_wave_emissivity=Side(0.0, 0.0)\n",
    ")\n",
    "\n",
    "for c in e3.cells:\n",
    "    print(c.get_property())\n",
    "\n",
    "n = 10800\n",
    "\n",
    "air_temps_side_a = np.full(n, 10.0)\n",
    "air_temps_side_b = np.full(n, 20.0)\n",
    "\n",
    "ts = np.zeros((e3.n_cells, n))\n",
    "for i, (t_a, t_b) in enumerate(zip(air_temps_side_a, air_temps_side_b)):\n",
    "    ts[:, i] = np.array(e3.show_all_temperature())\n",
    "    e3.update_temp(\n",
    "        surf_resistance = Side(0.1, 0.1), \n",
    "        air_temp = Side(t_a, t_b), \n",
    "        dt = 1.0, \n",
    "        lwave = Side(0.0, 0.0)\n",
    "    )\n",
    "\n",
    "fig = plt.figure(figsize = (15,5))\n",
    "ax = fig.add_subplot(1,1,1)\n",
    "\n",
    "ax.plot(range(n), air_temps_side_a, label='side A')\n",
    "ax.plot(range(n), air_temps_side_b, label='side B')\n",
    "\n",
    "for j in range(e3.n_cells):\n",
    "    ax.plot(range(n), ts[j, :], label=str(j))\n",
    "\n",
    "ax.set_xlabel('day', fontsize = 15)\n",
    "ax.set_ylabel('temprature, degree C', fontsize = 15)\n",
    "\n",
    "plt.legend()\n",
    "\n",
    "plt.show()\n"
   ]
  },
  {
   "cell_type": "code",
   "execution_count": null,
   "metadata": {},
   "outputs": [],
   "source": []
  },
  {
   "cell_type": "code",
   "execution_count": null,
   "metadata": {},
   "outputs": [],
   "source": []
  },
  {
   "cell_type": "code",
   "execution_count": null,
   "metadata": {},
   "outputs": [],
   "source": []
  }
 ],
 "metadata": {
  "kernelspec": {
   "display_name": "Python 3",
   "language": "python",
   "name": "python3"
  },
  "language_info": {
   "codemirror_mode": {
    "name": "ipython",
    "version": 3
   },
   "file_extension": ".py",
   "mimetype": "text/x-python",
   "name": "python",
   "nbconvert_exporter": "python",
   "pygments_lexer": "ipython3",
   "version": "3.7.6"
  },
  "toc": {
   "base_numbering": 1,
   "nav_menu": {},
   "number_sections": true,
   "sideBar": true,
   "skip_h1_title": false,
   "title_cell": "Table of Contents",
   "title_sidebar": "Contents",
   "toc_cell": false,
   "toc_position": {},
   "toc_section_display": true,
   "toc_window_display": false
  }
 },
 "nbformat": 4,
 "nbformat_minor": 2
}
