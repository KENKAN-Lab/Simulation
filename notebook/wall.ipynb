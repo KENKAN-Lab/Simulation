{
 "cells": [
  {
   "cell_type": "markdown",
   "metadata": {},
   "source": [
    "# Calculation of Envelope Part"
   ]
  },
  {
   "cell_type": "markdown",
   "metadata": {},
   "source": [
    "## 1. Basic Class"
   ]
  },
  {
   "cell_type": "markdown",
   "metadata": {},
   "source": [
    "### 1) Side Class"
   ]
  },
  {
   "cell_type": "code",
   "execution_count": 1,
   "metadata": {},
   "outputs": [],
   "source": [
    "class Side():\n",
    "    def __init__(self, mns, pls):\n",
    "        self.mns = mns\n",
    "        self.pls = pls"
   ]
  },
  {
   "cell_type": "markdown",
   "metadata": {},
   "source": [
    "## 2. Layer Class"
   ]
  },
  {
   "cell_type": "markdown",
   "metadata": {},
   "source": [
    "### 1) Solid Layer Class"
   ]
  },
  {
   "cell_type": "markdown",
   "metadata": {},
   "source": [
    "#### Outline"
   ]
  },
  {
   "cell_type": "markdown",
   "metadata": {},
   "source": [
    "This class has the properties below:  \n",
    "- thermal conductivity, W m<sup>-1</sup> K<sup>-1</sup>  \n",
    "- volumetric specific heat, J m<sup>-3</sup> K<sup>-1</sup>  \n",
    "- thickness, m  \n",
    "- division number."
   ]
  },
  {
   "cell_type": "markdown",
   "metadata": {},
   "source": [
    "#### Class"
   ]
  },
  {
   "cell_type": "code",
   "execution_count": 2,
   "metadata": {},
   "outputs": [],
   "source": [
    "class Solid_Layer():\n",
    "    \n",
    "    def __init__(self, conductivity, specific_heat, thickness, division_number):\n",
    "        if conductivity <= 0.0:\n",
    "            raise ValueError('Conductivity shall be more than 0.0.')\n",
    "        if specific_heat <= 0.0:\n",
    "            raise ValueError('Specific Heat shall be more than 0.0.')\n",
    "        if thickness <= 0.0:\n",
    "            raise ValueError('Thickness shall be more than 0.0.')\n",
    "        if division_number <= 0.0:\n",
    "            raise ValueError('Division number shall be more than 0.')\n",
    "        self.__conductivity    = conductivity\n",
    "        self.__specific_heat   = specific_heat\n",
    "        self.__thickness       = thickness\n",
    "        self.__division_number = division_number\n",
    "        self.__delta_x         = thickness / division_number\n",
    "    \n",
    "    @property\n",
    "    def conductivity(self):\n",
    "        return self.__conductivity\n",
    "    \n",
    "    @property\n",
    "    def specific_heat(self):\n",
    "        return self.__specific_heat\n",
    "    \n",
    "    @property\n",
    "    def thickness(self):\n",
    "        return self.__thickness\n",
    "    \n",
    "    @property\n",
    "    def division_number( self ):\n",
    "        return self.__division_number\n",
    "    \n",
    "    @property\n",
    "    def delta_x(self):\n",
    "        return self.__delta_x"
   ]
  },
  {
   "cell_type": "markdown",
   "metadata": {},
   "source": [
    "#### Example"
   ]
  },
  {
   "cell_type": "code",
   "execution_count": 3,
   "metadata": {},
   "outputs": [
    {
     "data": {
      "text/plain": [
       "(1.2, 100.0, 0.12, 10, 0.012)"
      ]
     },
     "execution_count": 3,
     "metadata": {},
     "output_type": "execute_result"
    }
   ],
   "source": [
    "s = Solid_Layer(conductivity=1.2, specific_heat=100.0, thickness=0.12, division_number=10)\n",
    "s.conductivity, s.specific_heat, s.thickness, s.division_number, s.delta_x"
   ]
  },
  {
   "cell_type": "markdown",
   "metadata": {},
   "source": [
    "### 2) Air Layer Class"
   ]
  },
  {
   "cell_type": "markdown",
   "metadata": {},
   "source": [
    "#### Outline"
   ]
  },
  {
   "cell_type": "markdown",
   "metadata": {},
   "source": [
    "This class has the properties below:  \n",
    "- thermal resistance, m <sup>2</sup> K W <sup>-1</sup>  "
   ]
  },
  {
   "cell_type": "markdown",
   "metadata": {},
   "source": [
    "#### Class"
   ]
  },
  {
   "cell_type": "code",
   "execution_count": 4,
   "metadata": {},
   "outputs": [],
   "source": [
    "class Air_Layer():\n",
    "    \n",
    "    def __init__(self, resistance):\n",
    "        if resistance <= 0.0:\n",
    "            raise ValueError('Air resistance shall be more than 0.0.')\n",
    "        self.__resistance = resistance\n",
    "        \n",
    "    @property\n",
    "    def resistance(self):\n",
    "        return self.__resistance"
   ]
  },
  {
   "cell_type": "markdown",
   "metadata": {},
   "source": [
    "#### Example"
   ]
  },
  {
   "cell_type": "code",
   "execution_count": 5,
   "metadata": {},
   "outputs": [
    {
     "data": {
      "text/plain": [
       "0.1"
      ]
     },
     "execution_count": 5,
     "metadata": {},
     "output_type": "execute_result"
    }
   ],
   "source": [
    "a = Air_Layer(resistance=0.1)\n",
    "a.resistance"
   ]
  },
  {
   "cell_type": "markdown",
   "metadata": {},
   "source": [
    "## 3. Cell Class"
   ]
  },
  {
   "cell_type": "markdown",
   "metadata": {},
   "source": [
    "### 1) Definition"
   ]
  },
  {
   "cell_type": "markdown",
   "metadata": {},
   "source": [
    "#### Outline"
   ]
  },
  {
   "cell_type": "markdown",
   "metadata": {},
   "source": [
    "This class has the properties below:  \n",
    "- thermal resistance, m <sup>2</sup> K W <sup>-1</sup>  \n",
    "- capacity, J m <sup>-2</sup> K <sup>-1</sup>\n",
    "- temperature, degree C"
   ]
  },
  {
   "cell_type": "markdown",
   "metadata": {},
   "source": [
    "#### Class"
   ]
  },
  {
   "cell_type": "code",
   "execution_count": 6,
   "metadata": {},
   "outputs": [],
   "source": [
    "class Cell():\n",
    "    \n",
    "    def __init__(self, resistance, capacity, temperature):\n",
    "        self.resistance  = resistance\n",
    "        self.capacity    = capacity\n",
    "        self.temp = temperature"
   ]
  },
  {
   "cell_type": "markdown",
   "metadata": {},
   "source": [
    "### 2) Create Cell Classes from Layer Class"
   ]
  },
  {
   "cell_type": "markdown",
   "metadata": {},
   "source": [
    "#### Function"
   ]
  },
  {
   "cell_type": "code",
   "execution_count": 7,
   "metadata": {},
   "outputs": [],
   "source": [
    "def make_cells(layers, initial_temp):\n",
    "\n",
    "    if type(layers[0]) == Air_Layer:\n",
    "        raise Exception('First layer should not be air layer.')\n",
    "    \n",
    "    if type(layers[len(layers)-1]) == Air_Layer:\n",
    "        raise Exception('Last layer should not be air layer.')\n",
    "    \n",
    "    for i, l in enumerate(layers):\n",
    "        if type(l) == Air_Layer:\n",
    "            if type(layers[i+1]) == Air_Layer:\n",
    "                raise Exception('Air layer should not set next to the air layer.')\n",
    "    \n",
    "    cells = []\n",
    "\n",
    "    for i, layer in enumerate(layers):\n",
    "        \n",
    "        if type(layer) == Solid_Layer:\n",
    "            \n",
    "            if i == 0:\n",
    "                cells.append(Cell(resistance  = Side(mns = 'surfaceMns', pls = layer.delta_x / layer.conductivity),\n",
    "                                  capacity    = layer.specific_heat * layer.delta_x / 2,\n",
    "                                  temperature = initial_temp\n",
    "                                 ))\n",
    "            elif type(layers[i-1]) == Air_Layer:\n",
    "                cells.append(Cell(resistance  = Side(mns = layers[i-1].resistance, pls = layer.delta_x / layer.conductivity),\n",
    "                                  capacity    = layer.specific_heat * layer.delta_x / 2,\n",
    "                                  temperature = initial_temp\n",
    "                                 ))\n",
    "            else:\n",
    "                pass\n",
    "            \n",
    "            for j in range(l.division_number - 1):\n",
    "                cells.append(Cell(resistance  = Side(mns = layer.delta_x / layer.conductivity, pls = layer.delta_x / layer.conductivity),\n",
    "                                  capacity    = layer.specific_heat * layer.delta_x,\n",
    "                                  temperature = initial_temp\n",
    "                                 ))\n",
    "            \n",
    "            if i == len(layers) - 1:\n",
    "                cells.append(Cell(resistance  = Side(mns = layer.delta_x / layer.conductivity, pls = 'surfacePls'),\n",
    "                                  capacity    = layer.specific_heat * layer.delta_x / 2,\n",
    "                                  temperature = initial_temp\n",
    "                                 ))\n",
    "            elif type(layers[i+1]) == Air_Layer:\n",
    "                cells.append(Cell(resistance  = Side(mns = layer.delta_x / layer.conductivity, pls = layers[i+1].resistance),\n",
    "                                  capacity    = layer.specific_heat * layer.delta_x / 2,\n",
    "                                  temperature = initial_temp\n",
    "                                 ))\n",
    "            else:\n",
    "                cells.append(Cell(resistance  = Side(mns = layer.delta_x / layer.conductivity, pls = layers[i+1].delta_x / layers[i+1].conductivity),\n",
    "                                  capacity    = layer.specific_heat * layer.delta_x / 2 + layers[i+1].specific_heat * layers[i+1].delta_x / 2,\n",
    "                                  temperature = initial_temp\n",
    "                                 ))\n",
    "                \n",
    "    return cells"
   ]
  },
  {
   "cell_type": "markdown",
   "metadata": {},
   "source": [
    "#### Example"
   ]
  },
  {
   "cell_type": "code",
   "execution_count": 8,
   "metadata": {},
   "outputs": [
    {
     "name": "stdout",
     "output_type": "stream",
     "text": [
      "R: surfaceMns/0.03333333333333333, capacity: 2.0, temperature: 15.0\n",
      "R: 0.03333333333333333/0.03333333333333333, capacity: 4.0, temperature: 15.0\n",
      "R: 0.03333333333333333/0.03333333333333333, capacity: 4.0, temperature: 15.0\n",
      "R: 0.03333333333333333/0.03333333333333333, capacity: 4.0, temperature: 15.0\n",
      "R: 0.03333333333333333/0.03333333333333333, capacity: 4.0, temperature: 15.0\n",
      "R: 0.03333333333333333/0.03333333333333333, capacity: 4.0, temperature: 15.0\n",
      "R: 0.03333333333333333/120.0, capacity: 2.0, temperature: 15.0\n",
      "R: 120.0/0.03333333333333333, capacity: 2.0, temperature: 15.0\n",
      "R: 0.03333333333333333/0.03333333333333333, capacity: 4.0, temperature: 15.0\n",
      "R: 0.03333333333333333/0.03333333333333333, capacity: 4.0, temperature: 15.0\n",
      "R: 0.03333333333333333/0.03333333333333333, capacity: 4.0, temperature: 15.0\n",
      "R: 0.03333333333333333/0.03333333333333333, capacity: 4.0, temperature: 15.0\n",
      "R: 0.03333333333333333/0.03333333333333333, capacity: 4.0, temperature: 15.0\n",
      "R: 0.03333333333333333/0.03333333333333333, capacity: 4.0, temperature: 15.0\n",
      "R: 0.03333333333333333/0.03333333333333333, capacity: 4.0, temperature: 15.0\n",
      "R: 0.03333333333333333/0.03333333333333333, capacity: 4.0, temperature: 15.0\n",
      "R: 0.03333333333333333/0.03333333333333333, capacity: 4.0, temperature: 15.0\n",
      "R: 0.03333333333333333/0.03333333333333333, capacity: 4.0, temperature: 15.0\n",
      "R: 0.03333333333333333/0.03333333333333333, capacity: 4.0, temperature: 15.0\n",
      "R: 0.03333333333333333/120.0, capacity: 2.0, temperature: 15.0\n",
      "R: 120.0/0.016666666666666666, capacity: 1.0, temperature: 15.0\n",
      "R: 0.016666666666666666/0.016666666666666666, capacity: 2.0, temperature: 15.0\n",
      "R: 0.016666666666666666/0.016666666666666666, capacity: 2.0, temperature: 15.0\n",
      "R: 0.016666666666666666/0.016666666666666666, capacity: 2.0, temperature: 15.0\n",
      "R: 0.016666666666666666/0.016666666666666666, capacity: 2.0, temperature: 15.0\n",
      "R: 0.016666666666666666/0.016666666666666666, capacity: 2.0, temperature: 15.0\n",
      "R: 0.016666666666666666/surfacePls, capacity: 1.0, temperature: 15.0\n"
     ]
    }
   ],
   "source": [
    "cells_exmpl = make_cells(\n",
    "    [Solid_Layer(conductivity=1.2, specific_heat=100.0, thickness=0.12, division_number=3),\n",
    "     Air_Layer(resistance=120.0),\n",
    "     Solid_Layer(conductivity=1.2, specific_heat=100.0, thickness=0.12, division_number=3),\n",
    "     Solid_Layer(conductivity=1.2, specific_heat=100.0, thickness=0.12, division_number=3),\n",
    "     Air_Layer(resistance=120.0),\n",
    "     Solid_Layer(conductivity=1.2, specific_heat=100.0, thickness=0.12, division_number=6),\n",
    "    ],\n",
    "    15.0\n",
    ")\n",
    "\n",
    "for c in cells_exmpl:\n",
    "    print( 'R: ' + str(c.resistance.mns) + '/' + str(c.resistance.pls) + ', capacity: ' + str(c.capacity) + ', temperature: ' + str(c.temp) )"
   ]
  },
  {
   "cell_type": "markdown",
   "metadata": {},
   "source": [
    "## 4. Envelope Class"
   ]
  },
  {
   "cell_type": "markdown",
   "metadata": {},
   "source": [
    "### 1) Definition"
   ]
  },
  {
   "cell_type": "markdown",
   "metadata": {},
   "source": [
    "#### Outline"
   ]
  },
  {
   "cell_type": "markdown",
   "metadata": {},
   "source": [
    "Envelope Class は、以下の情報を持つ。  \n",
    "- Cell\n",
    "- Envelope の名前"
   ]
  },
  {
   "cell_type": "markdown",
   "metadata": {},
   "source": [
    "#### Class"
   ]
  },
  {
   "cell_type": "code",
   "execution_count": 9,
   "metadata": {},
   "outputs": [],
   "source": [
    "class Envelope():\n",
    "    \n",
    "    def __init__(self, nameset, cells, lwaveemit):\n",
    "        \n",
    "        def check_longwave_emittance_range(value):\n",
    "            if value < 0.0 or value > 1.0:\n",
    "                raise ValueError('Long wave emittance should be in the range between 0.0 and 1.0.')\n",
    "\n",
    "        check_longwave_emittance_range(lwaveemit.mns)\n",
    "        check_longwave_emittance_range(lwaveemit.pls)\n",
    "\n",
    "        self.nameset = nameset\n",
    "        self.cells = cells\n",
    "        self.lwaveemit = lwaveemit\n",
    "\n",
    "    def update_temp(self, surf_resistance, air_temp, dt, lwave):\n",
    "        def over_write(c,t):\n",
    "            c.temp = t\n",
    "        new_temps = calc_new_temp(self.cells, surf_resistance, air_temp, dt, lwave, self.lwaveemit)\n",
    "        [over_write(c,t) for (c, t) in zip(self.cells, new_temps)]"
   ]
  },
  {
   "cell_type": "markdown",
   "metadata": {},
   "source": [
    "### 2) Create Envelope Class"
   ]
  },
  {
   "cell_type": "markdown",
   "metadata": {},
   "source": [
    "#### Function"
   ]
  },
  {
   "cell_type": "code",
   "execution_count": 10,
   "metadata": {},
   "outputs": [],
   "source": [
    "def make_envelope(nameset, layers, initial_temp, lwaveemit):\n",
    "    cells = make_cells(layers, initial_temp)\n",
    "    return Envelope(nameset, cells, lwaveemit)"
   ]
  },
  {
   "cell_type": "markdown",
   "metadata": {},
   "source": [
    "### 3) Calculate New Temperatures"
   ]
  },
  {
   "cell_type": "markdown",
   "metadata": {},
   "source": [
    "#### Function"
   ]
  },
  {
   "cell_type": "code",
   "execution_count": 11,
   "metadata": {},
   "outputs": [],
   "source": [
    "def calc_new_temp(cells, surf_resistance, air_temp, dt, lwave, lwaveemit):\n",
    "\n",
    "    def calc_longwave_emittance(lwaveemit, surftemp):\n",
    "        SBFUNC = 5.670367 * 10**(-8)\n",
    "        TPWATER = 273.15\n",
    "        return lwaveemit * SBFUNC * (surftemp + TPWATER)**4\n",
    "\n",
    "    def calc_each_cells(i, cells, surf_resistance, air_temp, dt, lwave, lwaveemit):\n",
    "        \n",
    "        if i == 0:\n",
    "            heat_flow_mns = (air_temp.mns - cells[i].temp) / surf_resistance.mns \\\n",
    "                            + lwave.mns * lwaveemit.mns - calc_longwave_emittance(lwaveemit.mns, cells[i].temp)\n",
    "        else:\n",
    "            heat_flow_mns = (cells[i-1].temp - cells[i].temp) / (cells[i-1].resistance.pls + cells[i].resistance.mns)\n",
    "            \n",
    "        if i == len(cells) - 1:\n",
    "            heat_flow_pls = (air_temp.pls - cells[i].temp) / surf_resistance.pls \\\n",
    "                            + lwave.pls * lwaveemit.pls - calc_longwave_emittance(lwaveemit.pls, cells[i].temp)\n",
    "        else:\n",
    "            heat_flow_pls = (cells[i+1].temp - cells[i].temp) / (cells[i+1].resistance.mns + cells[i].resistance.pls)\n",
    "\n",
    "        return (heat_flow_mns + heat_flow_pls) * dt / cells[i].capacity + cells[i].temp\n",
    "\n",
    "    return [ calc_each_cells(i, cells, surf_resistance, air_temp, dt, lwave, lwaveemit) for i in range(len(cells))]"
   ]
  },
  {
   "cell_type": "markdown",
   "metadata": {},
   "source": [
    "### 4) Show A Temperature"
   ]
  },
  {
   "cell_type": "code",
   "execution_count": 12,
   "metadata": {},
   "outputs": [],
   "source": [
    "def show_temperature(envelope, index):\n",
    "    \n",
    "    if index >= len(envelope.cells):\n",
    "        raise Exception('Index is over the number of cells.')\n",
    "    if index < 0:\n",
    "        raise Exception('Index should be over zero.')\n",
    "    \n",
    "    return envelope.cells[index].temp"
   ]
  },
  {
   "cell_type": "markdown",
   "metadata": {},
   "source": [
    "### 5) Show Surface Temperatures"
   ]
  },
  {
   "cell_type": "code",
   "execution_count": 13,
   "metadata": {},
   "outputs": [],
   "source": [
    "def show_surface_temperature(envelope):\n",
    "    \n",
    "    return Side(envelope.cells[0].temp, envelope.cells[-1].temp)"
   ]
  },
  {
   "cell_type": "markdown",
   "metadata": {},
   "source": [
    "### 6) Show All Temperatures"
   ]
  },
  {
   "cell_type": "code",
   "execution_count": 14,
   "metadata": {},
   "outputs": [],
   "source": [
    "def show_all_temperature(envelope):\n",
    "    \n",
    "    return [c.temp for c in envelope.cells]"
   ]
  },
  {
   "cell_type": "markdown",
   "metadata": {},
   "source": [
    "### 7) Set Surface Temperatures"
   ]
  },
  {
   "cell_type": "code",
   "execution_count": 15,
   "metadata": {},
   "outputs": [],
   "source": [
    "def set_surface_temperature(envelope, t, sideIndex):\n",
    "    if sideIndex == 'A':\n",
    "        envelope.cells[0].temp = t\n",
    "    elif sideIndex == 'B':\n",
    "        envelope.cells[-1].temp = t\n",
    "    else:\n",
    "        raise ValueError"
   ]
  },
  {
   "cell_type": "markdown",
   "metadata": {},
   "source": [
    "### 7) Example"
   ]
  },
  {
   "cell_type": "code",
   "execution_count": 16,
   "metadata": {},
   "outputs": [],
   "source": [
    "e2 = make_envelope('test2',\n",
    "                   [Solid_Layer(conductivity=1.2, specific_heat=100000.0, thickness=0.12, division_number=3),\n",
    "                    Air_Layer(resistance=120.0),\n",
    "                    Solid_Layer(conductivity=1.2, specific_heat=100000.0, thickness=0.12, division_number=3),\n",
    "                    Solid_Layer(conductivity=1.2, specific_heat=100000.0, thickness=0.12, division_number=3),\n",
    "                    Air_Layer(resistance=120.0),\n",
    "                    Solid_Layer(conductivity=1.2, specific_heat=100000.0, thickness=0.12, division_number=6),\n",
    "                   ],\n",
    "                   15.0,\n",
    "                   Side(0.0, 0.0)\n",
    "                  )"
   ]
  },
  {
   "cell_type": "code",
   "execution_count": 17,
   "metadata": {},
   "outputs": [
    {
     "name": "stdout",
     "output_type": "stream",
     "text": [
      "R: surfaceMns/0.03333333333333333, capacity: 2000.0, temperature: 15.0\n",
      "R: 0.03333333333333333/0.03333333333333333, capacity: 4000.0, temperature: 15.0\n",
      "R: 0.03333333333333333/0.03333333333333333, capacity: 4000.0, temperature: 15.0\n",
      "R: 0.03333333333333333/0.03333333333333333, capacity: 4000.0, temperature: 15.0\n",
      "R: 0.03333333333333333/0.03333333333333333, capacity: 4000.0, temperature: 15.0\n",
      "R: 0.03333333333333333/0.03333333333333333, capacity: 4000.0, temperature: 15.0\n",
      "R: 0.03333333333333333/120.0, capacity: 2000.0, temperature: 15.0\n",
      "R: 120.0/0.03333333333333333, capacity: 2000.0, temperature: 15.0\n",
      "R: 0.03333333333333333/0.03333333333333333, capacity: 4000.0, temperature: 15.0\n",
      "R: 0.03333333333333333/0.03333333333333333, capacity: 4000.0, temperature: 15.0\n",
      "R: 0.03333333333333333/0.03333333333333333, capacity: 4000.0, temperature: 15.0\n",
      "R: 0.03333333333333333/0.03333333333333333, capacity: 4000.0, temperature: 15.0\n",
      "R: 0.03333333333333333/0.03333333333333333, capacity: 4000.0, temperature: 15.0\n",
      "R: 0.03333333333333333/0.03333333333333333, capacity: 4000.0, temperature: 15.0\n",
      "R: 0.03333333333333333/0.03333333333333333, capacity: 4000.0, temperature: 15.0\n",
      "R: 0.03333333333333333/0.03333333333333333, capacity: 4000.0, temperature: 15.0\n",
      "R: 0.03333333333333333/0.03333333333333333, capacity: 4000.0, temperature: 15.0\n",
      "R: 0.03333333333333333/0.03333333333333333, capacity: 4000.0, temperature: 15.0\n",
      "R: 0.03333333333333333/0.03333333333333333, capacity: 4000.0, temperature: 15.0\n",
      "R: 0.03333333333333333/120.0, capacity: 2000.0, temperature: 15.0\n",
      "R: 120.0/0.016666666666666666, capacity: 1000.0, temperature: 15.0\n",
      "R: 0.016666666666666666/0.016666666666666666, capacity: 2000.0, temperature: 15.0\n",
      "R: 0.016666666666666666/0.016666666666666666, capacity: 2000.0, temperature: 15.0\n",
      "R: 0.016666666666666666/0.016666666666666666, capacity: 2000.0, temperature: 15.0\n",
      "R: 0.016666666666666666/0.016666666666666666, capacity: 2000.0, temperature: 15.0\n",
      "R: 0.016666666666666666/0.016666666666666666, capacity: 2000.0, temperature: 15.0\n",
      "R: 0.016666666666666666/surfacePls, capacity: 1000.0, temperature: 15.0\n"
     ]
    }
   ],
   "source": [
    "for c in e2.cells:\n",
    "    print( 'R: ' + str(c.resistance.mns) + '/' + str(c.resistance.pls) + ', capacity: ' + str(c.capacity) + ', temperature: ' + str(c.temp) )"
   ]
  },
  {
   "cell_type": "code",
   "execution_count": 18,
   "metadata": {},
   "outputs": [
    {
     "name": "stdout",
     "output_type": "stream",
     "text": [
      "[14.975, 15.0, 15.0, 15.0, 15.0, 15.0, 15.0, 15.0, 15.0, 15.0, 15.0, 15.0, 15.0, 15.0, 15.0, 15.0, 15.0, 15.0, 15.0, 15.0, 15.0, 15.0, 15.0, 15.0, 15.0, 15.0, 14.95]\n",
      "[14.950312499999999, 14.99990625, 15.0, 15.0, 15.0, 15.0, 15.0, 15.0, 15.0, 15.0, 15.0, 15.0, 15.0, 15.0, 15.0, 15.0, 15.0, 15.0, 15.0, 15.0, 15.0, 15.0, 15.0, 15.0, 15.0, 14.99925, 14.902]\n",
      "[14.925932890624999, 14.999720625, 14.9999996484375, 15.0, 15.0, 15.0, 15.0, 15.0, 15.0, 15.0, 15.0, 15.0, 15.0, 15.0, 15.0, 15.0, 15.0, 15.0, 15.0, 15.0, 15.0, 15.0, 15.0, 15.0, 14.99998875, 14.9978025, 14.8558975]\n",
      "[14.901856634179687, 14.999444967333984, 14.99999860341797, 14.999999998681641, 15.0, 15.0, 15.0, 15.0, 15.0, 15.0, 15.0, 15.0, 15.0, 15.0, 15.0, 15.0, 15.0, 15.0, 15.0, 15.0, 15.0, 15.0, 15.0, 14.99999983125, 14.999956125, 14.99570671875, 14.811595675]\n",
      "[14.878079263507447, 14.99908108721997, 14.999996532514894, 14.999999993454347, 14.999999999995056, 15.0, 15.0, 15.0, 15.0, 15.0, 15.0, 15.0, 15.0, 15.0, 15.0, 15.0, 15.0, 15.0, 15.0, 15.0, 15.0, 15.0, 14.99999999746875, 14.9999991781875, 14.9998930395, 14.9930087941875, 14.7690030495625]\n"
     ]
    }
   ],
   "source": [
    "e2.update_temp(surf_resistance = Side(0.1, 0.1), air_temp = Side(10.0, 10.0), dt = 1.0, lwave = Side(0.0, 0.0))\n",
    "print(show_all_temperature(e2))\n",
    "e2.update_temp(surf_resistance = Side(0.1, 0.1), air_temp = Side(10.0, 10.0), dt = 1.0, lwave = Side(0.0, 0.0))\n",
    "print(show_all_temperature(e2))\n",
    "e2.update_temp(surf_resistance = Side(0.1, 0.1), air_temp = Side(10.0, 10.0), dt = 1.0, lwave = Side(0.0, 0.0))\n",
    "print(show_all_temperature(e2))\n",
    "e2.update_temp(surf_resistance = Side(0.1, 0.1), air_temp = Side(10.0, 10.0), dt = 1.0, lwave = Side(0.0, 0.0))\n",
    "print(show_all_temperature(e2))\n",
    "e2.update_temp(surf_resistance = Side(0.1, 0.1), air_temp = Side(10.0, 10.0), dt = 1.0, lwave = Side(0.0, 0.0))\n",
    "print(show_all_temperature(e2))"
   ]
  },
  {
   "cell_type": "code",
   "execution_count": null,
   "metadata": {},
   "outputs": [],
   "source": []
  }
 ],
 "metadata": {
  "kernelspec": {
   "display_name": "Python 3",
   "language": "python",
   "name": "python3"
  },
  "language_info": {
   "codemirror_mode": {
    "name": "ipython",
    "version": 3
   },
   "file_extension": ".py",
   "mimetype": "text/x-python",
   "name": "python",
   "nbconvert_exporter": "python",
   "pygments_lexer": "ipython3",
   "version": "3.6.4"
  },
  "toc": {
   "base_numbering": 1,
   "nav_menu": {},
   "number_sections": true,
   "sideBar": true,
   "skip_h1_title": false,
   "title_cell": "Table of Contents",
   "title_sidebar": "Contents",
   "toc_cell": false,
   "toc_position": {},
   "toc_section_display": true,
   "toc_window_display": false
  }
 },
 "nbformat": 4,
 "nbformat_minor": 2
}
