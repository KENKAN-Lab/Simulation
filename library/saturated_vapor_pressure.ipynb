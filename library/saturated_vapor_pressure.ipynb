{
 "cells": [
  {
   "cell_type": "code",
   "execution_count": 1,
   "metadata": {
    "collapsed": true
   },
   "outputs": [],
   "source": [
    "import math\n",
    "import matplotlib.pyplot as plt\n",
    "from collections import namedtuple"
   ]
  },
  {
   "cell_type": "markdown",
   "metadata": {},
   "source": [
    "# Saturated Vapor Pressure"
   ]
  },
  {
   "cell_type": "markdown",
   "metadata": {},
   "source": [
    "## 1. Introduction"
   ]
  },
  {
   "cell_type": "markdown",
   "metadata": {},
   "source": [
    "This document summerize the caluculation of saturated vapor pressure."
   ]
  },
  {
   "cell_type": "markdown",
   "metadata": {},
   "source": [
    "The functions depending on the calculation below are represented in this document.  \n",
    "- SONNTAG(ZIS Z8806,1995)\n",
    "- WMO (Goff, 1957)\n",
    "- Wexler-Hyland (1983)\n",
    "- Tetens(1930)\n",
    "- Briggs and Sacket(1989)\n",
    "- Antoine\n",
    "- Goff Gratch"
   ]
  },
  {
   "cell_type": "markdown",
   "metadata": {},
   "source": [
    "## 2. Functions"
   ]
  },
  {
   "cell_type": "markdown",
   "metadata": {},
   "source": [
    "### 2.1 SONNTAG (JIS Z8806, 1995)"
   ]
  },
  {
   "cell_type": "markdown",
   "metadata": {},
   "source": [
    "↑　1990？"
   ]
  },
  {
   "cell_type": "markdown",
   "metadata": {},
   "source": [
    "$$\n",
    "k = \\frac{a_1}{T} + a_2 + a_3 \\times T + a_4 \\times T^2 + a_5 \\times \\log_e(T)\n",
    "$$"
   ]
  },
  {
   "cell_type": "markdown",
   "metadata": {},
   "source": [
    "$$\n",
    "P_{vs} = e^k\n",
    "$$"
   ]
  },
  {
   "cell_type": "markdown",
   "metadata": {},
   "source": [
    "$$\n",
    "\\frac{dP_{vs}}{dT} = e^k \\times \\left( - \\frac{a_1}{T^2} + a_3 + 2 \\times a_4 \\times T + \\frac{a_5}{T} \\right)\n",
    "$$"
   ]
  },
  {
   "cell_type": "markdown",
   "metadata": {},
   "source": [
    "Where  \n",
    "$ T $ is the absolute temperature (K);   \n",
    "$ P_{vs} $ is the saturated vapor pressure (Pa)."
   ]
  },
  {
   "cell_type": "markdown",
   "metadata": {},
   "source": [
    "| | $a_1$ | $a_2$ | $a_3$ | $a_4$ | $a_5$ |\n",
    "| :---: | :---: | :---: | :---: | :---: | :---: |\n",
    "| water | -6096.9385 | 21.2409642 | -0.02711193 | 0.00001673952 | 2.433502 |\n",
    "| ice | -6024.5282 | 29.32707 | 0.010613863 | -0.000013198825 | -0.49382577 |"
   ]
  },
  {
   "cell_type": "code",
   "execution_count": 2,
   "metadata": {
    "collapsed": false
   },
   "outputs": [],
   "source": [
    "def saturated_vapor_pressure_SONNTAG(status, T):\n",
    "    Coeff = namedtuple('Coeff',('a1','a2','a3','a4','a5'))\n",
    "    c = {\n",
    "        'water' : Coeff( -6096.9385, 21.2409642, -0.02711193,   0.00001673952,   2.433502   ),\n",
    "        'ice'   : Coeff( -6024.5282, 29.32707,    0.010613863, -0.000013198825, -0.49382577 )\n",
    "    }[status]\n",
    "    k = c.a1 / T + c.a2 + c.a3 * T + c.a4 * T**2 + c.a5 * math.log(T)\n",
    "    pvs = math.exp(k)\n",
    "    dpvs_dT = pvs * ( - c.a1 / ( T**2 ) + c.a3 + 2 * c.a4 * T + c.a5 / T )\n",
    "    return (pvs,dpvs_dT)"
   ]
  },
  {
   "cell_type": "markdown",
   "metadata": {},
   "source": [
    "#### Error"
   ]
  },
  {
   "cell_type": "markdown",
   "metadata": {},
   "source": [
    "The error is not more than 0.5 % in $ -100 \\le \\theta \\le -50 $.  \n",
    "The error is not more than 0.3 % in $ -50 \\le \\theta \\le 0 $.  \n",
    "The error is not more than 0.005 % in $ 0 \\le \\theta \\le 100 $.  \n",
    "$\\theta$ is the temperature (degree C)."
   ]
  },
  {
   "cell_type": "markdown",
   "metadata": {},
   "source": [
    "↑ JIS に誤差が記述？（未確認）"
   ]
  },
  {
   "cell_type": "markdown",
   "metadata": {},
   "source": [
    "#### Reference"
   ]
  },
  {
   "cell_type": "markdown",
   "metadata": {},
   "source": [
    "- D. Sonntag, Important new values of the physical constants of 1986, vapor pressure formulations based on the ITS-90, and psychrometer formulae, Z. Meteorol. 70(1990) pp.340-344."
   ]
  },
  {
   "cell_type": "markdown",
   "metadata": {},
   "source": [
    "↑ 未確認"
   ]
  },
  {
   "cell_type": "markdown",
   "metadata": {},
   "source": [
    "#### Example 1"
   ]
  },
  {
   "cell_type": "markdown",
   "metadata": {},
   "source": [
    "Saturated vapor pressure of 0 degree C."
   ]
  },
  {
   "cell_type": "code",
   "execution_count": 3,
   "metadata": {
    "collapsed": false
   },
   "outputs": [
    {
     "data": {
      "text/plain": [
       "(611.1527097518417, 50.323158101166285)"
      ]
     },
     "execution_count": 3,
     "metadata": {},
     "output_type": "execute_result"
    }
   ],
   "source": [
    "saturated_vapor_pressure_SONNTAG('ice',273.15) "
   ]
  },
  {
   "cell_type": "code",
   "execution_count": 4,
   "metadata": {
    "collapsed": false
   },
   "outputs": [
    {
     "data": {
      "text/plain": [
       "(611.2128400464351, 44.409707361678436)"
      ]
     },
     "execution_count": 4,
     "metadata": {},
     "output_type": "execute_result"
    }
   ],
   "source": [
    "saturated_vapor_pressure_SONNTAG('water',273.15)"
   ]
  },
  {
   "cell_type": "markdown",
   "metadata": {},
   "source": [
    "Saturated vapor pressure of 100 degree C."
   ]
  },
  {
   "cell_type": "code",
   "execution_count": 5,
   "metadata": {
    "collapsed": false
   },
   "outputs": [
    {
     "data": {
      "text/plain": [
       "(101419.04173564097, 3619.570359998814)"
      ]
     },
     "execution_count": 5,
     "metadata": {},
     "output_type": "execute_result"
    }
   ],
   "source": [
    "saturated_vapor_pressure_SONNTAG('water', 373.15)"
   ]
  },
  {
   "cell_type": "markdown",
   "metadata": {},
   "source": [
    "#### Example 2"
   ]
  },
  {
   "cell_type": "markdown",
   "metadata": {},
   "source": [
    "$$\n",
    "\\frac{dP}{dT} \\bigg|_{t=273.15} \\simeq \\frac{P\\mid_{t=274.15}-P \\mid_{t=273.15}}{(274.15-273.15)}\n",
    "$$"
   ]
  },
  {
   "cell_type": "code",
   "execution_count": 6,
   "metadata": {
    "collapsed": false
   },
   "outputs": [
    {
     "data": {
      "text/plain": [
       "(44.409707361678436, 45.8672935329588)"
      ]
     },
     "execution_count": 6,
     "metadata": {},
     "output_type": "execute_result"
    }
   ],
   "source": [
    "value0 = saturated_vapor_pressure_SONNTAG('water',273.15)\n",
    "value1 = saturated_vapor_pressure_SONNTAG('water',274.15)\n",
    "( value0[1], ( value1[0] - value0[0] )/1.0 )"
   ]
  },
  {
   "cell_type": "markdown",
   "metadata": {},
   "source": [
    "#### Example 3"
   ]
  },
  {
   "cell_type": "code",
   "execution_count": 7,
   "metadata": {
    "collapsed": false
   },
   "outputs": [
    {
     "data": {
      "image/png": "[encoded data removed]",
      "text/plain": [
       "<Figure size 1200x320 with 1 Axes>"
      ]
     },
     "metadata": {},
     "output_type": "display_data"
    }
   ],
   "source": [
    "theta_ice   = [ 0.1 * x for x in range(-1000, 100) ]\n",
    "theta_water = [ 0.1 * x for x in range( -100,1000) ]\n",
    "\n",
    "plt.figure( figsize = ( 15, 4 ), dpi=80 )\n",
    "svp_ice   = [ saturated_vapor_pressure_SONNTAG('ice',  t+273.15)[0] for t in theta_ice   ]\n",
    "svp_water = [ saturated_vapor_pressure_SONNTAG('water',t+273.15)[0] for t in theta_water ]\n",
    "plt.plot(theta_ice,   svp_ice  , label = 'ice'  )\n",
    "plt.plot(theta_water, svp_water, label = 'water')\n",
    "plt.legend()\n",
    "plt.xlabel('Temperature (degree C)')\n",
    "plt.ylabel('Saturated Water Vapor Pressure (Pa)')\n",
    "plt.show()"
   ]
  },
  {
   "cell_type": "markdown",
   "metadata": {},
   "source": [
    "#### Example 4"
   ]
  },
  {
   "cell_type": "markdown",
   "metadata": {},
   "source": [
    "Comparison of the differential value calculated by numerical method and mathematical method."
   ]
  },
  {
   "cell_type": "code",
   "execution_count": 8,
   "metadata": {
    "collapsed": false
   },
   "outputs": [
    {
     "data": {
      "image/png": "[encoded data removed]",
      "text/plain": [
       "<Figure size 1200x320 with 1 Axes>"
      ]
     },
     "metadata": {},
     "output_type": "display_data"
    }
   ],
   "source": [
    "theta_ice   = [ 0.1 * x for x in range(-1000, 100) ]\n",
    "theta_water = [ 0.1 * x for x in range( -100,1000) ]\n",
    "\n",
    "plt.figure( figsize = ( 15, 4 ), dpi=80 )\n",
    "dsvp_dt_ice       = [ saturated_vapor_pressure_SONNTAG('ice',  t+273.15)[1] for t in theta_ice   ]\n",
    "dsvp_dt_ice_div   = [ (saturated_vapor_pressure_SONNTAG('ice',  t+273.25)[0] - saturated_vapor_pressure_SONNTAG('ice',  t+273.15)[0])/0.1 for t in theta_ice   ]\n",
    "dsvp_dt_water     = [ saturated_vapor_pressure_SONNTAG('water',t+273.15)[1] for t in theta_water ]\n",
    "dsvp_dt_water_div = [ (saturated_vapor_pressure_SONNTAG('water',t+273.25)[0] - saturated_vapor_pressure_SONNTAG('water',t+273.15)[0])/0.1 for t in theta_water ]\n",
    "\n",
    "plt.plot(theta_ice,   dsvp_dt_ice  ,     label = 'ice_math'  )\n",
    "plt.plot(theta_ice,   dsvp_dt_ice_div,   label = 'ice_num'  )\n",
    "plt.plot(theta_water,   dsvp_dt_water,     label = 'water_math')\n",
    "plt.plot(theta_water,   dsvp_dt_water_div, label = 'water_num')\n",
    "plt.legend()\n",
    "plt.xlabel('Temperature (degree C)')\n",
    "plt.ylabel('Saturated Water Vapor Pressure (Pa)')\n",
    "plt.show()"
   ]
  },
  {
   "cell_type": "markdown",
   "metadata": {},
   "source": [
    "The clear differece could not be shown."
   ]
  },
  {
   "cell_type": "markdown",
   "metadata": {},
   "source": [
    "### 2.2 WMO (Goff, 1957)"
   ]
  },
  {
   "cell_type": "markdown",
   "metadata": {},
   "source": [
    "$$\n",
    "\\begin{array}{}\n",
    "    ew &= 2.78614 + 10.79574 \\times \\left( 1.0 - \\frac{273.16}{T} \\right) \\\\\n",
    "    & - 5.028 \\times \\log_{10} \\left( \\frac{T}{273.16} \\right) \\\\\n",
    "    & + 1.50475 \\times 10^{-4} \\times \\left( 1.0 - 10.0^{ -8.2969 \\times \\left( \\frac{T}{273.16} - 1.0 \\right) } \\right) \\\\\n",
    "    & + 0.42873 \\times 10^{-3} \\times \\left( 10^{4.76955 \\times \\left( 1.0 - \\frac{273.16}{T} \\right) } - 1.0 \\right)\n",
    "\\end{array}\n",
    "$$"
   ]
  },
  {
   "cell_type": "markdown",
   "metadata": {},
   "source": [
    "$$\n",
    "P_{vs} = 10^{ew}\n",
    "$$"
   ]
  },
  {
   "cell_type": "markdown",
   "metadata": {},
   "source": [
    "$$\n",
    "\\begin{array}{}\n",
    "\\frac{dew}{dT} &= 10.79574 \\times \\frac{273.16}{T^2} \\\\\n",
    "& - \\frac{5.028}{\\log 10} \\times \\frac{1}{T} \\\\\n",
    "& + 1.50475 \\times 10^{-4} \\times \\frac{8.2969}{273.16} \\times \\log 10 \\times 10.0^{ -8.2969 \\times \\left( \\frac{T}{273.16} - 1.0 \\right) } \\\\\n",
    "& + 0.42873 \\times 10^{-3} \\times 4.76955 \\times \\frac{273.16}{T^2} \\times \\log 10 \\times 10^{4.76955 \\times \\left( 1.0 - \\frac{273.16}{T} \\right) }\n",
    "\\end{array}\n",
    "$$"
   ]
  },
  {
   "cell_type": "markdown",
   "metadata": {},
   "source": [
    "$$\n",
    "\\frac{dP_{vs}}{dT} = 10^{ew} \\times \\frac{dew}{dT} \\times \\log 10\n",
    "$$"
   ]
  },
  {
   "cell_type": "markdown",
   "metadata": {},
   "source": [
    "Where  \n",
    "$ T $ is the absolute temperature (K);   \n",
    "$ P_{vs} $ is the saturated vapor pressure (Pa)."
   ]
  },
  {
   "cell_type": "code",
   "execution_count": 9,
   "metadata": {
    "collapsed": false
   },
   "outputs": [],
   "source": [
    "def saturated_vapor_pressure_WMO(T):\n",
    "    ew = 2.78614 + 10.79574 * ( 1.0 - 273.16 / T ) \\\n",
    "       - 5.028 * math.log10( T / 273.16 ) \\\n",
    "       + 1.50475 * 10**(-4) * ( 1.0 - 10.0**( -8.2969 * ( T / 273.16 - 1.0 ) ) ) \\\n",
    "       + 0.42873 * 10**(-3) * ( 10**( 4.76955 * ( 1.0 - 273.16 / T ) )  - 1.0 )\n",
    "    dew_dT = 10.79574 * 273.16 / (T**2) \\\n",
    "           - 5.028 / math.log(10) / T \\\n",
    "           + 1.50475 * 10**(-4) * 8.2969 / 273.16 * math.log(10.0) * 10.0**( -8.2969 * (T/273.16 - 1.0) ) \\\n",
    "           + 0.42873 * 10**(-3) * 4.76955 * 273.16 / (T**2) * math.log(10.0) * 10**( 4.76955 * (1.0-273.16/T) )\n",
    "    return ( 10**ew, 10**ew * dew_dT * math.log(10.0) )"
   ]
  },
  {
   "cell_type": "markdown",
   "metadata": {},
   "source": [
    "#### Example 1"
   ]
  },
  {
   "cell_type": "markdown",
   "metadata": {},
   "source": [
    "Saturated vapor pressure of 0 degree C."
   ]
  },
  {
   "cell_type": "code",
   "execution_count": 10,
   "metadata": {
    "collapsed": false
   },
   "outputs": [
    {
     "data": {
      "text/plain": [
       "(610.6950957277759, 44.37624095308939)"
      ]
     },
     "execution_count": 10,
     "metadata": {},
     "output_type": "execute_result"
    }
   ],
   "source": [
    "saturated_vapor_pressure_WMO(273.15)"
   ]
  },
  {
   "cell_type": "markdown",
   "metadata": {},
   "source": [
    "Saturated vapor pressure of 100 degree C."
   ]
  },
  {
   "cell_type": "code",
   "execution_count": 11,
   "metadata": {
    "collapsed": false
   },
   "outputs": [
    {
     "data": {
      "text/plain": [
       "(101325.12909460095, 3616.814799701832)"
      ]
     },
     "execution_count": 11,
     "metadata": {},
     "output_type": "execute_result"
    }
   ],
   "source": [
    "saturated_vapor_pressure_WMO(373.15)"
   ]
  },
  {
   "cell_type": "markdown",
   "metadata": {},
   "source": [
    "#### Example 2"
   ]
  },
  {
   "cell_type": "markdown",
   "metadata": {},
   "source": [
    "$$\n",
    "\\frac{dP}{dT} \\bigg|_{t=273.15} \\simeq \\frac{P\\mid_{t=274.15}-P \\mid_{t=273.15}}{(274.15-273.15)}\n",
    "$$"
   ]
  },
  {
   "cell_type": "code",
   "execution_count": 12,
   "metadata": {
    "collapsed": false
   },
   "outputs": [
    {
     "data": {
      "text/plain": [
       "(44.37624095308939, 45.83229741926425)"
      ]
     },
     "execution_count": 12,
     "metadata": {},
     "output_type": "execute_result"
    }
   ],
   "source": [
    "value0 = saturated_vapor_pressure_WMO(273.15)\n",
    "value1 = saturated_vapor_pressure_WMO(274.15)\n",
    "\n",
    "( value0[1], ( value1[0] - value0[0] )/1.0 )"
   ]
  },
  {
   "cell_type": "markdown",
   "metadata": {},
   "source": [
    "#### Example 3"
   ]
  },
  {
   "cell_type": "code",
   "execution_count": 13,
   "metadata": {
    "collapsed": false
   },
   "outputs": [
    {
     "data": {
      "image/png": "[encoded data removed]",
      "text/plain": [
       "<Figure size 1080x288 with 1 Axes>"
      ]
     },
     "metadata": {},
     "output_type": "display_data"
    }
   ],
   "source": [
    "theta = [ 0.1 * x for x in range(-1000,1000) ]\n",
    "\n",
    "plt.figure( figsize = (15,4) )\n",
    "svp = [ saturated_vapor_pressure_WMO(t+273.15)[0] for t in theta ]\n",
    "plt.plot(theta, svp)\n",
    "plt.xlabel('Temperature (degree C)')\n",
    "plt.ylabel('Saturated Water Vapor Pressure (Pa)')\n",
    "plt.show()"
   ]
  },
  {
   "cell_type": "markdown",
   "metadata": {},
   "source": [
    "#### Example 4"
   ]
  },
  {
   "cell_type": "markdown",
   "metadata": {},
   "source": [
    "Comparison of the differential value calculated by numerical method and mathematical method."
   ]
  },
  {
   "cell_type": "code",
   "execution_count": 14,
   "metadata": {
    "collapsed": false
   },
   "outputs": [
    {
     "data": {
      "image/png": "[encoded data removed]",
      "text/plain": [
       "<Figure size 1080x288 with 1 Axes>"
      ]
     },
     "metadata": {},
     "output_type": "display_data"
    }
   ],
   "source": [
    "theta = [ 0.1 * x for x in range(-1000,1000) ]\n",
    "\n",
    "plt.figure(figsize = (15,4))\n",
    "dsvp_dt_math = [ saturated_vapor_pressure_WMO(t+273.15)[1] for t in theta ]\n",
    "dsvp_dt_num  = [ (saturated_vapor_pressure_WMO(t+273.25)[0] - saturated_vapor_pressure_WMO(t+273.15)[0] )/0.1 for t in theta ]\n",
    "\n",
    "plt.plot(theta, dsvp_dt_math, label='mathematical')\n",
    "plt.plot(theta, dsvp_dt_num,  label='numerical')\n",
    "plt.legend()\n",
    "plt.xlabel('Temperature (degree C)')\n",
    "plt.ylabel('Saturated Water Vapor Pressure (Pa)')\n",
    "plt.show()"
   ]
  },
  {
   "cell_type": "markdown",
   "metadata": {},
   "source": [
    "The clear differece could not be shown."
   ]
  },
  {
   "cell_type": "markdown",
   "metadata": {},
   "source": [
    "### 2.3 Wexler-Hyland (1983)"
   ]
  },
  {
   "cell_type": "markdown",
   "metadata": {},
   "source": [
    "This equation is described in 機械工学会, SHASE and ASHRAE."
   ]
  },
  {
   "cell_type": "markdown",
   "metadata": {},
   "source": [
    "$$\n",
    "k = a_1 \\times 10^{b_1} \\times \\frac{1}{T} + a_2 \\times 10^{b_2} + a_3 \\times 10^{b_3} \\times T + a_4 \\times 10^{b_4} \\times T^2 + a_5 \\times 10^{b_5} \\times T^3 + a_6 \\times 10^{b_6} \\times T^4 + a_7 \\times 10^{b_7} \\times \\ln(T)\n",
    "$$"
   ]
  },
  {
   "cell_type": "markdown",
   "metadata": {},
   "source": [
    "$$\n",
    "P_{vs} = e^k\n",
    "$$"
   ]
  },
  {
   "cell_type": "markdown",
   "metadata": {},
   "source": [
    "$$\n",
    "\\frac{dP_{vs}}{dT} = e^k \\times \\left( -a_1 \\times 10^{b_1} \\times \\frac{1}{T^2} + a_3 \\times 10^{b_3} + 2 \\times a_4 \\times 10^{b_4} \\times T + 3 \\times a_5 \\times 10^{b_5} \\times T^2 + 4 \\times a_6 \\times 10^{b_6} \\times T^3 + a_7 \\times 10^{b_7} \\times \\frac{1}{T} \\right)\n",
    "$$"
   ]
  },
  {
   "cell_type": "markdown",
   "metadata": {},
   "source": [
    "Where  \n",
    "$T$ is the absolute temperature (K);  \n",
    "$P_{vs}$ is the saturated vapor pressure (Pa)."
   ]
  },
  {
   "cell_type": "markdown",
   "metadata": {},
   "source": [
    "| | $a_1$ | $b_1$ | $a_2$ | $b_2$ | $a_3$ | $b_3$ | $a_4$ | $b_4$ | $a_5$ | $b_5$ | $a_6$ | $b_6$ | $a_7$ | $b_7$ |\n",
    "| :---: | :---: | :---: | :---: | :---: | :---: | :---: | :---: | :---: | :---: | :---: | :---: | :---: | :---: |\n",
    "| water | -0.58002206 | 4 | 0.13914993 | 1 | -0.48640239 | -1 | 0.41764768 | -4 | -0.14452093 | -7 |  0.0        |  0  | 0.65459673 | 1 |\n",
    "| ice   | -0.56745359 | 4 | 0.63925247 | 1 | -0.96778430 | -2 | 0.62215701 | -6 |  0.20747825 | -8 | -0.94840240 | -12 | 0.41635019 | 1 |"
   ]
  },
  {
   "cell_type": "code",
   "execution_count": 15,
   "metadata": {
    "collapsed": true
   },
   "outputs": [],
   "source": [
    "def saturated_vapor_pressure_WH(status, T):\n",
    "    Coeff = namedtuple('Coeff', ('a1','b1','a2','b2','a3','b3','a4','b4','a5','b5','a6','b6','a7','b7'))\n",
    "    c = {\n",
    "        'water' : Coeff( -0.58002206, 4, 0.13914993, 1, -0.48640239, -1, 0.41764768, -4, -0.14452093, -7,  0.0,          0, 0.65459673, 1),\n",
    "        'ice'   : Coeff( -0.56745359, 4, 0.63925247, 1, -0.96778430, -2, 0.62215701, -6,  0.20747825, -8, -0.94840240, -12, 0.41635019, 1)\n",
    "    }[status]\n",
    "    k = c.a1 * 10**c.b1 / T + c.a2 * 10**c.b2 + c.a3 * 10**c.b3 * T + c.a4 * 10**c.b4 * T**2 + c.a5 * 10**c.b5 * T**3 + c.a6 * 10**c.b6 * T**4 + c.a7 * 10**c.b7 * math.log(T)\n",
    "    pvs     = math.exp(k)\n",
    "    dpvs_dT = pvs * ( -c.a1 * 10**(c.b1) / T**2 + c.a3 * 10**(c.b3) + 2 * c.a4 * 10**c.b4 * T + 3 * c.a5 * 10**c.b5 * T**2 + 4 * c.a6 * 10**c.b6 * T**3 + c.a7 * 10**c.b7 / T )\n",
    "    return ( pvs, dpvs_dT )"
   ]
  },
  {
   "cell_type": "markdown",
   "metadata": {},
   "source": [
    "#### Example 1"
   ]
  },
  {
   "cell_type": "markdown",
   "metadata": {},
   "source": [
    "Saturated vapor pressure of 0 degree C."
   ]
  },
  {
   "cell_type": "code",
   "execution_count": 16,
   "metadata": {
    "collapsed": false
   },
   "outputs": [
    {
     "data": {
      "text/plain": [
       "(611.1535708907679, 50.32648528533754)"
      ]
     },
     "execution_count": 16,
     "metadata": {},
     "output_type": "execute_result"
    }
   ],
   "source": [
    "saturated_vapor_pressure_WH('ice',273.15)"
   ]
  },
  {
   "cell_type": "code",
   "execution_count": 17,
   "metadata": {
    "collapsed": false
   },
   "outputs": [
    {
     "data": {
      "text/plain": [
       "(611.2128674511848, 44.40174257890302)"
      ]
     },
     "execution_count": 17,
     "metadata": {},
     "output_type": "execute_result"
    }
   ],
   "source": [
    "saturated_vapor_pressure_WH('water',273.15)"
   ]
  },
  {
   "cell_type": "markdown",
   "metadata": {},
   "source": [
    "Saturated vapor pressure of 100 degree C."
   ]
  },
  {
   "cell_type": "code",
   "execution_count": 18,
   "metadata": {
    "collapsed": false
   },
   "outputs": [
    {
     "data": {
      "text/plain": [
       "(101418.71682799164, 3619.6644205505136)"
      ]
     },
     "execution_count": 18,
     "metadata": {},
     "output_type": "execute_result"
    }
   ],
   "source": [
    "saturated_vapor_pressure_WH('water',373.15)"
   ]
  },
  {
   "cell_type": "markdown",
   "metadata": {},
   "source": [
    "#### Example 2"
   ]
  },
  {
   "cell_type": "markdown",
   "metadata": {},
   "source": [
    "$$\n",
    "\\frac{dP}{dT} \\bigg|_{t=273.15} \\simeq \\frac{P\\mid_{t=274.15}-P \\mid_{t=273.15}}{(274.15-273.15)}\n",
    "$$"
   ]
  },
  {
   "cell_type": "code",
   "execution_count": 19,
   "metadata": {
    "collapsed": false
   },
   "outputs": [
    {
     "data": {
      "text/plain": [
       "(44.40174257890302, 45.85885053019683)"
      ]
     },
     "execution_count": 19,
     "metadata": {},
     "output_type": "execute_result"
    }
   ],
   "source": [
    "value0 = saturated_vapor_pressure_WH('water',273.15)\n",
    "value1 = saturated_vapor_pressure_WH('water',274.15)\n",
    "( value0[1], ( value1[0] - value0[0] )/1.0 )"
   ]
  },
  {
   "cell_type": "markdown",
   "metadata": {},
   "source": [
    "#### Example 3"
   ]
  },
  {
   "cell_type": "code",
   "execution_count": 20,
   "metadata": {
    "collapsed": false
   },
   "outputs": [
    {
     "data": {
      "image/png": "[encoded data removed]",
      "text/plain": [
       "<Figure size 1200x320 with 1 Axes>"
      ]
     },
     "metadata": {},
     "output_type": "display_data"
    }
   ],
   "source": [
    "theta_ice   = [ 0.1 * x for x in range(-1000, 100) ]\n",
    "theta_water = [ 0.1 * x for x in range( -100,1000) ]\n",
    "\n",
    "plt.figure( figsize = ( 15, 4 ), dpi=80 )\n",
    "svp_ice   = [ saturated_vapor_pressure_WH('ice',  t+273.15)[0] for t in theta_ice   ]\n",
    "svp_water = [ saturated_vapor_pressure_WH('water',t+273.15)[0] for t in theta_water ]\n",
    "plt.plot(theta_ice,   svp_ice  , label = 'ice'  )\n",
    "plt.plot(theta_water, svp_water, label = 'water')\n",
    "plt.legend()\n",
    "plt.xlabel('Temperature (degree C)')\n",
    "plt.ylabel('Saturated Water Vapor Pressure (Pa)')\n",
    "plt.show()"
   ]
  },
  {
   "cell_type": "markdown",
   "metadata": {},
   "source": [
    "#### Example 4"
   ]
  },
  {
   "cell_type": "markdown",
   "metadata": {},
   "source": [
    "Comparison of the differential value calculated by numerical method and mathematical method."
   ]
  },
  {
   "cell_type": "code",
   "execution_count": 21,
   "metadata": {
    "collapsed": false
   },
   "outputs": [
    {
     "data": {
      "image/png": "[encoded data removed]",
      "text/plain": [
       "<Figure size 1200x320 with 1 Axes>"
      ]
     },
     "metadata": {},
     "output_type": "display_data"
    }
   ],
   "source": [
    "theta_ice   = [ 0.1 * x for x in range(-1000, 100) ]\n",
    "theta_water = [ 0.1 * x for x in range( -100,1000) ]\n",
    "\n",
    "plt.figure( figsize = ( 15, 4 ), dpi=80 )\n",
    "dsvp_dt_ice       = [ saturated_vapor_pressure_SONNTAG('ice',  t+273.15)[1] for t in theta_ice   ]\n",
    "dsvp_dt_ice_div   = [ (saturated_vapor_pressure_SONNTAG('ice',  t+273.25)[0] - saturated_vapor_pressure_SONNTAG('ice',  t+273.15)[0])/0.1 for t in theta_ice   ]\n",
    "dsvp_dt_water     = [ saturated_vapor_pressure_SONNTAG('water',t+273.15)[1] for t in theta_water ]\n",
    "dsvp_dt_water_div = [ (saturated_vapor_pressure_SONNTAG('water',t+273.25)[0] - saturated_vapor_pressure_SONNTAG('water',t+273.15)[0])/0.1 for t in theta_water ]\n",
    "\n",
    "plt.plot(theta_ice,   dsvp_dt_ice  ,     label = 'ice_math'  )\n",
    "plt.plot(theta_ice,   dsvp_dt_ice_div,   label = 'ice_num'  )\n",
    "plt.plot(theta_water,   dsvp_dt_water,     label = 'water_math')\n",
    "plt.plot(theta_water,   dsvp_dt_water_div, label = 'water_num')\n",
    "plt.legend()\n",
    "plt.xlabel('Temperature (degree C)')\n",
    "plt.ylabel('Saturated Water Vapor Pressure (Pa)')\n",
    "plt.show()"
   ]
  },
  {
   "cell_type": "markdown",
   "metadata": {},
   "source": [
    "The clear differece could not be shown."
   ]
  },
  {
   "cell_type": "markdown",
   "metadata": {},
   "source": [
    "### 2.4  Tetens (1930)"
   ]
  },
  {
   "cell_type": "markdown",
   "metadata": {},
   "source": [
    "$$\n",
    "P_{vs} = 6.1078 \\times 10^2 \\times e^{ \\left( a \\frac{T-273.16}{T-b} \\right) }\n",
    "$$"
   ]
  },
  {
   "cell_type": "markdown",
   "metadata": {},
   "source": [
    "$$\n",
    "\\frac{dP_{vs}}{dT} = 6.1078 \\times 10^2 \\times e^{ \\left( a \\frac{T-273.16}{T-b} \\right) } \\times \\left( \\frac{a}{T-b} - a \\frac{T-273.16}{(T-b)^2}  \\right)\n",
    "$$"
   ]
  },
  {
   "cell_type": "markdown",
   "metadata": {},
   "source": [
    "Where  \n",
    "$ T $ is the absolute temperature (K);   \n",
    "$ P_{vs} $ is the saturated vapor pressure (Pa)."
   ]
  },
  {
   "cell_type": "markdown",
   "metadata": {},
   "source": [
    "| | $a$ | $b$ |\n",
    "| :---: | :---: | :---: |\n",
    "| water | 17.2693882 | 35.86 |\n",
    "| ice | 21.8745584 | 7.66 |"
   ]
  },
  {
   "cell_type": "markdown",
   "metadata": {},
   "source": [
    "#### Reference"
   ]
  },
  {
   "cell_type": "markdown",
   "metadata": {},
   "source": [
    "- Tetens, O., 1930: uber einige meteorologische Begriffe, Z. Geophys., 6, 297-309"
   ]
  },
  {
   "cell_type": "markdown",
   "metadata": {},
   "source": [
    "↑ 未確認"
   ]
  },
  {
   "cell_type": "code",
   "execution_count": 22,
   "metadata": {
    "collapsed": true
   },
   "outputs": [],
   "source": [
    "def saturated_vapor_pressure_tetens(status, T):\n",
    "    Coeff = namedtuple('Coeff',('a','b'))\n",
    "    c = {\n",
    "        'water' : Coeff( 17.2693882, 35.86 ),\n",
    "        'ice'   : Coeff( 21.8745584,  7.66 )\n",
    "    }[status]\n",
    "    pvs     = 6.1078 * 10**2 * math.exp( c.a * ( T - 273.16 ) / ( T - c.b ) )\n",
    "    dpvs_dT = pvs * ( c.a / ( T - c.b ) - c.a * ( T - 273.16 ) / (( T - c.b )**2) )\n",
    "    return ( pvs, dpvs_dT )"
   ]
  },
  {
   "cell_type": "markdown",
   "metadata": {},
   "source": [
    "#### Example 1"
   ]
  },
  {
   "cell_type": "markdown",
   "metadata": {},
   "source": [
    "Saturated vapor pressure of 0 degree C."
   ]
  },
  {
   "cell_type": "code",
   "execution_count": 23,
   "metadata": {
    "collapsed": false
   },
   "outputs": [
    {
     "data": {
      "text/plain": [
       "(610.2769663563716, 50.284537900398256)"
      ]
     },
     "execution_count": 23,
     "metadata": {},
     "output_type": "execute_result"
    }
   ],
   "source": [
    "saturated_vapor_pressure_tetens('ice',273.15) "
   ]
  },
  {
   "cell_type": "code",
   "execution_count": 24,
   "metadata": {
    "collapsed": false
   },
   "outputs": [
    {
     "data": {
      "text/plain": [
       "(610.3356509064453, 44.420613912187754)"
      ]
     },
     "execution_count": 24,
     "metadata": {},
     "output_type": "execute_result"
    }
   ],
   "source": [
    "saturated_vapor_pressure_tetens('water',273.15)"
   ]
  },
  {
   "cell_type": "markdown",
   "metadata": {},
   "source": [
    "Saturated vapor pressure of 100 degree C."
   ]
  },
  {
   "cell_type": "code",
   "execution_count": 25,
   "metadata": {
    "collapsed": false
   },
   "outputs": [
    {
     "data": {
      "text/plain": [
       "(102157.02724929823, 3679.899907828715)"
      ]
     },
     "execution_count": 25,
     "metadata": {},
     "output_type": "execute_result"
    }
   ],
   "source": [
    "saturated_vapor_pressure_tetens('water', 373.15)"
   ]
  },
  {
   "cell_type": "markdown",
   "metadata": {},
   "source": [
    "#### Example 2"
   ]
  },
  {
   "cell_type": "markdown",
   "metadata": {},
   "source": [
    "$$\n",
    "\\frac{dP}{dT} \\bigg|_{t=273.15} \\simeq \\frac{P\\mid_{t=274.15}-P \\mid_{t=273.15}}{(274.15-273.15)}\n",
    "$$"
   ]
  },
  {
   "cell_type": "code",
   "execution_count": 26,
   "metadata": {
    "collapsed": false
   },
   "outputs": [
    {
     "data": {
      "text/plain": [
       "(44.420613912187754, 45.87657754668339)"
      ]
     },
     "execution_count": 26,
     "metadata": {},
     "output_type": "execute_result"
    }
   ],
   "source": [
    "value0 = saturated_vapor_pressure_tetens('water',273.15)\n",
    "value1 = saturated_vapor_pressure_tetens('water',274.15)\n",
    "( value0[1], ( value1[0] - value0[0] )/1.0 )"
   ]
  },
  {
   "cell_type": "markdown",
   "metadata": {},
   "source": [
    "#### Example 3"
   ]
  },
  {
   "cell_type": "code",
   "execution_count": 27,
   "metadata": {
    "collapsed": false
   },
   "outputs": [
    {
     "data": {
      "image/png": "[encoded data removed]",
      "text/plain": [
       "<Figure size 1200x320 with 1 Axes>"
      ]
     },
     "metadata": {},
     "output_type": "display_data"
    }
   ],
   "source": [
    "theta_ice   = [ 0.1 * x for x in range(-1000, 100) ]\n",
    "theta_water = [ 0.1 * x for x in range( -100,1000) ]\n",
    "\n",
    "plt.figure( figsize = ( 15, 4 ), dpi=80 )\n",
    "svp_ice   = [ saturated_vapor_pressure_tetens('ice',  t+273.15)[0] for t in theta_ice   ]\n",
    "svp_water = [ saturated_vapor_pressure_tetens('water',t+273.15)[0] for t in theta_water ]\n",
    "plt.plot(theta_ice,   svp_ice  , label = 'ice'  )\n",
    "plt.plot(theta_water, svp_water, label = 'water')\n",
    "plt.legend()\n",
    "plt.xlabel('Temperature (degree C)')\n",
    "plt.ylabel('Saturated Water Vapor Pressure (Pa)')\n",
    "plt.show()"
   ]
  },
  {
   "cell_type": "markdown",
   "metadata": {},
   "source": [
    "#### Example 4"
   ]
  },
  {
   "cell_type": "markdown",
   "metadata": {},
   "source": [
    "Comparison of the differential value calculated by numerical method and mathematical method."
   ]
  },
  {
   "cell_type": "code",
   "execution_count": 28,
   "metadata": {
    "collapsed": false
   },
   "outputs": [
    {
     "data": {
      "image/png": "[encoded data removed]",
      "text/plain": [
       "<Figure size 1200x320 with 1 Axes>"
      ]
     },
     "metadata": {},
     "output_type": "display_data"
    }
   ],
   "source": [
    "theta_ice   = [ 0.1 * x for x in range(-1000, 100) ]\n",
    "theta_water = [ 0.1 * x for x in range( -100,1000) ]\n",
    "\n",
    "plt.figure( figsize = ( 15, 4 ), dpi=80 )\n",
    "dsvp_dt_ice       = [ saturated_vapor_pressure_tetens('ice',  t+273.15)[1] for t in theta_ice   ]\n",
    "dsvp_dt_ice_div   = [ (saturated_vapor_pressure_tetens('ice',  t+273.25)[0] - saturated_vapor_pressure_tetens('ice',  t+273.15)[0])/0.1 for t in theta_ice   ]\n",
    "dsvp_dt_water     = [ saturated_vapor_pressure_tetens('water',t+273.15)[1] for t in theta_water ]\n",
    "dsvp_dt_water_div = [ (saturated_vapor_pressure_tetens('water',t+273.25)[0] - saturated_vapor_pressure_tetens('water',t+273.15)[0])/0.1 for t in theta_water ]\n",
    "\n",
    "plt.plot(theta_ice,   dsvp_dt_ice  ,     label = 'ice_math'  )\n",
    "plt.plot(theta_ice,   dsvp_dt_ice_div,   label = 'ice_num'  )\n",
    "plt.plot(theta_water,   dsvp_dt_water,     label = 'water_math')\n",
    "plt.plot(theta_water,   dsvp_dt_water_div, label = 'water_num')\n",
    "plt.legend()\n",
    "plt.xlabel('Temperature (degree C)')\n",
    "plt.ylabel('Saturated Water Vapor Pressure (Pa)')\n",
    "plt.show()"
   ]
  },
  {
   "cell_type": "markdown",
   "metadata": {},
   "source": [
    "The clear differece could not be shown."
   ]
  },
  {
   "cell_type": "markdown",
   "metadata": {},
   "source": [
    "### 2.5 Briggs an Sacket (1989)"
   ]
  },
  {
   "cell_type": "markdown",
   "metadata": {},
   "source": [
    "$$\n",
    "k = \\frac{a_1}{T} + a_2 + a_3 \\times \\ln(T) + a_4 \\times T + a_5 \\times T^2 - \\ln(10)\n",
    "$$"
   ]
  },
  {
   "cell_type": "markdown",
   "metadata": {},
   "source": [
    "$$\n",
    "P_{vs} = e^k\n",
    "$$"
   ]
  },
  {
   "cell_type": "markdown",
   "metadata": {},
   "source": [
    "$$\n",
    "\\frac{dP_{vs}}{dT} = e_k \\times \\left( - \\frac{a_1}{T^2} + \\frac{a_3}{T} + a_4 + 2 \\times a_5 \\times T \\right)\n",
    "$$"
   ]
  },
  {
   "cell_type": "markdown",
   "metadata": {},
   "source": [
    "Where  \n",
    "$ T $ is the absolute temperature (K);   \n",
    "$ P_{vs} $ is the saturated vapor pressure (Pa)."
   ]
  },
  {
   "cell_type": "markdown",
   "metadata": {},
   "source": [
    "| | $a_1$ | $a_2$ | $a_3$ | $a_4$ | $a_5$ |\n",
    "| :---: | :---: | :---: | :---: | :---: | :---: |\n",
    "| water | -2313.0338 | -164.03307  | 38.053682 | -0.13844344 | 0.000074465367 |\n",
    "| ice   | -5631.1206 |   -8.363602 |  8.2312   | -0.03861449 | 0.0000277494   |"
   ]
  },
  {
   "cell_type": "code",
   "execution_count": 29,
   "metadata": {
    "collapsed": true
   },
   "outputs": [],
   "source": [
    "def saturated_vapor_pressure_BS(status, T):\n",
    "    Coeff = namedtuple('Coeff', ('a1','a2','a3','a4','a5'))\n",
    "    c = {\n",
    "        'water' : Coeff( -2313.0338, -164.03307,  38.053682, -0.13844344, 0.000074465367),\n",
    "        'ice'   : Coeff( -5631.1206,   -8.363602,  8.2312,   -0.03861449, 0.0000277494)\n",
    "    }[status]\n",
    "    k = c.a1 / T + c.a2 + c.a3 * math.log(T) + c.a4 * T + c.a5 * T**2 - math.log(10.0)\n",
    "    pvs     = math.exp(k)\n",
    "    dpvs_dT = pvs * ( -c.a1 / T**2 + c.a3 / T + c.a4 + 2 * c.a5 * T )\n",
    "    return (pvs, dpvs_dT)"
   ]
  },
  {
   "cell_type": "markdown",
   "metadata": {},
   "source": [
    "#### Example 1"
   ]
  },
  {
   "cell_type": "markdown",
   "metadata": {},
   "source": [
    "Saturated vapor pressure of 0 degree C."
   ]
  },
  {
   "cell_type": "code",
   "execution_count": 30,
   "metadata": {
    "collapsed": false
   },
   "outputs": [
    {
     "data": {
      "text/plain": [
       "(613.0158174136862, 50.36078539721189)"
      ]
     },
     "execution_count": 30,
     "metadata": {},
     "output_type": "execute_result"
    }
   ],
   "source": [
    "saturated_vapor_pressure_BS('ice',273.15)"
   ]
  },
  {
   "cell_type": "code",
   "execution_count": 31,
   "metadata": {
    "collapsed": false
   },
   "outputs": [
    {
     "data": {
      "text/plain": [
       "(613.027145489425, 44.47664967709252)"
      ]
     },
     "execution_count": 31,
     "metadata": {},
     "output_type": "execute_result"
    }
   ],
   "source": [
    "saturated_vapor_pressure_BS('water',273.15)"
   ]
  },
  {
   "cell_type": "markdown",
   "metadata": {},
   "source": [
    "Saturated vapor pressure of 100 degree C."
   ]
  },
  {
   "cell_type": "code",
   "execution_count": 32,
   "metadata": {
    "collapsed": false
   },
   "outputs": [
    {
     "data": {
      "text/plain": [
       "(101447.18110316222, 3623.833971539886)"
      ]
     },
     "execution_count": 32,
     "metadata": {},
     "output_type": "execute_result"
    }
   ],
   "source": [
    "saturated_vapor_pressure_BS('water', 373.15)"
   ]
  },
  {
   "cell_type": "markdown",
   "metadata": {},
   "source": [
    "#### Example 2"
   ]
  },
  {
   "cell_type": "markdown",
   "metadata": {},
   "source": [
    "$$\n",
    "\\frac{dP}{dT} \\bigg|_{t=273.15} \\simeq \\frac{P\\mid_{t=274.15}-P \\mid_{t=273.15}}{(274.15-273.15)}\n",
    "$$"
   ]
  },
  {
   "cell_type": "code",
   "execution_count": 33,
   "metadata": {
    "collapsed": false
   },
   "outputs": [
    {
     "data": {
      "text/plain": [
       "(44.47664967709252, 45.93672266537976)"
      ]
     },
     "execution_count": 33,
     "metadata": {},
     "output_type": "execute_result"
    }
   ],
   "source": [
    "value0 = saturated_vapor_pressure_BS('water',273.15)\n",
    "value1 = saturated_vapor_pressure_BS('water',274.15)\n",
    "( value0[1], ( value1[0] - value0[0] )/1.0 )"
   ]
  },
  {
   "cell_type": "markdown",
   "metadata": {},
   "source": [
    "#### Example 3"
   ]
  },
  {
   "cell_type": "code",
   "execution_count": 34,
   "metadata": {
    "collapsed": false
   },
   "outputs": [
    {
     "data": {
      "image/png": "[encoded data removed]",
      "text/plain": [
       "<Figure size 1200x320 with 1 Axes>"
      ]
     },
     "metadata": {},
     "output_type": "display_data"
    }
   ],
   "source": [
    "theta_ice   = [ 0.1 * x for x in range(-1000, 100) ]\n",
    "theta_water = [ 0.1 * x for x in range( -100,1000) ]\n",
    "\n",
    "plt.figure( figsize = ( 15, 4 ), dpi=80 )\n",
    "svp_ice   = [ saturated_vapor_pressure_BS('ice',  t+273.15)[0] for t in theta_ice   ]\n",
    "svp_water = [ saturated_vapor_pressure_BS('water',t+273.15)[0] for t in theta_water ]\n",
    "plt.plot(theta_ice,   svp_ice  , label = 'ice'  )\n",
    "plt.plot(theta_water, svp_water, label = 'water')\n",
    "plt.legend()\n",
    "plt.xlabel('Temperature (degree C)')\n",
    "plt.ylabel('Saturated Water Vapor Pressure (Pa)')\n",
    "plt.show()"
   ]
  },
  {
   "cell_type": "markdown",
   "metadata": {},
   "source": [
    "#### Example 4"
   ]
  },
  {
   "cell_type": "markdown",
   "metadata": {},
   "source": [
    "Comparison of the differential value calculated by numerical method and mathematical method."
   ]
  },
  {
   "cell_type": "code",
   "execution_count": 35,
   "metadata": {
    "collapsed": false
   },
   "outputs": [
    {
     "data": {
      "image/png": "[encoded data removed]",
      "text/plain": [
       "<Figure size 1200x320 with 1 Axes>"
      ]
     },
     "metadata": {},
     "output_type": "display_data"
    }
   ],
   "source": [
    "theta_ice   = [ 0.1 * x for x in range(-1000, 100) ]\n",
    "theta_water = [ 0.1 * x for x in range( -100,1000) ]\n",
    "\n",
    "plt.figure( figsize = ( 15, 4 ), dpi=80 )\n",
    "dsvp_dt_ice       = [ saturated_vapor_pressure_BS('ice',  t+273.15)[1] for t in theta_ice   ]\n",
    "dsvp_dt_ice_div   = [ (saturated_vapor_pressure_BS('ice',  t+273.25)[0] - saturated_vapor_pressure_BS('ice',  t+273.15)[0])/0.1 for t in theta_ice   ]\n",
    "dsvp_dt_water     = [ saturated_vapor_pressure_BS('water',t+273.15)[1] for t in theta_water ]\n",
    "dsvp_dt_water_div = [ (saturated_vapor_pressure_BS('water',t+273.25)[0] - saturated_vapor_pressure_BS('water',t+273.15)[0])/0.1 for t in theta_water ]\n",
    "\n",
    "plt.plot(theta_ice,   dsvp_dt_ice  ,     label = 'ice_math'  )\n",
    "plt.plot(theta_ice,   dsvp_dt_ice_div,   label = 'ice_num'  )\n",
    "plt.plot(theta_water,   dsvp_dt_water,     label = 'water_math')\n",
    "plt.plot(theta_water,   dsvp_dt_water_div, label = 'water_num')\n",
    "plt.legend()\n",
    "plt.xlabel('Temperature (degree C)')\n",
    "plt.ylabel('Saturated Water Vapor Pressure (Pa)')\n",
    "plt.show()"
   ]
  },
  {
   "cell_type": "markdown",
   "metadata": {},
   "source": [
    "The clear differece could not be shown."
   ]
  },
  {
   "cell_type": "markdown",
   "metadata": {},
   "source": [
    "### 2.6 Antoine"
   ]
  },
  {
   "cell_type": "markdown",
   "metadata": {},
   "source": [
    "$$\n",
    "k = A - \\left( \\frac{B}{T+C} \\right)\n",
    "$$"
   ]
  },
  {
   "cell_type": "markdown",
   "metadata": {},
   "source": [
    "$$\n",
    "p_{vs} = 10^k\n",
    "$$"
   ]
  },
  {
   "cell_type": "markdown",
   "metadata": {},
   "source": [
    "$$\n",
    "\\frac{dP_{vs}}{dT} = 10^k \\times \\log 10 \\times \\left( \\frac{B}{(T+C)^2} \\right)\n",
    "$$"
   ]
  },
  {
   "cell_type": "markdown",
   "metadata": {},
   "source": [
    "Where  \n",
    "$ T $ is the absolute temperature (K);   \n",
    "$ P_{vs} $ is the saturated vapor pressure (mmHg)."
   ]
  },
  {
   "cell_type": "markdown",
   "metadata": {},
   "source": [
    "The coefficiecnts in Ooe, 1976 are,  \n",
    "$ A = 8.02754 $;  \n",
    "$ B = 1705.616 $;  \n",
    "$ C = 231.405 - 273.15 $.  \n",
    "Ooe 1976: Shuzo Ooe, 電子計算機による蒸気圧データ, 1976"
   ]
  },
  {
   "cell_type": "markdown",
   "metadata": {},
   "source": [
    "(参考)  \n",
    "- Stull, D.R., Vapor Pressure of Pure Substances Organic Compounds, Ind. Eng. Chem., 1947, 39, 517-540"
   ]
  },
  {
   "cell_type": "code",
   "execution_count": 36,
   "metadata": {
    "collapsed": true
   },
   "outputs": [],
   "source": [
    "def saturated_vapor_pressure_antoine(T):\n",
    "    A = 8.02754\n",
    "    B = 1705.616\n",
    "    C = 231.405 - 273.15\n",
    "    pvs = 10**(A - (B/(T+C)))\n",
    "    dpvs_dt = pvs * math.log(10) * ( B / ( T + C )**2 )\n",
    "    return (pvs * 101325 / 760, dpvs_dt * 101325 / 760) # 760mmHg = 101325 Pa"
   ]
  },
  {
   "cell_type": "markdown",
   "metadata": {},
   "source": [
    "#### Example 1"
   ]
  },
  {
   "cell_type": "markdown",
   "metadata": {},
   "source": [
    "Saturated vapor pressure of 0 degree C."
   ]
  },
  {
   "cell_type": "code",
   "execution_count": 37,
   "metadata": {
    "collapsed": false
   },
   "outputs": [
    {
     "data": {
      "text/plain": [
       "(604.987807177887, 44.370885402709014)"
      ]
     },
     "execution_count": 37,
     "metadata": {},
     "output_type": "execute_result"
    }
   ],
   "source": [
    "saturated_vapor_pressure_antoine(273.15) "
   ]
  },
  {
   "cell_type": "markdown",
   "metadata": {},
   "source": [
    "Saturated vapor pressure of 100 degree C."
   ]
  },
  {
   "cell_type": "code",
   "execution_count": 38,
   "metadata": {
    "collapsed": false
   },
   "outputs": [
    {
     "data": {
      "text/plain": [
       "(101349.54807197973, 3624.104013521203)"
      ]
     },
     "execution_count": 38,
     "metadata": {},
     "output_type": "execute_result"
    }
   ],
   "source": [
    "saturated_vapor_pressure_antoine(373.15) "
   ]
  },
  {
   "cell_type": "markdown",
   "metadata": {},
   "source": [
    "#### Example 2"
   ]
  },
  {
   "cell_type": "markdown",
   "metadata": {},
   "source": [
    "$$\n",
    "\\frac{dP}{dT} \\bigg|_{t=273.15} \\simeq \\frac{P\\mid_{t=274.15}-P \\mid_{t=273.15}}{(274.15-273.15)}\n",
    "$$"
   ]
  },
  {
   "cell_type": "code",
   "execution_count": 39,
   "metadata": {
    "collapsed": false
   },
   "outputs": [
    {
     "data": {
      "text/plain": [
       "(44.370885402709014, 45.83310734214649)"
      ]
     },
     "execution_count": 39,
     "metadata": {},
     "output_type": "execute_result"
    }
   ],
   "source": [
    "value0 = saturated_vapor_pressure_antoine(273.15)\n",
    "value1 = saturated_vapor_pressure_antoine(274.15)\n",
    "\n",
    "( value0[1], ( value1[0] - value0[0] )/1.0 )"
   ]
  },
  {
   "cell_type": "markdown",
   "metadata": {},
   "source": [
    "#### Example 3"
   ]
  },
  {
   "cell_type": "code",
   "execution_count": 40,
   "metadata": {
    "collapsed": false
   },
   "outputs": [
    {
     "data": {
      "image/png": "[encoded data removed]",
      "text/plain": [
       "<Figure size 1080x288 with 1 Axes>"
      ]
     },
     "metadata": {},
     "output_type": "display_data"
    }
   ],
   "source": [
    "theta = [ 0.1 * x for x in range(-1000,1000) ]\n",
    "\n",
    "plt.figure( figsize = (15,4) )\n",
    "svp = [ saturated_vapor_pressure_antoine(t+273.15)[0] for t in theta ]\n",
    "plt.plot(theta, svp)\n",
    "plt.xlabel('Temperature (degree C)')\n",
    "plt.ylabel('Saturated Water Vapor Pressure (Pa)')\n",
    "plt.show()"
   ]
  },
  {
   "cell_type": "markdown",
   "metadata": {},
   "source": [
    "#### Example 4"
   ]
  },
  {
   "cell_type": "markdown",
   "metadata": {},
   "source": [
    "Comparison of the differential value calculated by numerical method and mathematical method."
   ]
  },
  {
   "cell_type": "code",
   "execution_count": 41,
   "metadata": {
    "collapsed": false
   },
   "outputs": [
    {
     "data": {
      "image/png": "[encoded data removed]",
      "text/plain": [
       "<Figure size 1080x288 with 1 Axes>"
      ]
     },
     "metadata": {},
     "output_type": "display_data"
    }
   ],
   "source": [
    "theta = [ 0.1 * x for x in range(-1000,1000) ]\n",
    "\n",
    "plt.figure(figsize = (15,4))\n",
    "dsvp_dt_math = [ saturated_vapor_pressure_antoine(t+273.15)[1] for t in theta ]\n",
    "dsvp_dt_num  = [ (saturated_vapor_pressure_antoine(t+273.25)[0] - saturated_vapor_pressure_antoine(t+273.15)[0] )/0.1 for t in theta ]\n",
    "\n",
    "plt.plot(theta, dsvp_dt_math, label='mathematical')\n",
    "plt.plot(theta, dsvp_dt_num,  label='numerical')\n",
    "plt.legend()\n",
    "plt.xlabel('Temperature (degree C)')\n",
    "plt.ylabel('Saturated Water Vapor Pressure (Pa)')\n",
    "plt.show()"
   ]
  },
  {
   "cell_type": "markdown",
   "metadata": {},
   "source": [
    "The clear differece could not be shown."
   ]
  },
  {
   "cell_type": "markdown",
   "metadata": {},
   "source": [
    "## 2.7 Goff Gratch"
   ]
  },
  {
   "cell_type": "markdown",
   "metadata": {},
   "source": [
    "$$\n",
    "k_{water} = a_1 \\left( \\frac{T_{st}}{T} - 1 \\right) + a_2 \\log_{10} \\left( \\frac{T_{st}}{T} \\right) + a_3  \\left( 10^{ a_4 \\left(1- \\frac{T}{T_{st}} \\right) } - 1 \\right) + a_5 \\left( 10^{ a_6 \\left( \\frac{T_{st}}{T} - 1 \\right) } - 1 \\right) + \\log_{10} e_{st}^*\n",
    "$$"
   ]
  },
  {
   "cell_type": "markdown",
   "metadata": {},
   "source": [
    "$$\n",
    "P_{vs} = 10^{k_{water}} \\text{  over water}\n",
    "$$"
   ]
  },
  {
   "cell_type": "markdown",
   "metadata": {},
   "source": [
    "$$\n",
    "\\frac{dP_{vs}}{dT} = 10^{k_{water}} \\times \\log 10 \\times \\left( - a_1 \\left( \\frac{T_{st}}{T^2} \\right) - \\frac{a_2}{T \\log 10} - a_3 \\times \\log(10) \\times 10^{a_4 \\left(1- \\frac{T}{T_{st}} \\right) } \\times \\frac{a_4}{T_{st}} - a_5 \\times \\log(10) \\times 10^{ a_6 \\left( \\frac{T_{st}}{T} - 1 \\right) } \\times a_6 \\times \\frac{T_{st}}{T^2}                   \\right)\n",
    "$$"
   ]
  },
  {
   "cell_type": "markdown",
   "metadata": {},
   "source": [
    "$$\n",
    "\\begin{array}{}\n",
    "a_1 &= -7.90298 \\\\\n",
    "a_2 &= 5.02808 \\\\\n",
    "a_3 &= - 1.3816 \\times 10^{-7} \\\\\n",
    "a_4 &= 11.344 \\\\\n",
    "a_5 &= 8.1328 \\times 10^{-3} \\\\\n",
    "a_6 &= -3.49149\n",
    "\\end{array}\n",
    "$$"
   ]
  },
  {
   "cell_type": "markdown",
   "metadata": {},
   "source": [
    "$$\n",
    "k_{ice} = b_1 \\left( \\frac{T_0}{T} - 1 \\right) + b_2 \\log_{10} \\left( \\frac{T_0}{T} \\right) + b_3 \\left( 1 - \\frac{T}{T_0} \\right) + \\log_{10} e^*_{i0}\n",
    "$$"
   ]
  },
  {
   "cell_type": "markdown",
   "metadata": {},
   "source": [
    "$$\n",
    "P_{vs} = 10^{k_{ice}} \\text{  over ice}\n",
    "$$"
   ]
  },
  {
   "cell_type": "markdown",
   "metadata": {},
   "source": [
    "$$\n",
    "\\frac{dP_{vs}}{dT} = 10^{k_{ice}} \\times \\log(10) \\times \\left( - b_1 \\times \\frac{T_0}{T^2} - \\frac{b_2}{\\log(10) \\times T} - \\frac{b_3}{T_0} \\right)\n",
    "$$"
   ]
  },
  {
   "cell_type": "markdown",
   "metadata": {},
   "source": [
    "$$\n",
    "\\begin{array}{}\n",
    "b_1 &= -9.09718 \\\\\n",
    "b_2 &= -3.56654 \\\\\n",
    "b_3 &= 0.876793 \\\\\n",
    "\\end{array}\n",
    "$$"
   ]
  },
  {
   "cell_type": "markdown",
   "metadata": {},
   "source": [
    "Where  \n",
    "$P_{vs}$ is the saturated water vapor pressure (hPa);  \n",
    "$T$ is the absolute air temperature (K);  \n",
    "$T_{st}$ is the steam-point (i.e. boiling point at 1 atm.) temperature (373.15 K);  \n",
    "$e^*_{st}$ is the saturated water vapor pressure at the steam-point pressure (1 atm = 1013.25 hPa);  \n",
    "$T_0$ is the ice-point (triple point) temperature (273.16 K);  \n",
    "$e^*_{i0}$ is the saturated water vapor pressure at the ice-point pressure (6.1173 hPa)."
   ]
  },
  {
   "cell_type": "code",
   "execution_count": 42,
   "metadata": {
    "collapsed": true
   },
   "outputs": [],
   "source": [
    "def saturated_vapor_pressure_GoffGratch(status, T):\n",
    "    a_1  =   -7.90298\n",
    "    a_2  =    5.02808\n",
    "    a_3  =   -1.3816 * 10**(-7)\n",
    "    a_4  =   11.344\n",
    "    a_5  =    8.1328 * 10**(-3)\n",
    "    a_6  =   -3.49149\n",
    "    T_st =  373.15\n",
    "    e_st = 1013.25\n",
    "    k_w  = a_1 * ( T_st/T - 1 ) + a_2 * math.log10( T_st/T ) + a_3 * ( 10**(a_4*(1-T/T_st)) - 1 ) + a_5 * ( 10**(a_6*(T_st/T-1)) - 1 ) + math.log10(e_st)\n",
    "    pvs_w = 10**k_w\n",
    "    dpvs_dT_w = pvs_w * math.log(10) * ( - a_1 * T_st / T**2 - a_2 / T / math.log(10) - a_3 * math.log(10) * 10**(a_4*(1-T/T_st)) * a_4 / T_st - a_5 * math.log(10) * 10**(a_6*(T_st/T-1)) * a_6 * T_st / T**2 )\n",
    "    b_1  =  -9.09718\n",
    "    b_2  =  -3.56654\n",
    "    b_3  =   0.876793\n",
    "    T_0  = 273.16\n",
    "    e_i0 =   6.1173\n",
    "    k_i  = b_1 * ( T_0/T - 1 ) + b_2 * math.log10( T_0/T ) + b_3 * (1-T/T_0) + math.log10(e_i0)\n",
    "    pvs_i = 10**k_i\n",
    "    dpvs_dT_i = pvs_i * math.log(10) * ( -b_1 * T_0 / T**2 - b_2 / math.log(10) / T - b_3 / T_0 )\n",
    "    return {\n",
    "        'water' : (pvs_w * 100, dpvs_dT_w * 100),\n",
    "        'ice'   : (pvs_i * 100, dpvs_dT_i * 100)\n",
    "    }[status]"
   ]
  },
  {
   "cell_type": "markdown",
   "metadata": {},
   "source": [
    "#### Reference"
   ]
  },
  {
   "cell_type": "markdown",
   "metadata": {},
   "source": [
    "- Goff, J. A., and S. Gratch, Low-pressure properties of water from -160 to 212 F, in Transactions of the American society of heating and ventilating engineers, pp.95-122, presented at the 52nd annual meeting of the American society of heating and ventilating engineers, New York, 1946"
   ]
  },
  {
   "cell_type": "markdown",
   "metadata": {},
   "source": [
    "#### Example 1"
   ]
  },
  {
   "cell_type": "markdown",
   "metadata": {},
   "source": [
    "Saturated vapor pressure of 0 degree C."
   ]
  },
  {
   "cell_type": "code",
   "execution_count": 43,
   "metadata": {
    "collapsed": false
   },
   "outputs": [
    {
     "data": {
      "text/plain": [
       "(611.2264301073889, 50.33811899583799)"
      ]
     },
     "execution_count": 43,
     "metadata": {},
     "output_type": "execute_result"
    }
   ],
   "source": [
    "saturated_vapor_pressure_GoffGratch('ice',273.15)"
   ]
  },
  {
   "cell_type": "code",
   "execution_count": 44,
   "metadata": {
    "collapsed": false
   },
   "outputs": [
    {
     "data": {
      "text/plain": [
       "(610.6632501882182, 44.374468059838875)"
      ]
     },
     "execution_count": 44,
     "metadata": {},
     "output_type": "execute_result"
    }
   ],
   "source": [
    "saturated_vapor_pressure_GoffGratch('water',273.15)"
   ]
  },
  {
   "cell_type": "markdown",
   "metadata": {},
   "source": [
    "Saturated vapor pressure of 100 degree C."
   ]
  },
  {
   "cell_type": "code",
   "execution_count": 45,
   "metadata": {
    "collapsed": false
   },
   "outputs": [
    {
     "data": {
      "text/plain": [
       "(101324.99999999996, 3616.8429931247674)"
      ]
     },
     "execution_count": 45,
     "metadata": {},
     "output_type": "execute_result"
    }
   ],
   "source": [
    "saturated_vapor_pressure_GoffGratch('water', 373.15)"
   ]
  },
  {
   "cell_type": "markdown",
   "metadata": {},
   "source": [
    "#### Example 2"
   ]
  },
  {
   "cell_type": "markdown",
   "metadata": {},
   "source": [
    "$$\n",
    "\\frac{dP}{dT} \\bigg|_{t=273.15} \\simeq \\frac{P\\mid_{t=274.15}-P \\mid_{t=273.15}}{(274.15-273.15)}\n",
    "$$"
   ]
  },
  {
   "cell_type": "code",
   "execution_count": 46,
   "metadata": {
    "collapsed": false
   },
   "outputs": [
    {
     "data": {
      "text/plain": [
       "(44.374468059838875, 45.83048282656739)"
      ]
     },
     "execution_count": 46,
     "metadata": {},
     "output_type": "execute_result"
    }
   ],
   "source": [
    "value0 = saturated_vapor_pressure_GoffGratch('water',273.15)\n",
    "value1 = saturated_vapor_pressure_GoffGratch('water',274.15)\n",
    "( value0[1], ( value1[0] - value0[0] )/1.0 )"
   ]
  },
  {
   "cell_type": "markdown",
   "metadata": {},
   "source": [
    "#### Example 3"
   ]
  },
  {
   "cell_type": "code",
   "execution_count": 47,
   "metadata": {
    "collapsed": false
   },
   "outputs": [
    {
     "data": {
      "image/png": "[encoded data removed]",
      "text/plain": [
       "<Figure size 1200x320 with 1 Axes>"
      ]
     },
     "metadata": {},
     "output_type": "display_data"
    }
   ],
   "source": [
    "theta_ice   = [ 0.1 * x for x in range(-1000, 100) ]\n",
    "theta_water = [ 0.1 * x for x in range( -100,1000) ]\n",
    "\n",
    "plt.figure( figsize = ( 15, 4 ), dpi=80 )\n",
    "svp_ice   = [ saturated_vapor_pressure_GoffGratch('ice',  t+273.15)[0] for t in theta_ice   ]\n",
    "svp_water = [ saturated_vapor_pressure_GoffGratch('water',t+273.15)[0] for t in theta_water ]\n",
    "plt.plot(theta_ice,   svp_ice  , label = 'ice'  )\n",
    "plt.plot(theta_water, svp_water, label = 'water')\n",
    "plt.legend()\n",
    "plt.xlabel('Temperature (degree C)')\n",
    "plt.ylabel('Saturated Water Vapor Pressure (Pa)')\n",
    "plt.show()"
   ]
  },
  {
   "cell_type": "markdown",
   "metadata": {},
   "source": [
    "#### Example 4"
   ]
  },
  {
   "cell_type": "markdown",
   "metadata": {},
   "source": [
    "Comparison of the differential value calculated by numerical method and mathematical method."
   ]
  },
  {
   "cell_type": "code",
   "execution_count": 48,
   "metadata": {
    "collapsed": false
   },
   "outputs": [
    {
     "data": {
      "image/png": "[encoded data removed]",
      "text/plain": [
       "<Figure size 1200x320 with 1 Axes>"
      ]
     },
     "metadata": {},
     "output_type": "display_data"
    }
   ],
   "source": [
    "theta_ice   = [ 0.1 * x for x in range(-1000, 100) ]\n",
    "theta_water = [ 0.1 * x for x in range( -100,1000) ]\n",
    "\n",
    "plt.figure( figsize = ( 15, 4 ), dpi=80 )\n",
    "dsvp_dt_ice       = [ saturated_vapor_pressure_GoffGratch('ice',  t+273.15)[1] for t in theta_ice   ]\n",
    "dsvp_dt_ice_div   = [ (saturated_vapor_pressure_GoffGratch('ice',  t+273.25)[0] - saturated_vapor_pressure_GoffGratch('ice',  t+273.15)[0])/0.1 for t in theta_ice   ]\n",
    "dsvp_dt_water     = [ saturated_vapor_pressure_GoffGratch('water',t+273.15)[1] for t in theta_water ]\n",
    "dsvp_dt_water_div = [ (saturated_vapor_pressure_GoffGratch('water',t+273.25)[0] - saturated_vapor_pressure_GoffGratch('water',t+273.15)[0])/0.1 for t in theta_water ]\n",
    "\n",
    "plt.plot(theta_ice,   dsvp_dt_ice  ,     label = 'ice_math'  )\n",
    "plt.plot(theta_ice,   dsvp_dt_ice_div,   label = 'ice_num'  )\n",
    "plt.plot(theta_water,   dsvp_dt_water,     label = 'water_math')\n",
    "plt.plot(theta_water,   dsvp_dt_water_div, label = 'water_num')\n",
    "plt.legend()\n",
    "plt.xlabel('Temperature (degree C)')\n",
    "plt.ylabel('Saturated Water Vapor Pressure (Pa)')\n",
    "plt.show()"
   ]
  },
  {
   "cell_type": "markdown",
   "metadata": {},
   "source": [
    "The clear differece could not be shown."
   ]
  },
  {
   "cell_type": "markdown",
   "metadata": {},
   "source": [
    "## 3. Comparison of functions"
   ]
  },
  {
   "cell_type": "code",
   "execution_count": 49,
   "metadata": {
    "collapsed": false,
    "scrolled": true
   },
   "outputs": [
    {
     "data": {
      "image/png": "[encoded data removed]",
      "text/plain": [
       "<Figure size 1080x288 with 1 Axes>"
      ]
     },
     "metadata": {},
     "output_type": "display_data"
    }
   ],
   "source": [
    "theta_ice   = [ 0.1 * x for x in range(-1000, 100) ]\n",
    "theta_water = [ 0.1 * x for x in range( -100,1000) ]\n",
    "theta_all   = [ 0.1 * x for x in range(-1000,1000) ]\n",
    "\n",
    "plt.figure( figsize = (15,4) )\n",
    "plt.plot(theta_ice,   [ saturated_vapor_pressure_SONNTAG('ice',      t+273.15)[0] for t in theta_ice   ], label = 'SONNTAG_ice'             )\n",
    "plt.plot(theta_water, [ saturated_vapor_pressure_SONNTAG('water',    t+273.15)[0] for t in theta_water ], label = 'SONNTAG_water'           )\n",
    "plt.plot(theta_all,   [ saturated_vapor_pressure_WMO(                t+273.15)[0] for t in theta_all   ], label = 'WMO'                     )\n",
    "plt.plot(theta_ice,   [ saturated_vapor_pressure_WH('ice',           t+273.15)[0] for t in theta_ice   ], label = 'Wexler-Hyland_ice'       )\n",
    "plt.plot(theta_water, [ saturated_vapor_pressure_WH('water',         t+273.15)[0] for t in theta_water ], label = 'Wexler-Hyland_water'     )\n",
    "plt.plot(theta_ice,   [ saturated_vapor_pressure_tetens('ice',       t+273.15)[0] for t in theta_ice   ], label = 'Tetens_ice'              )\n",
    "plt.plot(theta_water, [ saturated_vapor_pressure_tetens('water',     t+273.15)[0] for t in theta_water ], label = 'Tetens_water'            )\n",
    "plt.plot(theta_ice,   [ saturated_vapor_pressure_BS('ice',           t+273.15)[0] for t in theta_ice   ], label = 'Briggs and Sacket_ice'   )\n",
    "plt.plot(theta_water, [ saturated_vapor_pressure_BS('water',         t+273.15)[0] for t in theta_water ], label = 'Briggs and Sacket_water' )\n",
    "plt.plot(theta_all,   [ saturated_vapor_pressure_antoine(            t+273.15)[0] for t in theta_all   ], label = 'Antoine'                 )\n",
    "plt.plot(theta_ice,   [ saturated_vapor_pressure_GoffGratch('ice',   t+273.15)[0] for t in theta_ice   ], label = 'GoffGratch_ice'          )\n",
    "plt.plot(theta_water, [ saturated_vapor_pressure_GoffGratch('water', t+273.15)[0] for t in theta_water ], label = 'GoffGratch_water'        )\n",
    "\n",
    "plt.legend()\n",
    "plt.xlabel('Temperature (degree C)')\n",
    "plt.ylabel('Saturated Water Vapor Pressure (Pa)')\n",
    "plt.show()"
   ]
  },
  {
   "cell_type": "markdown",
   "metadata": {},
   "source": [
    "The ratio of the difference for the result calculated by the SONNTAG equation."
   ]
  },
  {
   "cell_type": "code",
   "execution_count": 50,
   "metadata": {
    "collapsed": false
   },
   "outputs": [
    {
     "data": {
      "image/png": "[encoded data removed]",
      "text/plain": [
       "<Figure size 1080x288 with 1 Axes>"
      ]
     },
     "metadata": {},
     "output_type": "display_data"
    }
   ],
   "source": [
    "theta_ice   = [ 0.1 * x for x in range(-1000, 100) ]\n",
    "theta_water = [ 0.1 * x for x in range( -100,1000) ]\n",
    "theta_all   = [ 0.1 * x for x in range(-1000,1000) ]\n",
    "\n",
    "plt.figure( figsize = (15,4) )\n",
    "plt.plot(theta_ice,   [ ( saturated_vapor_pressure_WMO(                t+273.15)[0] - saturated_vapor_pressure_SONNTAG('ice',   t+273.15)[0] ) / saturated_vapor_pressure_SONNTAG('ice',   t+273.15)[0] * 100 for t in theta_ice   ], label = 'WMO_ice'                 )\n",
    "plt.plot(theta_water, [ ( saturated_vapor_pressure_WMO(                t+273.15)[0] - saturated_vapor_pressure_SONNTAG('water', t+273.15)[0] ) / saturated_vapor_pressure_SONNTAG('water', t+273.15)[0] * 100 for t in theta_water ], label = 'WMO_water'               )\n",
    "plt.plot(theta_ice,   [ ( saturated_vapor_pressure_WH('ice',           t+273.15)[0] - saturated_vapor_pressure_SONNTAG('ice',   t+273.15)[0] ) / saturated_vapor_pressure_SONNTAG('ice',   t+273.15)[0] * 100 for t in theta_ice   ], label = 'Wexler-Hyland_ice'       )\n",
    "plt.plot(theta_water, [ ( saturated_vapor_pressure_WH('water',         t+273.15)[0] - saturated_vapor_pressure_SONNTAG('water', t+273.15)[0] ) / saturated_vapor_pressure_SONNTAG('water', t+273.15)[0] * 100 for t in theta_water ], label = 'Wexler-Hyland_water'     )\n",
    "plt.plot(theta_ice,   [ ( saturated_vapor_pressure_tetens('ice',       t+273.15)[0] - saturated_vapor_pressure_SONNTAG('ice',   t+273.15)[0] ) / saturated_vapor_pressure_SONNTAG('ice',   t+273.15)[0] * 100 for t in theta_ice   ], label = 'Tetens_ice'              )\n",
    "plt.plot(theta_water, [ ( saturated_vapor_pressure_tetens('water',     t+273.15)[0] - saturated_vapor_pressure_SONNTAG('water', t+273.15)[0] ) / saturated_vapor_pressure_SONNTAG('water', t+273.15)[0] * 100 for t in theta_water ], label = 'Tetens_water'            )\n",
    "plt.plot(theta_ice,   [ ( saturated_vapor_pressure_BS('ice',           t+273.15)[0] - saturated_vapor_pressure_SONNTAG('ice',   t+273.15)[0] ) / saturated_vapor_pressure_SONNTAG('ice',   t+273.15)[0] * 100 for t in theta_ice   ], label = 'Briggs and Sacket_ice'   )\n",
    "plt.plot(theta_water, [ ( saturated_vapor_pressure_BS('water',         t+273.15)[0] - saturated_vapor_pressure_SONNTAG('water', t+273.15)[0] ) / saturated_vapor_pressure_SONNTAG('water', t+273.15)[0] * 100 for t in theta_water ], label = 'Briggs and Sacket_water' )\n",
    "plt.plot(theta_ice,   [ ( saturated_vapor_pressure_antoine(            t+273.15)[0] - saturated_vapor_pressure_SONNTAG('ice',   t+273.15)[0] ) / saturated_vapor_pressure_SONNTAG('ice',   t+273.15)[0] * 100 for t in theta_ice   ], label = 'Antoine'                 )\n",
    "plt.plot(theta_water, [ ( saturated_vapor_pressure_antoine(            t+273.15)[0] - saturated_vapor_pressure_SONNTAG('water', t+273.15)[0] ) / saturated_vapor_pressure_SONNTAG('water', t+273.15)[0] * 100 for t in theta_water ], label = 'Antoine'                 )\n",
    "plt.plot(theta_ice,   [ ( saturated_vapor_pressure_GoffGratch('ice',   t+273.15)[0] - saturated_vapor_pressure_SONNTAG('ice',   t+273.15)[0] ) / saturated_vapor_pressure_SONNTAG('ice',   t+273.15)[0] * 100 for t in theta_ice   ], label = 'GoffGratch_ice'          )\n",
    "plt.plot(theta_water, [ ( saturated_vapor_pressure_GoffGratch('water', t+273.15)[0] - saturated_vapor_pressure_SONNTAG('water', t+273.15)[0] ) / saturated_vapor_pressure_SONNTAG('water', t+273.15)[0] * 100 for t in theta_water ], label = 'GoffGratch_water'        )\n",
    "\n",
    "plt.legend()\n",
    "plt.xlabel('Temperature (degree C)')\n",
    "plt.ylabel('Difference (%)')\n",
    "plt.show()"
   ]
  },
  {
   "cell_type": "markdown",
   "metadata": {},
   "source": [
    "## 4. Integrated Equation"
   ]
  },
  {
   "cell_type": "markdown",
   "metadata": {},
   "source": [
    "### 4.1 Saturated Vapor Pressure"
   ]
  },
  {
   "cell_type": "code",
   "execution_count": 51,
   "metadata": {
    "collapsed": false
   },
   "outputs": [],
   "source": [
    "def get_saturated_vapor_pressure( equation, status, T ):\n",
    "    if T < 0:\n",
    "        raise ValueError('ERROR: Temperature can not be less than 0 K.')\n",
    "    if equation == 'SONNTAG':\n",
    "        return saturated_vapor_pressure_SONNTAG(status,T)[0]\n",
    "    elif equation == 'WMO':\n",
    "        return saturated_vapor_pressure_WMO(T)[0]\n",
    "    elif equation == 'WexlerHyland':\n",
    "        return saturated_vapor_pressure_WH(status,T)[0]\n",
    "    elif equation == 'Tetens':\n",
    "        return saturated_vapor_pressure_tetens(status,T)[0]\n",
    "    elif equation == 'BriggsSacket':\n",
    "        return saturated_vapor_pressure_BS(status,T)[0]\n",
    "    elif equation == 'Antoine':\n",
    "        return saturated_vapor_pressure_antoine(T)[0]\n",
    "    elif equation == 'GoffGratch':\n",
    "        return saturated_vapor_pressure_GoffGratch(status,T)[0]\n",
    "    else:\n",
    "        raise ValueError('ERROR: false name of saturated vapor equation')\n",
    "\n",
    "#    return {\n",
    "#        'SONNTAG'      : saturated_vapor_pressure_SONNTAG(status,T)[0],\n",
    "#        'WMO'          : saturated_vapor_pressure_WMO(T)[0],\n",
    "#        'WexlerHyland' : saturated_vapor_pressure_WH(status,T)[0],\n",
    "#        'Tetens'       : saturated_vapor_pressure_tetens(status,T)[0],\n",
    "#        'BriggsSacket' : saturated_vapor_pressure_BS(status,T)[0],\n",
    "#        'Antoine'      : saturated_vapor_pressure_antoine(T)[0],\n",
    "#        'GoffGratch'   : saturated_vapor_pressure_GoffGratch(status,T)[0]\n",
    "#    }[equation]"
   ]
  },
  {
   "cell_type": "markdown",
   "metadata": {},
   "source": [
    "In case of the equation of WMO and Antoine, parameter 'status' is ignored."
   ]
  },
  {
   "cell_type": "markdown",
   "metadata": {},
   "source": [
    "#### Example"
   ]
  },
  {
   "cell_type": "code",
   "execution_count": 52,
   "metadata": {
    "collapsed": false
   },
   "outputs": [
    {
     "data": {
      "text/plain": [
       "611.1527097518417"
      ]
     },
     "execution_count": 52,
     "metadata": {},
     "output_type": "execute_result"
    }
   ],
   "source": [
    "get_saturated_vapor_pressure('SONNTAG', 'ice', 273.15)"
   ]
  },
  {
   "cell_type": "code",
   "execution_count": 53,
   "metadata": {
    "collapsed": false
   },
   "outputs": [
    {
     "data": {
      "text/plain": [
       "611.2128400464351"
      ]
     },
     "execution_count": 53,
     "metadata": {},
     "output_type": "execute_result"
    }
   ],
   "source": [
    "get_saturated_vapor_pressure('SONNTAG', 'water', 273.15)"
   ]
  },
  {
   "cell_type": "code",
   "execution_count": 54,
   "metadata": {
    "collapsed": false
   },
   "outputs": [
    {
     "data": {
      "text/plain": [
       "610.6950957277759"
      ]
     },
     "execution_count": 54,
     "metadata": {},
     "output_type": "execute_result"
    }
   ],
   "source": [
    "get_saturated_vapor_pressure('WMO', 'ice', 273.15)"
   ]
  },
  {
   "cell_type": "code",
   "execution_count": 55,
   "metadata": {
    "collapsed": false
   },
   "outputs": [
    {
     "data": {
      "text/plain": [
       "610.6950957277759"
      ]
     },
     "execution_count": 55,
     "metadata": {},
     "output_type": "execute_result"
    }
   ],
   "source": [
    "get_saturated_vapor_pressure('WMO', 'water', 273.15)"
   ]
  },
  {
   "cell_type": "code",
   "execution_count": 56,
   "metadata": {
    "collapsed": false
   },
   "outputs": [
    {
     "data": {
      "text/plain": [
       "611.1535708907679"
      ]
     },
     "execution_count": 56,
     "metadata": {},
     "output_type": "execute_result"
    }
   ],
   "source": [
    "get_saturated_vapor_pressure('WexlerHyland', 'ice', 273.15)"
   ]
  },
  {
   "cell_type": "code",
   "execution_count": 57,
   "metadata": {
    "collapsed": false
   },
   "outputs": [
    {
     "data": {
      "text/plain": [
       "611.2128674511848"
      ]
     },
     "execution_count": 57,
     "metadata": {},
     "output_type": "execute_result"
    }
   ],
   "source": [
    "get_saturated_vapor_pressure('WexlerHyland', 'water', 273.15)"
   ]
  },
  {
   "cell_type": "code",
   "execution_count": 58,
   "metadata": {
    "collapsed": false
   },
   "outputs": [
    {
     "data": {
      "text/plain": [
       "610.2769663563716"
      ]
     },
     "execution_count": 58,
     "metadata": {},
     "output_type": "execute_result"
    }
   ],
   "source": [
    "get_saturated_vapor_pressure('Tetens', 'ice', 273.15)"
   ]
  },
  {
   "cell_type": "code",
   "execution_count": 59,
   "metadata": {
    "collapsed": false
   },
   "outputs": [
    {
     "data": {
      "text/plain": [
       "610.3356509064453"
      ]
     },
     "execution_count": 59,
     "metadata": {},
     "output_type": "execute_result"
    }
   ],
   "source": [
    "get_saturated_vapor_pressure('Tetens', 'water', 273.15)"
   ]
  },
  {
   "cell_type": "code",
   "execution_count": 60,
   "metadata": {
    "collapsed": false
   },
   "outputs": [
    {
     "data": {
      "text/plain": [
       "613.0158174136862"
      ]
     },
     "execution_count": 60,
     "metadata": {},
     "output_type": "execute_result"
    }
   ],
   "source": [
    "get_saturated_vapor_pressure('BriggsSacket', 'ice', 273.15)"
   ]
  },
  {
   "cell_type": "code",
   "execution_count": 61,
   "metadata": {
    "collapsed": false
   },
   "outputs": [
    {
     "data": {
      "text/plain": [
       "613.027145489425"
      ]
     },
     "execution_count": 61,
     "metadata": {},
     "output_type": "execute_result"
    }
   ],
   "source": [
    "get_saturated_vapor_pressure('BriggsSacket', 'water', 273.15)"
   ]
  },
  {
   "cell_type": "code",
   "execution_count": 62,
   "metadata": {
    "collapsed": false
   },
   "outputs": [
    {
     "data": {
      "text/plain": [
       "604.987807177887"
      ]
     },
     "execution_count": 62,
     "metadata": {},
     "output_type": "execute_result"
    }
   ],
   "source": [
    "get_saturated_vapor_pressure('Antoine', 'ice', 273.15)"
   ]
  },
  {
   "cell_type": "code",
   "execution_count": 63,
   "metadata": {
    "collapsed": false
   },
   "outputs": [
    {
     "data": {
      "text/plain": [
       "604.987807177887"
      ]
     },
     "execution_count": 63,
     "metadata": {},
     "output_type": "execute_result"
    }
   ],
   "source": [
    "get_saturated_vapor_pressure('Antoine', 'water', 273.15)"
   ]
  },
  {
   "cell_type": "code",
   "execution_count": 64,
   "metadata": {
    "collapsed": false
   },
   "outputs": [
    {
     "data": {
      "text/plain": [
       "611.2264301073889"
      ]
     },
     "execution_count": 64,
     "metadata": {},
     "output_type": "execute_result"
    }
   ],
   "source": [
    "get_saturated_vapor_pressure('GoffGratch', 'ice', 273.15)"
   ]
  },
  {
   "cell_type": "code",
   "execution_count": 65,
   "metadata": {
    "collapsed": false
   },
   "outputs": [
    {
     "data": {
      "text/plain": [
       "610.6632501882182"
      ]
     },
     "execution_count": 65,
     "metadata": {},
     "output_type": "execute_result"
    }
   ],
   "source": [
    "get_saturated_vapor_pressure('GoffGratch', 'water', 273.15)"
   ]
  },
  {
   "cell_type": "markdown",
   "metadata": {},
   "source": [
    "### 4.2 Differential of Saturated Vapor Pressure"
   ]
  },
  {
   "cell_type": "code",
   "execution_count": 66,
   "metadata": {
    "collapsed": true
   },
   "outputs": [],
   "source": [
    "def get_saturated_vapor_pressure_differential( equation, status, T ):\n",
    "    if T < 0:\n",
    "        raise ValueError('ERROR: Temperature can not be less than 0 K.')\n",
    "    return {\n",
    "        'SONNTAG'      : saturated_vapor_pressure_SONNTAG(status,T)[1],\n",
    "        'WMO'          : saturated_vapor_pressure_WMO(T)[1],\n",
    "        'WexlerHyland' : saturated_vapor_pressure_WH(status,T)[1],\n",
    "        'Tetens'       : saturated_vapor_pressure_tetens(status,T)[1],\n",
    "        'BriggsSacket' : saturated_vapor_pressure_BS(status,T)[1],\n",
    "        'Antoine'      : saturated_vapor_pressure_antoine(T)[1],\n",
    "        'GoffGratch'   : saturated_vapor_pressure_GoffGratch(status,T)[1]\n",
    "    }[equation]"
   ]
  },
  {
   "cell_type": "markdown",
   "metadata": {},
   "source": [
    "In case of the equation of WMO and Antoine, parameter 'status' is ignored."
   ]
  },
  {
   "cell_type": "markdown",
   "metadata": {},
   "source": [
    "#### Example"
   ]
  },
  {
   "cell_type": "code",
   "execution_count": 67,
   "metadata": {
    "collapsed": false
   },
   "outputs": [
    {
     "data": {
      "text/plain": [
       "50.323158101166285"
      ]
     },
     "execution_count": 67,
     "metadata": {},
     "output_type": "execute_result"
    }
   ],
   "source": [
    "get_saturated_vapor_pressure_differential('SONNTAG', 'ice', 273.15)"
   ]
  },
  {
   "cell_type": "code",
   "execution_count": 68,
   "metadata": {
    "collapsed": false
   },
   "outputs": [
    {
     "data": {
      "text/plain": [
       "44.409707361678436"
      ]
     },
     "execution_count": 68,
     "metadata": {},
     "output_type": "execute_result"
    }
   ],
   "source": [
    "get_saturated_vapor_pressure_differential('SONNTAG', 'water', 273.15)"
   ]
  },
  {
   "cell_type": "code",
   "execution_count": 69,
   "metadata": {
    "collapsed": false
   },
   "outputs": [
    {
     "data": {
      "text/plain": [
       "44.37624095308939"
      ]
     },
     "execution_count": 69,
     "metadata": {},
     "output_type": "execute_result"
    }
   ],
   "source": [
    "get_saturated_vapor_pressure_differential('WMO', 'ice', 273.15)"
   ]
  },
  {
   "cell_type": "code",
   "execution_count": 70,
   "metadata": {
    "collapsed": false
   },
   "outputs": [
    {
     "data": {
      "text/plain": [
       "44.37624095308939"
      ]
     },
     "execution_count": 70,
     "metadata": {},
     "output_type": "execute_result"
    }
   ],
   "source": [
    "get_saturated_vapor_pressure_differential('WMO', 'water', 273.15)"
   ]
  },
  {
   "cell_type": "code",
   "execution_count": 71,
   "metadata": {
    "collapsed": false
   },
   "outputs": [
    {
     "data": {
      "text/plain": [
       "50.32648528533754"
      ]
     },
     "execution_count": 71,
     "metadata": {},
     "output_type": "execute_result"
    }
   ],
   "source": [
    "get_saturated_vapor_pressure_differential('WexlerHyland', 'ice', 273.15)"
   ]
  },
  {
   "cell_type": "code",
   "execution_count": 72,
   "metadata": {
    "collapsed": false
   },
   "outputs": [
    {
     "data": {
      "text/plain": [
       "44.40174257890302"
      ]
     },
     "execution_count": 72,
     "metadata": {},
     "output_type": "execute_result"
    }
   ],
   "source": [
    "get_saturated_vapor_pressure_differential('WexlerHyland', 'water', 273.15)"
   ]
  },
  {
   "cell_type": "code",
   "execution_count": 73,
   "metadata": {
    "collapsed": false
   },
   "outputs": [
    {
     "data": {
      "text/plain": [
       "50.284537900398256"
      ]
     },
     "execution_count": 73,
     "metadata": {},
     "output_type": "execute_result"
    }
   ],
   "source": [
    "get_saturated_vapor_pressure_differential('Tetens', 'ice', 273.15)"
   ]
  },
  {
   "cell_type": "code",
   "execution_count": 74,
   "metadata": {
    "collapsed": false
   },
   "outputs": [
    {
     "data": {
      "text/plain": [
       "44.420613912187754"
      ]
     },
     "execution_count": 74,
     "metadata": {},
     "output_type": "execute_result"
    }
   ],
   "source": [
    "get_saturated_vapor_pressure_differential('Tetens', 'water', 273.15)"
   ]
  },
  {
   "cell_type": "code",
   "execution_count": 75,
   "metadata": {
    "collapsed": false
   },
   "outputs": [
    {
     "data": {
      "text/plain": [
       "50.36078539721189"
      ]
     },
     "execution_count": 75,
     "metadata": {},
     "output_type": "execute_result"
    }
   ],
   "source": [
    "get_saturated_vapor_pressure_differential('BriggsSacket', 'ice', 273.15)"
   ]
  },
  {
   "cell_type": "code",
   "execution_count": 76,
   "metadata": {
    "collapsed": false
   },
   "outputs": [
    {
     "data": {
      "text/plain": [
       "44.47664967709252"
      ]
     },
     "execution_count": 76,
     "metadata": {},
     "output_type": "execute_result"
    }
   ],
   "source": [
    "get_saturated_vapor_pressure_differential('BriggsSacket', 'water', 273.15)"
   ]
  },
  {
   "cell_type": "code",
   "execution_count": 77,
   "metadata": {
    "collapsed": false
   },
   "outputs": [
    {
     "data": {
      "text/plain": [
       "44.370885402709014"
      ]
     },
     "execution_count": 77,
     "metadata": {},
     "output_type": "execute_result"
    }
   ],
   "source": [
    "get_saturated_vapor_pressure_differential('Antoine', 'ice', 273.15)"
   ]
  },
  {
   "cell_type": "code",
   "execution_count": 78,
   "metadata": {
    "collapsed": false
   },
   "outputs": [
    {
     "data": {
      "text/plain": [
       "44.370885402709014"
      ]
     },
     "execution_count": 78,
     "metadata": {},
     "output_type": "execute_result"
    }
   ],
   "source": [
    "get_saturated_vapor_pressure_differential('Antoine', 'water', 273.15)"
   ]
  },
  {
   "cell_type": "code",
   "execution_count": 79,
   "metadata": {
    "collapsed": false
   },
   "outputs": [
    {
     "data": {
      "text/plain": [
       "50.33811899583799"
      ]
     },
     "execution_count": 79,
     "metadata": {},
     "output_type": "execute_result"
    }
   ],
   "source": [
    "get_saturated_vapor_pressure_differential('GoffGratch', 'ice', 273.15)"
   ]
  },
  {
   "cell_type": "code",
   "execution_count": 80,
   "metadata": {
    "collapsed": false
   },
   "outputs": [
    {
     "data": {
      "text/plain": [
       "44.374468059838875"
      ]
     },
     "execution_count": 80,
     "metadata": {},
     "output_type": "execute_result"
    }
   ],
   "source": [
    "get_saturated_vapor_pressure_differential('GoffGratch', 'water', 273.15)"
   ]
  }
 ],
 "metadata": {
  "kernelspec": {
   "display_name": "Python 3",
   "language": "python",
   "name": "python3"
  },
  "language_info": {
   "codemirror_mode": {
    "name": "ipython",
    "version": 3
   },
   "file_extension": ".py",
   "mimetype": "text/x-python",
   "name": "python",
   "nbconvert_exporter": "python",
   "pygments_lexer": "ipython3",
   "version": "3.6.5"
  }
 },
 "nbformat": 4,
 "nbformat_minor": 2
}
