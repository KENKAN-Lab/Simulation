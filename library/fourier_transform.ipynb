{
 "cells": [
  {
   "cell_type": "code",
   "execution_count": 1,
   "metadata": {},
   "outputs": [],
   "source": [
    "import numpy as np\n",
    "import math"
   ]
  },
  {
   "cell_type": "markdown",
   "metadata": {},
   "source": [
    "# Discrete Fourier Transformation (DFT)"
   ]
  },
  {
   "cell_type": "markdown",
   "metadata": {},
   "source": [
    "## Outline"
   ]
  },
  {
   "cell_type": "markdown",
   "metadata": {},
   "source": [
    "#### 参考"
   ]
  },
  {
   "cell_type": "markdown",
   "metadata": {},
   "source": [
    "http://mathtrain.jp/fourierseries\n",
    "\n",
    "http://www.ic.is.tohoku.ac.jp/~swk/lecture/yaruodsp/toc.html\n",
    "\n",
    "http://www.mk-mode.com/octopress/2013/06/10/cpp-discrete-fourier-transform/\n",
    "\n",
    "http://www.geocities.jp/supermisosan/fourier.html\n"
   ]
  },
  {
   "cell_type": "markdown",
   "metadata": {},
   "source": [
    "1周期を$N$分割したサンプル点（複素数列）$x(0),x(1), \\cdots ,x(N-1)$に対して得られる$N$個のサンプル値（複素数列）を、$X(0),X(1), \\cdots ,X(N-1)$とすると、"
   ]
  },
  {
   "cell_type": "markdown",
   "metadata": {},
   "source": [
    "$$\n",
    "\\displaystyle\n",
    "\\begin{array}{ll}\n",
    "X(k)=\\Sigma_{n=0}^{N-1}x(n)\\exp(-i \\frac{2\\pi}{N}kn) & (k=0,1,2, \\cdots ,N-1)\n",
    "\\end{array}\n",
    "$$"
   ]
  },
  {
   "cell_type": "markdown",
   "metadata": {},
   "source": [
    "$$\n",
    "\\displaystyle\n",
    "\\begin{array}{ll}\n",
    "x(n) = \\frac{1}{N} \\Sigma_(k=0)^(N-1) X(k) \\exp (i \\frac{ 2 \\pi }{ N } kn ) & (n=0,1,2,\\cdot,N-1)\n",
    "\\end{array}\n",
    "$$"
   ]
  },
  {
   "cell_type": "markdown",
   "metadata": {},
   "source": [
    "が得られる。1つ目の式はフーリエ変換、2つ目の式は逆フーリエ変換と呼ばれる。オイラーの公式を適用すると、"
   ]
  },
  {
   "cell_type": "markdown",
   "metadata": {},
   "source": [
    "$$\n",
    "\\displaystyle\n",
    "\\begin{array}{ll}\n",
    "X(k)=\\Sigma_{n=0}^{N-1} x(n) \\left( \\cos \\frac {2 \\pi}{N} kn - i \\sin \\frac{2 \\pi}{N} kn \\right) & (k=0,1,2, \\cdots ,N-1)\n",
    "\\end{array}\n",
    "$$"
   ]
  },
  {
   "cell_type": "markdown",
   "metadata": {},
   "source": [
    "$$\n",
    "\\displaystyle\n",
    "\\begin{array}{ll}\n",
    "x(n) = \\frac{1}{N} \\Sigma_{k=0}^{N-1} X(k) \\left( \\cos \\frac {2 \\pi}{N} kn + i \\sin \\frac{2 \\pi}{N} kn \\right) & (n=0,1,2,\\cdot,N-1)\n",
    "\\end{array}\n",
    "$$"
   ]
  },
  {
   "cell_type": "markdown",
   "metadata": {},
   "source": [
    "となる。さらに、$x(n)$,$X(n)$は複素数なので、実部・虚部を分けてそれぞれ、$x_r(n)$, $x_i(n)$, $X_r(k)$, $X_i(k)$とすると、"
   ]
  },
  {
   "cell_type": "markdown",
   "metadata": {},
   "source": [
    "$$\n",
    "\\displaystyle\n",
    "\\begin{array}{ll}\n",
    "X(k) = \\Sigma_{n=0}^{N-1} \\left( x_r(n) \\cos \\frac {2 \\pi}{N} kn + x_i(n) \\sin \\frac{2 \\pi}{N} kn \\right) + i \\Sigma_{n=0}^{N-1} \\left( - x_r(n) \\sin \\frac {2 \\pi}{N} kn + x_i(n) \\cos \\frac{2 \\pi}{N} kn \\right) & (k=0,1,2, \\cdots ,N-1)\n",
    "\\end{array}\n",
    "$$"
   ]
  },
  {
   "cell_type": "markdown",
   "metadata": {},
   "source": [
    "$$\n",
    "\\displaystyle\n",
    "\\begin{array}{ll}\n",
    "x(n) = \\frac{1}{N} \\Sigma_{k=0}^{N-1} \\left( X_r(k) \\cos \\frac {2 \\pi}{N} kn - X_i(k) \\sin \\frac{2 \\pi}{N} kn \\right) + \\frac{i}{N} \\Sigma_{k=0}^{N-1} \\left( X_r(k) \\sin \\frac {2 \\pi}{N} kn + X_i(k) \\cos \\frac{2 \\pi}{N} kn \\right) & (n=0,1,2,\\cdot,N-1)\n",
    "\\end{array}\n",
    "$$"
   ]
  },
  {
   "cell_type": "markdown",
   "metadata": {},
   "source": [
    "となる。"
   ]
  },
  {
   "cell_type": "markdown",
   "metadata": {},
   "source": [
    "#### Function"
   ]
  },
  {
   "cell_type": "code",
   "execution_count": 2,
   "metadata": {},
   "outputs": [],
   "source": [
    "def transform(d):\n",
    "    \n",
    "    # d: list of data\n",
    "\n",
    "    def get_dft_re(k):\n",
    "        list = []\n",
    "        return sum([ src_re[n] * math.cos(2 * math.pi / num * k * n) + src_im[n] * math.sin(2 * math.pi / num * k * n) for n in range(num)])\n",
    "\n",
    "    def get_dft_im(k):\n",
    "        return sum([-src_re[n] * math.sin(2 * math.pi / num * k * n) + src_im[n] * math.cos(2 * math.pi / num * k * n) for n in range(num)])\n",
    "    \n",
    "    def get_idft_re(n):\n",
    "        return sum([dft_re[k] * math.cos(2 * math.pi / num * k * n) - dft_im[k] * math.sin(2 * math.pi / num * k * n) for k in range(num)]) / num\n",
    "    \n",
    "    def get_idft_im(n):\n",
    "        return sum([dft_re[k] * math.sin(2 * math.pi / num * k * n) + dft_im[k] * math.cos(2 * math.pi / num * k * n) for k in range(num)]) / num\n",
    "    \n",
    "    num = len(d)\n",
    "    \n",
    "    src_re = np.array(d)\n",
    "    src_im = np.zeros_like(src_re)\n",
    "\n",
    "    dft_re = [get_dft_re(k) for k in range(num)]\n",
    "    dft_im = [get_dft_im(k) for k in range(num)]\n",
    "\n",
    "    idft_re = [get_idft_re(n) for n in range(num)]\n",
    "    idft_im = [get_idft_im(n) for n in range(num)]\n",
    "\n",
    "    return dft_re, dft_im, idft_re, idft_im"
   ]
  },
  {
   "cell_type": "markdown",
   "metadata": {},
   "source": [
    "#### Example"
   ]
  },
  {
   "cell_type": "code",
   "execution_count": 3,
   "metadata": {},
   "outputs": [
    {
     "data": {
      "text/plain": [
       "([55.0,\n",
       "  -5.0,\n",
       "  -5.000000000000003,\n",
       "  -5.000000000000003,\n",
       "  -5.000000000000002,\n",
       "  -5.0,\n",
       "  -4.999999999999998,\n",
       "  -4.999999999999959,\n",
       "  -4.999999999999985,\n",
       "  -4.999999999999956],\n",
       " [0.0,\n",
       "  15.388417685876268,\n",
       "  6.881909602355867,\n",
       "  3.632712640026803,\n",
       "  1.6245984811645275,\n",
       "  -6.123233995736766e-15,\n",
       "  -1.6245984811645382,\n",
       "  -3.632712640026824,\n",
       "  -6.881909602355874,\n",
       "  -15.388417685876306],\n",
       " [1.0000000000000102,\n",
       "  1.9999999999999978,\n",
       "  2.9999999999999947,\n",
       "  3.9999999999999973,\n",
       "  4.9999999999999964,\n",
       "  5.999999999999995,\n",
       "  7.000000000000003,\n",
       "  8.000000000000004,\n",
       "  9.0,\n",
       "  10.000000000000009],\n",
       " [-8.348877145181177e-15,\n",
       "  -9.414691248821327e-15,\n",
       "  -1.5099033134902129e-15,\n",
       "  0.0,\n",
       "  -2.3092638912203257e-15,\n",
       "  4.440892098500626e-15,\n",
       "  6.394884621840902e-15,\n",
       "  -6.7501559897209515e-15,\n",
       "  -8.881784197001252e-16,\n",
       "  2.842170943040401e-15])"
      ]
     },
     "execution_count": 3,
     "metadata": {},
     "output_type": "execute_result"
    }
   ],
   "source": [
    "transform([1,2,3,4,5,6,7,8,9,10])"
   ]
  },
  {
   "cell_type": "markdown",
   "metadata": {},
   "source": [
    "## numpy のライブラリを使用"
   ]
  },
  {
   "cell_type": "markdown",
   "metadata": {},
   "source": [
    "#### Example"
   ]
  },
  {
   "cell_type": "markdown",
   "metadata": {},
   "source": [
    "Discrete fourier transformation"
   ]
  },
  {
   "cell_type": "code",
   "execution_count": 4,
   "metadata": {},
   "outputs": [],
   "source": [
    "dft = np.fft.fft([1,2,3,4,5,6,7,8,9,10])"
   ]
  },
  {
   "cell_type": "code",
   "execution_count": 5,
   "metadata": {},
   "outputs": [
    {
     "data": {
      "text/plain": [
       "array([55. +0.j        , -5.+15.38841769j, -5. +6.8819096j ,\n",
       "       -5. +3.63271264j, -5. +1.62459848j, -5. +0.j        ,\n",
       "       -5. -1.62459848j, -5. -3.63271264j, -5. -6.8819096j ,\n",
       "       -5.-15.38841769j])"
      ]
     },
     "execution_count": 5,
     "metadata": {},
     "output_type": "execute_result"
    }
   ],
   "source": [
    "dft"
   ]
  },
  {
   "cell_type": "markdown",
   "metadata": {},
   "source": [
    "Inverse discrete fourier transformation"
   ]
  },
  {
   "cell_type": "code",
   "execution_count": 6,
   "metadata": {},
   "outputs": [],
   "source": [
    "idft = np.fft.ifft(dft)"
   ]
  },
  {
   "cell_type": "code",
   "execution_count": 7,
   "metadata": {},
   "outputs": [
    {
     "data": {
      "text/plain": [
       "array([ 1.+0.j,  2.+0.j,  3.+0.j,  4.+0.j,  5.+0.j,  6.+0.j,  7.+0.j,\n",
       "        8.+0.j,  9.+0.j, 10.+0.j])"
      ]
     },
     "execution_count": 7,
     "metadata": {},
     "output_type": "execute_result"
    }
   ],
   "source": [
    "idft"
   ]
  },
  {
   "cell_type": "code",
   "execution_count": null,
   "metadata": {},
   "outputs": [],
   "source": []
  }
 ],
 "metadata": {
  "kernelspec": {
   "display_name": "Python 3",
   "language": "python",
   "name": "python3"
  },
  "language_info": {
   "codemirror_mode": {
    "name": "ipython",
    "version": 3
   },
   "file_extension": ".py",
   "mimetype": "text/x-python",
   "name": "python",
   "nbconvert_exporter": "python",
   "pygments_lexer": "ipython3",
   "version": "3.6.5"
  }
 },
 "nbformat": 4,
 "nbformat_minor": 2
}
