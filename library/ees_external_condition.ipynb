{
 "cells": [
  {
   "cell_type": "code",
   "execution_count": 1,
   "metadata": {},
   "outputs": [
    {
     "name": "stdout",
     "output_type": "stream",
     "text": [
      "Importing Jupyter notebook from ..\\library\\air.ipynb\n",
      "Importing Jupyter notebook from ..\\library\\saturated_vapor_pressure.ipynb\n",
      "Importing Jupyter notebook from ..\\library\\vapor_pressure.ipynb\n",
      "Importing Jupyter notebook from ..\\library\\temperature.ipynb\n"
     ]
    }
   ],
   "source": [
    "import csv\n",
    "import datetime\n",
    "import matplotlib.pyplot as plt\n",
    "import nbimporter\n",
    "import sys\n",
    "sys.path.append('../')\n",
    "\n",
    "from library.air import Air\n",
    "from library.temperature import Temperature"
   ]
  },
  {
   "cell_type": "code",
   "execution_count": 2,
   "metadata": {},
   "outputs": [],
   "source": [
    "class ExternalCondition():\n",
    "    \n",
    "    def __init__(self, path, region, reading_order, error_print):\n",
    "        column_num = {\n",
    "            'region1' : (3,4),\n",
    "            'region2' : (5,6),\n",
    "            'region3' : (7,8),\n",
    "            'region4' : (9,10),\n",
    "            'region5' : (11,12),\n",
    "            'region6' : (13,14),\n",
    "            'region7' : (15,16),\n",
    "            'region8' : (17,18)\n",
    "        }[region]\n",
    "        \n",
    "        with open(path, 'r') as f:\n",
    "            reader = csv.reader(f)\n",
    "            header = next(reader) \n",
    "            header = next(reader) \n",
    "            header = next(reader)\n",
    "            header = next(reader)\n",
    "            \n",
    "            datas = [(float(r[column_num[0]]), float(r[column_num[1]])) for r in reader]\n",
    "        \n",
    "        if len(datas) != 8760:\n",
    "            raise ValueError('読み込んだデータ数が8760個ではありません。')\n",
    "        \n",
    "        datas2 = []\n",
    "        if reading_order:\n",
    "            datas2.append(datas[8759])\n",
    "            for i in range(8759):\n",
    "                datas2.append(datas[i])\n",
    "        else:\n",
    "            for d in datas:\n",
    "                datas2.append(d)\n",
    "        \n",
    "        date_rows = []\n",
    "        dt = datetime.datetime(year = 2015, month = 1, day = 1, hour = 0, minute = 0)\n",
    "        \n",
    "        for i in range(8760):\n",
    "            date_rows.append(dt)\n",
    "            dt = dt + datetime.timedelta(hours = 1)\n",
    "        \n",
    "        self.date_rows = date_rows\n",
    "        \n",
    "        air_rows = []\n",
    "        \n",
    "        for i, d in enumerate(datas2):\n",
    "            try:\n",
    "                air = Air(Temperature(d[0],'Celsius'), d[1]/1000, 'absolute')\n",
    "            except:\n",
    "                if error_print:\n",
    "                    print('行' + str(i) + ': エラー(over RH 100%)')\n",
    "                air = Air(Temperature(d[0],'Celsius'), 100.0, 'relative')\n",
    "            air_rows.append(air)\n",
    "        \n",
    "        self.air_rows = air_rows\n",
    "\n",
    "    def get_row_by_index(self, index):\n",
    "        return (self.date_rows[index], self.air_rows[index])\n",
    "    \n",
    "    def get_air_row(self):\n",
    "        return self.air_rows"
   ]
  },
  {
   "cell_type": "markdown",
   "metadata": {},
   "source": [
    "## Mannual"
   ]
  },
  {
   "cell_type": "markdown",
   "metadata": {},
   "source": [
    "### 1) Read Data"
   ]
  },
  {
   "cell_type": "code",
   "execution_count": 3,
   "metadata": {},
   "outputs": [
    {
     "name": "stdout",
     "output_type": "stream",
     "text": [
      "行1926: エラー(over RH 100%)\n",
      "行4205: エラー(over RH 100%)\n",
      "行4325: エラー(over RH 100%)\n"
     ]
    }
   ],
   "source": [
    "PATH = '../data/ees_external_condition.csv'\n",
    "ec = ExternalCondition(path = PATH, region = 'region6', reading_order = True, error_print = True)"
   ]
  },
  {
   "cell_type": "code",
   "execution_count": 4,
   "metadata": {},
   "outputs": [
    {
     "data": {
      "text/plain": [
       "2.3000000000000114"
      ]
     },
     "execution_count": 4,
     "metadata": {},
     "output_type": "execute_result"
    }
   ],
   "source": [
    "date, air = ec.get_row_by_index(0)\n",
    "air.T.C"
   ]
  },
  {
   "cell_type": "code",
   "execution_count": null,
   "metadata": {},
   "outputs": [],
   "source": []
  }
 ],
 "metadata": {
  "kernelspec": {
   "display_name": "Python 3",
   "language": "python",
   "name": "python3"
  },
  "language_info": {
   "codemirror_mode": {
    "name": "ipython",
    "version": 3
   },
   "file_extension": ".py",
   "mimetype": "text/x-python",
   "name": "python",
   "nbconvert_exporter": "python",
   "pygments_lexer": "ipython3",
   "version": "3.6.5"
  }
 },
 "nbformat": 4,
 "nbformat_minor": 2
}
