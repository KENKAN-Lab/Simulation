{
 "cells": [
  {
   "cell_type": "markdown",
   "metadata": {},
   "source": [
    "# 年間の外気温度から暖冷房期間を設定する\n",
    "365日間の日平均気温、日最高気温をフーリエ変換し、外気温度データから暖冷房期間を設定する。\n",
    "## ①365日間の日平均気温をraw日平均気温とする\n",
    "## ②365日間の日最高気温をraw日最高気温とする\n",
    "## ③raw日平均気温を離散化フーリエ変換したものをFFT日平均気温とする\n",
    "## ④raw日最高気温を離散化フーリエ変換したものをFFT日最高気温とする\n",
    "## ⑤FFT日平均気温が15℃以下となる期間の暖房フラグをTrueにする\n",
    "## ⑥FFT日最高気温が24℃以上となる期間の冷房フラグをTrueとする\n",
    "## ⑦暖房開始日、暖房終了日、冷房開始日、冷房終了日を求める\n",
    "\n",
    "### （１）暖房期間の調整\n",
    "#### （1-1）6/1の暖房フラグがTrueの場合、\n",
    "raw日平均気温が6/1以降で15℃以上になった翌日から冷房開始日までの暖房フラグをFalseとする\n",
    "#### （1-2）7/1の暖房フラグがTrueの場合、\n",
    "7/1から冷房開始日前日までの暖房フラグをFalseとする\n",
    "#### （1-3）9/30の暖房フラグがTrueの場合、\n",
    "冷房終了日翌日から、9/30よりさかのぼってraw日平均気温が15℃以上となる前日までの暖房フラグをFalseとする\n",
    "#### （1-4）9/15の暖房フラグがTrueの場合、\n",
    "9/14から冷房期終了翌日までの暖房フラグをFalseとする\n",
    "\n",
    "### （２）冷房期間の調整\n",
    "#### （2-1）7/10の冷房フラグがTrueの場合、\n",
    "raw日最高気温が7/10以降で最初に23℃以上になった翌日から冷房終了日までの冷房フラグをTrueとする\n",
    "\n",
    "#### （2-2）7/20の冷房フラグ、暖房フラグが共にFalseの場合、\n",
    "7/20から冷房終了日までの冷房フラグをTrueとする\n",
    "\n",
    "#### （2-3）8/31の冷房フラグ、暖房フラグが共にFalseの場合、\n",
    "8/30よりさかのぼってraw日最高気温が23℃以上となる日から冷房開始日までの冷房フラグをTrueとする\n",
    "\n",
    "#### （2-4）8/15の冷房フラグ、暖房フラグが共にFalseの場合、\n",
    "冷房開始日から8/14までの冷房フラグをTrueとする"
   ]
  },
  {
   "cell_type": "markdown",
   "metadata": {},
   "source": []
  },
  {
   "cell_type": "markdown",
   "metadata": {},
   "source": [
    "# フーリエ級数展開の式\n",
    "温度データ$f(t)$をフーリエ級数展開する。フーリエ級数展開後の平滑化した温度データを$F(t)$とする。\n",
    "\\begin{eqnarray*}\n",
    " F(t) &=& a_0 + 2 (a_1 \\cos \\frac {2 \\pi t}{T}+ b_1 \\sin \\frac {2 \\pi t}{T})\\\\\n",
    " a_0 &=& \\frac {1}{T} \\sum_{t=0}^{T-1} f(t)\\\\\n",
    " a_1 &=& \\frac {1}{T} \\sum_{t=0}^{T-1} f(t)  \\cos \\frac {2 \\pi t}{T}\\\\\n",
    " b_1 &=& \\frac {1}{T} \\sum_{t=0}^{T-1} f(t)  \\sin \\frac {2 \\pi t}{T}\\\\\n",
    "\\end{eqnarray*}\n",
    "ここで、\n",
    "$F(t)$：フーリエ級数展開後の通日$t$における温度[℃]、\n",
    "$f(t)$：元の温度データ[℃]、\n",
    "$T$：周期（=365)"
   ]
  },
  {
   "cell_type": "markdown",
   "metadata": {},
   "source": [
    "# 毎時データのCSVファイルを読み込む"
   ]
  },
  {
   "cell_type": "code",
   "execution_count": 1,
   "metadata": {
    "collapsed": true,
    "scrolled": true
   },
   "outputs": [],
   "source": [
    "%matplotlib inline\n",
    "import pandas as pd\n",
    "#engine='python'：パス名、ファイル名に２バイト文字が含まれるため必要なオプション\n",
    "df=pd.read_csv(\"C:\\\\Users\\\\satoh\\\\Dropbox\\\\users\\\\作業中業務\\\\基整促E7share\\\\Setting of air conditioning period\\\\外気条件（データ）.csv\", engine='python',parse_dates = ['Date'])\n",
    "#df.head()"
   ]
  },
  {
   "cell_type": "markdown",
   "metadata": {},
   "source": [
    "# ①日平均気温の計算"
   ]
  },
  {
   "cell_type": "code",
   "execution_count": 2,
   "metadata": {},
   "outputs": [
    {
     "data": {
      "text/html": [
       "<div>\n",
       "<style scoped>\n",
       "    .dataframe tbody tr th:only-of-type {\n",
       "        vertical-align: middle;\n",
       "    }\n",
       "\n",
       "    .dataframe tbody tr th {\n",
       "        vertical-align: top;\n",
       "    }\n",
       "\n",
       "    .dataframe thead th {\n",
       "        text-align: right;\n",
       "    }\n",
       "</style>\n",
       "<table border=\"1\" class=\"dataframe\">\n",
       "  <thead>\n",
       "    <tr style=\"text-align: right;\">\n",
       "      <th></th>\n",
       "      <th>気温</th>\n",
       "    </tr>\n",
       "    <tr>\n",
       "      <th>Date</th>\n",
       "      <th></th>\n",
       "    </tr>\n",
       "  </thead>\n",
       "  <tbody>\n",
       "    <tr>\n",
       "      <th>2017-01-01</th>\n",
       "      <td>-0.720833</td>\n",
       "    </tr>\n",
       "    <tr>\n",
       "      <th>2017-01-02</th>\n",
       "      <td>1.483333</td>\n",
       "    </tr>\n",
       "    <tr>\n",
       "      <th>2017-01-03</th>\n",
       "      <td>3.395833</td>\n",
       "    </tr>\n",
       "    <tr>\n",
       "      <th>2017-01-04</th>\n",
       "      <td>0.445833</td>\n",
       "    </tr>\n",
       "    <tr>\n",
       "      <th>2017-01-05</th>\n",
       "      <td>-3.233333</td>\n",
       "    </tr>\n",
       "  </tbody>\n",
       "</table>\n",
       "</div>"
      ],
      "text/plain": [
       "                  気温\n",
       "Date                \n",
       "2017-01-01 -0.720833\n",
       "2017-01-02  1.483333\n",
       "2017-01-03  3.395833\n",
       "2017-01-04  0.445833\n",
       "2017-01-05 -3.233333"
      ]
     },
     "execution_count": 2,
     "metadata": {},
     "output_type": "execute_result"
    }
   ],
   "source": [
    "daily_av=df.groupby(['Date']).mean()\n",
    "daily_av.head()"
   ]
  },
  {
   "cell_type": "markdown",
   "metadata": {},
   "source": [
    "# ②日最高気温の計算"
   ]
  },
  {
   "cell_type": "code",
   "execution_count": 3,
   "metadata": {},
   "outputs": [
    {
     "data": {
      "text/html": [
       "<div>\n",
       "<style scoped>\n",
       "    .dataframe tbody tr th:only-of-type {\n",
       "        vertical-align: middle;\n",
       "    }\n",
       "\n",
       "    .dataframe tbody tr th {\n",
       "        vertical-align: top;\n",
       "    }\n",
       "\n",
       "    .dataframe thead th {\n",
       "        text-align: right;\n",
       "    }\n",
       "</style>\n",
       "<table border=\"1\" class=\"dataframe\">\n",
       "  <thead>\n",
       "    <tr style=\"text-align: right;\">\n",
       "      <th></th>\n",
       "      <th>時刻</th>\n",
       "      <th>気温</th>\n",
       "    </tr>\n",
       "    <tr>\n",
       "      <th>Date</th>\n",
       "      <th></th>\n",
       "      <th></th>\n",
       "    </tr>\n",
       "  </thead>\n",
       "  <tbody>\n",
       "    <tr>\n",
       "      <th>2017-01-01</th>\n",
       "      <td>9時</td>\n",
       "      <td>0.6</td>\n",
       "    </tr>\n",
       "    <tr>\n",
       "      <th>2017-01-02</th>\n",
       "      <td>9時</td>\n",
       "      <td>4.9</td>\n",
       "    </tr>\n",
       "    <tr>\n",
       "      <th>2017-01-03</th>\n",
       "      <td>9時</td>\n",
       "      <td>6.4</td>\n",
       "    </tr>\n",
       "    <tr>\n",
       "      <th>2017-01-04</th>\n",
       "      <td>9時</td>\n",
       "      <td>2.7</td>\n",
       "    </tr>\n",
       "    <tr>\n",
       "      <th>2017-01-05</th>\n",
       "      <td>9時</td>\n",
       "      <td>-1.5</td>\n",
       "    </tr>\n",
       "  </tbody>\n",
       "</table>\n",
       "</div>"
      ],
      "text/plain": [
       "            時刻   気温\n",
       "Date               \n",
       "2017-01-01  9時  0.6\n",
       "2017-01-02  9時  4.9\n",
       "2017-01-03  9時  6.4\n",
       "2017-01-04  9時  2.7\n",
       "2017-01-05  9時 -1.5"
      ]
     },
     "execution_count": 3,
     "metadata": {},
     "output_type": "execute_result"
    }
   ],
   "source": [
    "daily_max=df.groupby(['Date']).max()\n",
    "daily_max.head()"
   ]
  },
  {
   "cell_type": "markdown",
   "metadata": {},
   "source": [
    "# 離散化フーリエ変換のパラメータ計算"
   ]
  },
  {
   "cell_type": "code",
   "execution_count": 4,
   "metadata": {},
   "outputs": [
    {
     "name": "stdout",
     "output_type": "stream",
     "text": [
      "daily_av_a0= 気温    10.17855\n",
      "dtype: float64\n",
      "daily_max_a0= 気温    14.483562\n",
      "dtype: float64\n",
      "daily_av_a1= 気温   -5.608937\n",
      "dtype: float64\n",
      "daily_av_b1= 気温   -2.671754\n",
      "dtype: float64\n",
      "daily_max_a1= -5.87863133386\n",
      "daily_max_b1= -2.6050188967\n"
     ]
    }
   ],
   "source": [
    "daily_av_a0=daily_av.mean()\n",
    "daily_max_a0=daily_max.mean()\n",
    "print(\"daily_av_a0=\",daily_av_a0)\n",
    "print(\"daily_max_a0=\",daily_max_a0)\n",
    "T=365\n",
    "import math\n",
    "daily_av_a1=0\n",
    "daily_av_b1=0\n",
    "daily_max_a1=0\n",
    "daily_max_b1=0\n",
    "for t in range(T):\n",
    "    cos_var=math.cos(2.0*math.pi*t/T)\n",
    "    sin_var=math.sin(2.0*math.pi*t/T)\n",
    "    #print(t,\"f(t)*cos=\",daily_max['気温'].iloc[t]*math.cos(2.0*math.pi*t/T))\n",
    "    daily_av_a1=daily_av_a1+daily_av.iloc[t]*cos_var/T\n",
    "    daily_av_b1=daily_av_b1+daily_av.iloc[t]*sin_var/T\n",
    "    daily_max_a1=daily_max_a1+daily_max['気温'].iloc[t]*cos_var/T\n",
    "    daily_max_b1=daily_max_b1+daily_max['気温'].iloc[t]*sin_var/T\n",
    "print(\"daily_av_a1=\",daily_av_a1)\n",
    "print(\"daily_av_b1=\",daily_av_b1)\n",
    "print(\"daily_max_a1=\",daily_max_a1)\n",
    "print(\"daily_max_b1=\",daily_max_b1)"
   ]
  },
  {
   "cell_type": "markdown",
   "metadata": {},
   "source": [
    "# ③④気温の離散化フーリエ変換"
   ]
  },
  {
   "cell_type": "code",
   "execution_count": 5,
   "metadata": {
    "collapsed": true
   },
   "outputs": [],
   "source": [
    "fft_av=[daily_av_a0+2*(daily_av_a1*math.cos(2.0*math.pi*t/T)+daily_av_b1*math.sin(2.0*math.pi*t/T)) for t in range(T)]\n",
    "fft_max=[daily_max_a0+2*(daily_max_a1*math.cos(2.0*math.pi*t/T)+daily_max_b1*math.sin(2.0*math.pi*t/T)) for t in range(T)]"
   ]
  },
  {
   "cell_type": "markdown",
   "metadata": {},
   "source": [
    "# 離散化フーリエ変換のグラフ描画"
   ]
  },
  {
   "cell_type": "code",
   "execution_count": 6,
   "metadata": {},
   "outputs": [
    {
     "data": {
      "image/png": "[encoded data removed]",
      "text/plain": [
       "<matplotlib.figure.Figure at 0x1fbc06122b0>"
      ]
     },
     "metadata": {},
     "output_type": "display_data"
    }
   ],
   "source": [
    "import numpy as np\n",
    "import matplotlib.pyplot as plt\n",
    "#日平均気温のプロット\n",
    "plt.subplot(1,2,1)\n",
    "x=np.arange(T)\n",
    "av_y1=fft_av\n",
    "av_y2=daily_av\n",
    "plt.title(r\"日平均気温\")\n",
    "plt.plot(x,av_y2,label=\"orign\")\n",
    "plt.plot(x,av_y1,label=\"FFT\")\n",
    "plt.legend()\n",
    "#日最高気温のプロット\n",
    "plt.subplot(1,2,2)\n",
    "#x=np.arange(365)\n",
    "max_y1=fft_max\n",
    "max_y2=daily_max['気温']\n",
    "plt.title(r\"日最高気温\")\n",
    "plt.plot(x,max_y2,label=\"orign\")\n",
    "plt.plot(x,max_y1,label=\"FFT\")\n",
    "\n",
    "plt.tight_layout()\n",
    "plt.legend()\n",
    "plt.show()"
   ]
  },
  {
   "cell_type": "markdown",
   "metadata": {},
   "source": [
    "# 通日計算関数"
   ]
  },
  {
   "cell_type": "code",
   "execution_count": 7,
   "metadata": {
    "collapsed": true
   },
   "outputs": [],
   "source": [
    "#通日を計算するモジュール\n",
    "def Nday(Mo,Day):\n",
    "    import datetime\n",
    "    NewYear = datetime.datetime(2017,1,1)\n",
    "    ThatDay = datetime.datetime(2017,Mo,Day)\n",
    "    Ndays = ThatDay - NewYear\n",
    "    return Ndays.days + 1"
   ]
  },
  {
   "cell_type": "markdown",
   "metadata": {},
   "source": [
    "# ⑤⑥FFT日平均気温、FFT日最高気温から暖冷房のフラグを設定する"
   ]
  },
  {
   "cell_type": "code",
   "execution_count": 8,
   "metadata": {
    "collapsed": true
   },
   "outputs": [],
   "source": [
    "#フーリエ変換後の外気温度からデフォルトの暖冷房期間を設定する\n",
    "#フーリエ変換後の日平均気温が15℃以下なら暖房期間\n",
    "heating_period=[ta['気温'] <= 15. for ta in fft_av ]\n",
    "#フーリエ変換後の日最高気温が24℃以上なら冷房期間\n",
    "cooling_period=[ta['気温'] >= 24. for ta in fft_max ]\n",
    "#print(heating_period[0])"
   ]
  },
  {
   "cell_type": "markdown",
   "metadata": {},
   "source": [
    "# ⑦暖冷房の開始日、終了日を設定する"
   ]
  },
  {
   "cell_type": "code",
   "execution_count": 9,
   "metadata": {},
   "outputs": [
    {
     "name": "stdout",
     "output_type": "stream",
     "text": [
      "冷房開始日=164\n",
      "冷房終了日=249\n",
      "暖房開始日=277\n",
      "暖房終了日=140\n"
     ]
    }
   ],
   "source": [
    "#暖冷房の開始日・終了日の計算\n",
    "prevHeat=heating_period[0]\n",
    "prevCool=cooling_period[0]\n",
    "#print(prevHeat,prevCool)\n",
    "endCooling=0\n",
    "startCooling=0\n",
    "endHeating=0\n",
    "startHeating=0\n",
    "for i in range(365):\n",
    "    if prevCool==True and cooling_period[i]==False:\n",
    "        #冷房終了日\n",
    "        endCooling=i-1\n",
    "    elif prevCool==False and cooling_period[i]==True:\n",
    "        #冷房開始日\n",
    "        startCooling=i\n",
    "        \n",
    "    if prevHeat==True and heating_period[i]==False:\n",
    "        #暖房終了日\n",
    "        endHeating=i-1\n",
    "    elif prevHeat==False and heating_period[i]==True:\n",
    "        #暖房開始日\n",
    "        startHeating=i\n",
    "    prevCool=cooling_period[i]\n",
    "    prevHeat=heating_period[i]\n",
    "print('冷房開始日='+str(startCooling))\n",
    "print('冷房終了日='+str(endCooling))\n",
    "print('暖房開始日='+str(startHeating))\n",
    "print('暖房終了日='+str(endHeating))"
   ]
  },
  {
   "cell_type": "code",
   "execution_count": 10,
   "metadata": {},
   "outputs": [
    {
     "name": "stdout",
     "output_type": "stream",
     "text": [
      "[True, True, True, True, True, True, True, True, True, True, True, True, True, True, True, True, True, True, True, True, True, True, True, True, True, True, True, True, True, True, True, True, True, True, True, True, True, True, True, True, True, True, True, True, True, True, True, True, True, True, True, True, True, True, True, True, True, True, True, True, True, True, True, True, True, True, True, True, True, True, True, True, True, True, True, True, True, True, True, True, True, True, True, True, True, True, True, True, True, True, True, True, True, True, True, True, True, True, True, True, True, True, True, True, True, True, True, True, True, True, True, True, True, True, True, True, True, True, True, True, True, True, True, True, True, True, True, True, True, True, True, True, True, True, True, True, True, True, True, True, True, False, False, False, False, False, False, False, False, False, False, False, False, False, False, False, False, False, False, False, False, False, False, False, False, False, False, False, False, False, False, False, False, False, False, False, False, False, False, False, False, False, False, False, False, False, False, False, False, False, False, False, False, False, False, False, False, False, False, False, False, False, False, False, False, False, False, False, False, False, False, False, False, False, False, False, False, False, False, False, False, False, False, False, False, False, False, False, False, False, False, False, False, False, False, False, False, False, False, False, False, False, False, False, False, False, False, False, False, False, False, False, False, False, False, False, False, False, False, False, False, False, False, False, False, False, False, False, False, False, False, False, False, False, False, False, False, True, True, True, True, True, True, True, True, True, True, True, True, True, True, True, True, True, True, True, True, True, True, True, True, True, True, True, True, True, True, True, True, True, True, True, True, True, True, True, True, True, True, True, True, True, True, True, True, True, True, True, True, True, True, True, True, True, True, True, True, True, True, True, True, True, True, True, True, True, True, True, True, True, True, True, True, True, True, True, True, True, True, True, True, True, True, True, True]\n"
     ]
    }
   ],
   "source": [
    "print(heating_period)"
   ]
  },
  {
   "cell_type": "code",
   "execution_count": 11,
   "metadata": {},
   "outputs": [
    {
     "name": "stdout",
     "output_type": "stream",
     "text": [
      "[False, False, False, False, False, False, False, False, False, False, False, False, False, False, False, False, False, False, False, False, False, False, False, False, False, False, False, False, False, False, False, False, False, False, False, False, False, False, False, False, False, False, False, False, False, False, False, False, False, False, False, False, False, False, False, False, False, False, False, False, False, False, False, False, False, False, False, False, False, False, False, False, False, False, False, False, False, False, False, False, False, False, False, False, False, False, False, False, False, False, False, False, False, False, False, False, False, False, False, False, False, False, False, False, False, False, False, False, False, False, False, False, False, False, False, False, False, False, False, False, False, False, False, False, False, False, False, False, False, False, False, False, False, False, False, False, False, False, False, False, False, False, False, False, False, False, False, False, False, False, False, False, False, False, False, False, False, False, False, False, False, False, False, False, True, True, True, True, True, True, True, True, True, True, True, True, True, True, True, True, True, True, True, True, True, True, True, True, True, True, True, True, True, True, True, True, True, True, True, True, True, True, True, True, True, True, True, True, True, True, True, True, True, True, True, True, True, True, True, True, True, True, True, True, True, True, True, True, True, True, True, True, True, True, True, True, True, True, True, True, True, True, True, True, True, True, True, True, True, True, False, False, False, False, False, False, False, False, False, False, False, False, False, False, False, False, False, False, False, False, False, False, False, False, False, False, False, False, False, False, False, False, False, False, False, False, False, False, False, False, False, False, False, False, False, False, False, False, False, False, False, False, False, False, False, False, False, False, False, False, False, False, False, False, False, False, False, False, False, False, False, False, False, False, False, False, False, False, False, False, False, False, False, False, False, False, False, False, False, False, False, False, False, False, False, False, False, False, False, False, False, False, False, False, False, False, False, False, False, False, False, False, False, False, False]\n"
     ]
    }
   ],
   "source": [
    "print(cooling_period)"
   ]
  },
  {
   "cell_type": "markdown",
   "metadata": {},
   "source": [
    "# （１）暖房期間を微調整する"
   ]
  },
  {
   "cell_type": "code",
   "execution_count": 12,
   "metadata": {
    "scrolled": true
   },
   "outputs": [
    {
     "name": "stdout",
     "output_type": "stream",
     "text": [
      "[True, True, True, True, True, True, True, True, True, True, True, True, True, True, True, True, True, True, True, True, True, True, True, True, True, True, True, True, True, True, True, True, True, True, True, True, True, True, True, True, True, True, True, True, True, True, True, True, True, True, True, True, True, True, True, True, True, True, True, True, True, True, True, True, True, True, True, True, True, True, True, True, True, True, True, True, True, True, True, True, True, True, True, True, True, True, True, True, True, True, True, True, True, True, True, True, True, True, True, True, True, True, True, True, True, True, True, True, True, True, True, True, True, True, True, True, True, True, True, True, True, True, True, True, True, True, True, True, True, True, True, True, True, True, True, True, True, True, True, True, True, False, False, False, False, False, False, False, False, False, False, False, False, False, False, False, False, False, False, False, False, False, False, False, False, False, False, False, False, False, False, False, False, False, False, False, False, False, False, False, False, False, False, False, False, False, False, False, False, False, False, False, False, False, False, False, False, False, False, False, False, False, False, False, False, False, False, False, False, False, False, False, False, False, False, False, False, False, False, False, False, False, False, False, False, False, False, False, False, False, False, False, False, False, False, False, False, False, False, False, False, False, False, False, False, False, False, False, False, False, False, False, False, False, False, False, False, False, False, False, False, False, False, False, False, False, False, False, False, False, False, False, False, False, False, False, False, True, True, True, True, True, True, True, True, True, True, True, True, True, True, True, True, True, True, True, True, True, True, True, True, True, True, True, True, True, True, True, True, True, True, True, True, True, True, True, True, True, True, True, True, True, True, True, True, True, True, True, True, True, True, True, True, True, True, True, True, True, True, True, True, True, True, True, True, True, True, True, True, True, True, True, True, True, True, True, True, True, True, True, True, True, True, True, True]\n",
      "[True, True, True, True, True, True, True, True, True, True, True, True, True, True, True, True, True, True, True, True, True, True, True, True, True, True, True, True, True, True, True, True, True, True, True, True, True, True, True, True, True, True, True, True, True, True, True, True, True, True, True, True, True, True, True, True, True, True, True, True, True, True, True, True, True, True, True, True, True, True, True, True, True, True, True, True, True, True, True, True, True, True, True, True, True, True, True, True, True, True, True, True, True, True, True, True, True, True, True, True, True, True, True, True, True, True, True, True, True, True, True, True, True, True, True, True, True, True, True, True, True, True, True, True, True, True, True, True, True, True, True, True, True, True, True, True, True, True, True, True, True, False, False, False, False, False, False, False, False, False, False, False, False, False, False, False, False, False, False, False, False, False, False, False, False, False, False, False, False, False, False, False, False, False, False, False, False, False, False, False, False, False, False, False, False, False, False, False, False, False, False, False, False, False, False, False, False, False, False, False, False, False, False, False, False, False, False, False, False, False, False, False, False, False, False, False, False, False, False, False, False, False, False, False, False, False, False, False, False, False, False, False, False, False, False, False, False, False, False, False, False, False, False, False, False, False, False, False, False, False, False, False, False, False, False, False, False, False, False, False, False, False, False, False, False, False, False, False, False, False, False, False, False, False, False, False, False, True, True, True, True, True, True, True, True, True, True, True, True, True, True, True, True, True, True, True, True, True, True, True, True, True, True, True, True, True, True, True, True, True, True, True, True, True, True, True, True, True, True, True, True, True, True, True, True, True, True, True, True, True, True, True, True, True, True, True, True, True, True, True, True, True, True, True, True, True, True, True, True, True, True, True, True, True, True, True, True, True, True, True, True, True, True, True, True]\n",
      "[True, True, True, True, True, True, True, True, True, True, True, True, True, True, True, True, True, True, True, True, True, True, True, True, True, True, True, True, True, True, True, True, True, True, True, True, True, True, True, True, True, True, True, True, True, True, True, True, True, True, True, True, True, True, True, True, True, True, True, True, True, True, True, True, True, True, True, True, True, True, True, True, True, True, True, True, True, True, True, True, True, True, True, True, True, True, True, True, True, True, True, True, True, True, True, True, True, True, True, True, True, True, True, True, True, True, True, True, True, True, True, True, True, True, True, True, True, True, True, True, True, True, True, True, True, True, True, True, True, True, True, True, True, True, True, True, True, True, True, True, True, False, False, False, False, False, False, False, False, False, False, False, False, False, False, False, False, False, False, False, False, False, False, False, False, False, False, False, False, False, False, False, False, False, False, False, False, False, False, False, False, False, False, False, False, False, False, False, False, False, False, False, False, False, False, False, False, False, False, False, False, False, False, False, False, False, False, False, False, False, False, False, False, False, False, False, False, False, False, False, False, False, False, False, False, False, False, False, False, False, False, False, False, False, False, False, False, False, False, False, False, False, False, False, False, False, False, False, False, False, False, False, False, False, False, False, False, False, False, False, False, False, False, False, False, False, False, False, False, False, False, False, False, False, False, False, False, True, True, True, True, True, True, True, True, True, True, True, True, True, True, True, True, True, True, True, True, True, True, True, True, True, True, True, True, True, True, True, True, True, True, True, True, True, True, True, True, True, True, True, True, True, True, True, True, True, True, True, True, True, True, True, True, True, True, True, True, True, True, True, True, True, True, True, True, True, True, True, True, True, True, True, True, True, True, True, True, True, True, True, True, True, True, True, True]\n",
      "[True, True, True, True, True, True, True, True, True, True, True, True, True, True, True, True, True, True, True, True, True, True, True, True, True, True, True, True, True, True, True, True, True, True, True, True, True, True, True, True, True, True, True, True, True, True, True, True, True, True, True, True, True, True, True, True, True, True, True, True, True, True, True, True, True, True, True, True, True, True, True, True, True, True, True, True, True, True, True, True, True, True, True, True, True, True, True, True, True, True, True, True, True, True, True, True, True, True, True, True, True, True, True, True, True, True, True, True, True, True, True, True, True, True, True, True, True, True, True, True, True, True, True, True, True, True, True, True, True, True, True, True, True, True, True, True, True, True, True, True, True, False, False, False, False, False, False, False, False, False, False, False, False, False, False, False, False, False, False, False, False, False, False, False, False, False, False, False, False, False, False, False, False, False, False, False, False, False, False, False, False, False, False, False, False, False, False, False, False, False, False, False, False, False, False, False, False, False, False, False, False, False, False, False, False, False, False, False, False, False, False, False, False, False, False, False, False, False, False, False, False, False, False, False, False, False, False, False, False, False, False, False, False, False, False, False, False, False, False, False, False, False, False, False, False, False, False, False, False, False, False, False, False, False, False, False, False, False, False, False, False, False, False, False, False, False, False, False, False, False, False, False, False, False, False, False, False, True, True, True, True, True, True, True, True, True, True, True, True, True, True, True, True, True, True, True, True, True, True, True, True, True, True, True, True, True, True, True, True, True, True, True, True, True, True, True, True, True, True, True, True, True, True, True, True, True, True, True, True, True, True, True, True, True, True, True, True, True, True, True, True, True, True, True, True, True, True, True, True, True, True, True, True, True, True, True, True, True, True, True, True, True, True, True, True]\n"
     ]
    }
   ],
   "source": [
    "#(1-1) 6/1の暖房フラグがTrueの場合\n",
    "#raw日平均気温が6/1以降で15℃以上になった翌日から冷房開始日までの暖房フラグをFalseとする\n",
    "Nday0601 = Nday(6,1) - 1\n",
    "if heating_period[Nday0601] == True:\n",
    "    for i in range(Nday0601,365):\n",
    "        if daily_av['気温'].iloc[i] >= 15 :\n",
    "            for j in range(i+1,startCooling):\n",
    "                heating_period[j] = False\n",
    "            break\n",
    "            \n",
    "#print('処理(1-1)')\n",
    "print(heating_period)\n",
    "\n",
    "#(1-2) 7/1の暖房フラグがTrueの場合\n",
    "#7/1から冷房開始日前日までの暖房フラグをFalseとする\n",
    "Nday0701 = Nday(7,1) - 1\n",
    "if heating_period[Nday0701] == True:\n",
    "    for i in range(Nday0701,startCooling):\n",
    "        heating_period[j] = False\n",
    "\n",
    "#print('処理(1-2)')\n",
    "print(heating_period)\n",
    "\n",
    "#(1-3) 9/30の暖房フラグがTrueの場合\n",
    "#冷房終了日翌日から、9/30よりさかのぼってraw日平均気温が15℃以上となる前日までの暖房フラグをFalseとする\n",
    "Nday0930 = Nday(9,30) - 1\n",
    "if heating_period[Nday0930] == True :\n",
    "    for i in reversed(range(0,Nday0930+1)):\n",
    "        if daily_av['気温'].iloc[i] >= 15:\n",
    "            for j in range(endCooling+1,i+1):\n",
    "                heating_period[j] = False\n",
    "            break\n",
    "            \n",
    "#print('処理(1-3)')\n",
    "print(heating_period)\n",
    "            \n",
    "#(1-4) 9/15の暖房フラグがTrueの場合\n",
    "#9/14から冷房期終了翌日までの暖房フラグをFalseとする\n",
    "Nday0915 = Nday(9,15) - 1\n",
    "if heating_period[Nday0915] == True:\n",
    "    for i in range(endCooling+1,Nday0915 - 1):\n",
    "        heating_period[j] = False\n",
    "        \n",
    "#print('処理(1-4)')\n",
    "print(heating_period)"
   ]
  },
  {
   "cell_type": "markdown",
   "metadata": {},
   "source": [
    "# （２）冷房期間を調整する"
   ]
  },
  {
   "cell_type": "code",
   "execution_count": 13,
   "metadata": {},
   "outputs": [
    {
     "name": "stdout",
     "output_type": "stream",
     "text": [
      "[False, False, False, False, False, False, False, False, False, False, False, False, False, False, False, False, False, False, False, False, False, False, False, False, False, False, False, False, False, False, False, False, False, False, False, False, False, False, False, False, False, False, False, False, False, False, False, False, False, False, False, False, False, False, False, False, False, False, False, False, False, False, False, False, False, False, False, False, False, False, False, False, False, False, False, False, False, False, False, False, False, False, False, False, False, False, False, False, False, False, False, False, False, False, False, False, False, False, False, False, False, False, False, False, False, False, False, False, False, False, False, False, False, False, False, False, False, False, False, False, False, False, False, False, False, False, False, False, False, False, False, False, False, False, False, False, False, False, False, False, False, False, False, False, False, False, False, False, False, False, False, False, False, False, False, False, False, False, False, False, False, False, False, False, True, True, True, True, True, True, True, True, True, True, True, True, True, True, True, True, True, True, True, True, True, True, True, True, True, True, True, True, True, True, True, True, True, True, True, True, True, True, True, True, True, True, True, True, True, True, True, True, True, True, True, True, True, True, True, True, True, True, True, True, True, True, True, True, True, True, True, True, True, True, True, True, True, True, True, True, True, True, True, True, True, True, True, True, True, True, False, False, False, False, False, False, False, False, False, False, False, False, False, False, False, False, False, False, False, False, False, False, False, False, False, False, False, False, False, False, False, False, False, False, False, False, False, False, False, False, False, False, False, False, False, False, False, False, False, False, False, False, False, False, False, False, False, False, False, False, False, False, False, False, False, False, False, False, False, False, False, False, False, False, False, False, False, False, False, False, False, False, False, False, False, False, False, False, False, False, False, False, False, False, False, False, False, False, False, False, False, False, False, False, False, False, False, False, False, False, False, False, False, False, False]\n",
      "[False, False, False, False, False, False, False, False, False, False, False, False, False, False, False, False, False, False, False, False, False, False, False, False, False, False, False, False, False, False, False, False, False, False, False, False, False, False, False, False, False, False, False, False, False, False, False, False, False, False, False, False, False, False, False, False, False, False, False, False, False, False, False, False, False, False, False, False, False, False, False, False, False, False, False, False, False, False, False, False, False, False, False, False, False, False, False, False, False, False, False, False, False, False, False, False, False, False, False, False, False, False, False, False, False, False, False, False, False, False, False, False, False, False, False, False, False, False, False, False, False, False, False, False, False, False, False, False, False, False, False, False, False, False, False, False, False, False, False, False, False, False, False, False, False, False, False, False, False, False, False, False, False, False, False, False, False, False, False, False, False, False, False, False, True, True, True, True, True, True, True, True, True, True, True, True, True, True, True, True, True, True, True, True, True, True, True, True, True, True, True, True, True, True, True, True, True, True, True, True, True, True, True, True, True, True, True, True, True, True, True, True, True, True, True, True, True, True, True, True, True, True, True, True, True, True, True, True, True, True, True, True, True, True, True, True, True, True, True, True, True, True, True, True, True, True, True, True, True, True, False, False, False, False, False, False, False, False, False, False, False, False, False, False, False, False, False, False, False, False, False, False, False, False, False, False, False, False, False, False, False, False, False, False, False, False, False, False, False, False, False, False, False, False, False, False, False, False, False, False, False, False, False, False, False, False, False, False, False, False, False, False, False, False, False, False, False, False, False, False, False, False, False, False, False, False, False, False, False, False, False, False, False, False, False, False, False, False, False, False, False, False, False, False, False, False, False, False, False, False, False, False, False, False, False, False, False, False, False, False, False, False, False, False, False]\n",
      "[False, False, False, False, False, False, False, False, False, False, False, False, False, False, False, False, False, False, False, False, False, False, False, False, False, False, False, False, False, False, False, False, False, False, False, False, False, False, False, False, False, False, False, False, False, False, False, False, False, False, False, False, False, False, False, False, False, False, False, False, False, False, False, False, False, False, False, False, False, False, False, False, False, False, False, False, False, False, False, False, False, False, False, False, False, False, False, False, False, False, False, False, False, False, False, False, False, False, False, False, False, False, False, False, False, False, False, False, False, False, False, False, False, False, False, False, False, False, False, False, False, False, False, False, False, False, False, False, False, False, False, False, False, False, False, False, False, False, False, False, False, False, False, False, False, False, False, False, False, False, False, False, False, False, False, False, False, False, False, False, False, False, False, False, True, True, True, True, True, True, True, True, True, True, True, True, True, True, True, True, True, True, True, True, True, True, True, True, True, True, True, True, True, True, True, True, True, True, True, True, True, True, True, True, True, True, True, True, True, True, True, True, True, True, True, True, True, True, True, True, True, True, True, True, True, True, True, True, True, True, True, True, True, True, True, True, True, True, True, True, True, True, True, True, True, True, True, True, True, True, False, False, False, False, False, False, False, False, False, False, False, False, False, False, False, False, False, False, False, False, False, False, False, False, False, False, False, False, False, False, False, False, False, False, False, False, False, False, False, False, False, False, False, False, False, False, False, False, False, False, False, False, False, False, False, False, False, False, False, False, False, False, False, False, False, False, False, False, False, False, False, False, False, False, False, False, False, False, False, False, False, False, False, False, False, False, False, False, False, False, False, False, False, False, False, False, False, False, False, False, False, False, False, False, False, False, False, False, False, False, False, False, False, False, False]\n",
      "[False, False, False, False, False, False, False, False, False, False, False, False, False, False, False, False, False, False, False, False, False, False, False, False, False, False, False, False, False, False, False, False, False, False, False, False, False, False, False, False, False, False, False, False, False, False, False, False, False, False, False, False, False, False, False, False, False, False, False, False, False, False, False, False, False, False, False, False, False, False, False, False, False, False, False, False, False, False, False, False, False, False, False, False, False, False, False, False, False, False, False, False, False, False, False, False, False, False, False, False, False, False, False, False, False, False, False, False, False, False, False, False, False, False, False, False, False, False, False, False, False, False, False, False, False, False, False, False, False, False, False, False, False, False, False, False, False, False, False, False, False, False, False, False, False, False, False, False, False, False, False, False, False, False, False, False, False, False, False, False, False, False, False, False, True, True, True, True, True, True, True, True, True, True, True, True, True, True, True, True, True, True, True, True, True, True, True, True, True, True, True, True, True, True, True, True, True, True, True, True, True, True, True, True, True, True, True, True, True, True, True, True, True, True, True, True, True, True, True, True, True, True, True, True, True, True, True, True, True, True, True, True, True, True, True, True, True, True, True, True, True, True, True, True, True, True, True, True, True, True, False, False, False, False, False, False, False, False, False, False, False, False, False, False, False, False, False, False, False, False, False, False, False, False, False, False, False, False, False, False, False, False, False, False, False, False, False, False, False, False, False, False, False, False, False, False, False, False, False, False, False, False, False, False, False, False, False, False, False, False, False, False, False, False, False, False, False, False, False, False, False, False, False, False, False, False, False, False, False, False, False, False, False, False, False, False, False, False, False, False, False, False, False, False, False, False, False, False, False, False, False, False, False, False, False, False, False, False, False, False, False, False, False, False, False]\n"
     ]
    }
   ],
   "source": [
    "#(2-1) 7/10の冷房フラグがTrueの場合\n",
    "#raw日最高気温が7/10以降で最初に23℃以上になった翌日から冷房終了日までの冷房フラグをTrueとする\n",
    "Nday0710 = Nday(7,10) - 1\n",
    "if cooling_period[Nday0710] == True:\n",
    "    for i in range(Nday0710,365):\n",
    "        if daily_max['気温'].iloc[i] >= 23 :\n",
    "            for j in range(i+1,endCooling):\n",
    "                cooling_period[j] = True\n",
    "            break\n",
    "            \n",
    "#print('処理(2-1)')\n",
    "print(cooling_period)\n",
    "\n",
    "#（2-2）7/20の冷房フラグ、暖房フラグが共にFalseの場合\n",
    "#7/20から冷房終了日までの冷房フラグをTrueとする\n",
    "Nday0720 = Nday(7,20) - 1\n",
    "if cooling_period[Nday0720] == False and heating_period[Nday0720] == False:\n",
    "    for i in range(Nday0720,endCooling+1):\n",
    "        cooling_period[j] = True\n",
    "            \n",
    "#print('処理(2-2)')\n",
    "print(cooling_period)\n",
    "\n",
    "#（2-3）8/31の冷房フラグ、暖房フラグが共にFalseの場合\n",
    "#8/31よりさかのぼってraw日最高気温が23℃以上となる日から冷房開始日までの冷房フラグをTrueとする\n",
    "Nday0831 = Nday(8,31) - 1\n",
    "#print(Nday0831)\n",
    "if cooling_period[Nday0831] == False and heating_period[Nday0831] == False :\n",
    "    #print('8/31は中間期')\n",
    "    for i in reversed(range(0,Nday0831)):\n",
    "        #print(daily_max['気温'].iloc[i])\n",
    "        if daily_max['気温'].iloc[i] >= 23:\n",
    "            #print('日最高気温が23℃以上となるのは'+str(i))\n",
    "            for j in reversed(range(startCooling,i+1)):\n",
    "                cooling_period[j] = True\n",
    "            break\n",
    "            \n",
    "#print('処理(2-3)')\n",
    "print(cooling_period)\n",
    "            \n",
    "#（2-4）8/15の冷房フラグ、暖房フラグが共にFalseの場合\n",
    "#冷房開始日から8/14までの冷房フラグをTrueとする\n",
    "Nday0815 = Nday(8,15) - 1\n",
    "if cooling_period[Nday0815] == False and heating_period[Nday0815] == False:\n",
    "    for i in range(startCool,Nday0815+1):\n",
    "        cooling_period[j] = True\n",
    "        \n",
    "#print('処理(2-4)')\n",
    "print(cooling_period)"
   ]
  },
  {
   "cell_type": "code",
   "execution_count": null,
   "metadata": {
    "collapsed": true
   },
   "outputs": [],
   "source": []
  }
 ],
 "metadata": {
  "kernelspec": {
   "display_name": "Python 3",
   "language": "python",
   "name": "python3"
  },
  "language_info": {
   "codemirror_mode": {
    "name": "ipython",
    "version": 3
   },
   "file_extension": ".py",
   "mimetype": "text/x-python",
   "name": "python",
   "nbconvert_exporter": "python",
   "pygments_lexer": "ipython3",
   "version": "3.6.5"
  }
 },
 "nbformat": 4,
 "nbformat_minor": 2
}
