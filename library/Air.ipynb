{
 "cells": [
  {
   "cell_type": "code",
   "execution_count": 1,
   "metadata": {
    "collapsed": false
   },
   "outputs": [
    {
     "name": "stdout",
     "output_type": "stream",
     "text": [
      "Importing Jupyter notebook from ..\\basic\\SaturatedVaporPressure.ipynb\n",
      "Importing Jupyter notebook from ..\\basic\\VaporPressure.ipynb\n",
      "Importing Jupyter notebook from ..\\library\\Temperature.ipynb\n"
     ]
    }
   ],
   "source": [
    "import sys\n",
    "sys.path.append('../')\n",
    "import nbimporter\n",
    "from basic.SaturatedVaporPressure import get_saturated_vapor_pressure as get_svp\n",
    "from basic.VaporPressure import rh_to_ah, ah_to_rh, ah_to_pv, pv_to_ah, pv_to_rh, get_saturated_absolute_humidity, get_dew_point_temp\n",
    "from library.Temperature import Temperature\n",
    "\n",
    "import matplotlib.pyplot as plt"
   ]
  },
  {
   "cell_type": "markdown",
   "metadata": {},
   "source": [
    "# Air Class"
   ]
  },
  {
   "cell_type": "markdown",
   "metadata": {},
   "source": [
    "## 1. Class"
   ]
  },
  {
   "cell_type": "code",
   "execution_count": 2,
   "metadata": {
    "collapsed": false
   },
   "outputs": [],
   "source": [
    "class Air:\n",
    "    \n",
    "    svpeq = 'SONNTAG' # the default equation is based no SONNTAG\n",
    "    eqtype = 'water'\n",
    "    \n",
    "    def __init__(self, t, h, humtype):\n",
    "        self._T = t\n",
    "        self.set_humidity(t, h, humtype)\n",
    "    \n",
    "    def set_humidity(self, t, h, humtype):\n",
    "        f = {\n",
    "            'relative' : self.set_relative_humidity,\n",
    "            'absolute' : self.set_absolute_humidity\n",
    "        }[humtype]\n",
    "        f(h)\n",
    "    \n",
    "    # temperature\n",
    "    \n",
    "    def set_temperature(self,t):\n",
    "        if ah_to_rh(self._AH, t.K, self.svpeq, self.eqtype) > 100:\n",
    "            raise ValueError('Error: Temperature shall be not set at the state that the relative humidity is over 100 %.')\n",
    "        self._T = t\n",
    "\n",
    "    def get_temperature(self):\n",
    "        return self._T\n",
    "    \n",
    "    T = property(get_temperature, set_temperature)\n",
    "\n",
    "    # relative humidity\n",
    "    \n",
    "    def set_relative_humidity(self, rh):\n",
    "        if rh < 0:\n",
    "            raise ValueError('Error: Relative humidity shall be equal to or more than 0 %.')\n",
    "        if rh > 100:\n",
    "            raise ValueError('Error: Relative humidity shall not be over 100 %.')\n",
    "        self._AH = rh_to_ah(rh, self._T.K, self.svpeq, self.eqtype)\n",
    "    \n",
    "    def get_relative_humidity(self):\n",
    "        return ah_to_rh(self._AH, self._T.K, self.svpeq, self.eqtype)\n",
    "    \n",
    "    RH = property(get_relative_humidity, set_relative_humidity)\n",
    "    \n",
    "    # absolute humidity\n",
    "    \n",
    "    def set_absolute_humidity(self, ah):\n",
    "        if ah < 0:\n",
    "            raise ValueError('Error: Absolute humidity shall be equal to or more than 0 kg/kgDA.')\n",
    "        if ah_to_rh(ah, self._T.K, self.svpeq, self.eqtype) > 100:\n",
    "            raise ValueError('Error: Absolute humidity shall be not set at the state that the relative humidity is over 100 %.')\n",
    "        self._AH = ah\n",
    "        \n",
    "    def get_absolute_humidity(self):\n",
    "        return self._AH\n",
    "    \n",
    "    AH = property(get_absolute_humidity, set_absolute_humidity)\n",
    "    \n",
    "    # vapor pressure\n",
    "    \n",
    "    def set_vapor_pressure(self, pv):\n",
    "        if pv < 0:\n",
    "            raise ValueError('Error: Vapor pressure shall be equal to or more than 0 Pa.')\n",
    "        if pv_to_rh(pv, self._T.K, self.svpeq, self.eqtype) > 100:\n",
    "            raise ValueError('Error: Vapor pressure shall be not set at the state that the relative humidity is over 100 %.')\n",
    "        self._AH = pv_to_ah(pv)\n",
    "    \n",
    "    def get_vapor_pressure(self):\n",
    "        return ah_to_pv(self._AH)\n",
    "    \n",
    "    VP = property(get_vapor_pressure, set_vapor_pressure)\n",
    "    \n",
    "    # saturated vapor pressure\n",
    "    \n",
    "    def get_SVP(self):\n",
    "        return get_svp(self.svpeq, self.eqtype, self._T.K)\n",
    "    \n",
    "    SVP = property(get_SVP, None)\n",
    "    \n",
    "    # saturated absolute humidity\n",
    "\n",
    "    def get_SAH(self):\n",
    "        return get_saturated_absolute_humidity(self._T.K, self.svpeq, self.eqtype)\n",
    "    \n",
    "    SAH = property(get_SAH, None)\n",
    "    \n",
    "    # dew point temperature\n",
    "    \n",
    "    def get_DPT(self):\n",
    "        return Temperature(get_dew_point_temp(self._AH, self.svpeq, self.eqtype))\n",
    "    \n",
    "    DPT = property(get_DPT, None)"
   ]
  },
  {
   "cell_type": "markdown",
   "metadata": {},
   "source": [
    "## 2. Mannual"
   ]
  },
  {
   "cell_type": "markdown",
   "metadata": {},
   "source": [
    "### 2.1 Set"
   ]
  },
  {
   "cell_type": "markdown",
   "metadata": {},
   "source": [
    "At first, set the parameters of constructor.  \n",
    "The first parameter is temperature as 'Temperature' class.  \n",
    "The second parameter is humidity. Which this value means relative (%) or absolute (kg/kgDA) is depending on the therd parameter.  \n",
    "The therd parameter represents the second parameter's meaning. You can specify 'relative' or 'absolute'."
   ]
  },
  {
   "cell_type": "markdown",
   "metadata": {},
   "source": [
    "The below is an example."
   ]
  },
  {
   "cell_type": "code",
   "execution_count": 3,
   "metadata": {
    "collapsed": false
   },
   "outputs": [],
   "source": [
    "a = Air( Temperature(35.0,'Celsius'), 50.0, 'relative' )"
   ]
  },
  {
   "cell_type": "markdown",
   "metadata": {},
   "source": [
    "Relative humidity shall be 0 ~ 100 (%)."
   ]
  },
  {
   "cell_type": "code",
   "execution_count": 4,
   "metadata": {
    "collapsed": false
   },
   "outputs": [
    {
     "name": "stdout",
     "output_type": "stream",
     "text": [
      "Error: Relative humidity shall be equal to or more than 0 %.\n"
     ]
    }
   ],
   "source": [
    "try:\n",
    "    Air( Temperature(35.0,'Celsius'), -1.0, 'relative' )\n",
    "except ValueError as e:\n",
    "    print(e)"
   ]
  },
  {
   "cell_type": "code",
   "execution_count": 5,
   "metadata": {
    "collapsed": false
   },
   "outputs": [
    {
     "name": "stdout",
     "output_type": "stream",
     "text": [
      "Error: Relative humidity shall not be over 100 %.\n"
     ]
    }
   ],
   "source": [
    "try:\n",
    "    Air( Temperature(35.0,'Celsius'), 101.0, 'relative' )\n",
    "except ValueError as e:\n",
    "    print(e)"
   ]
  },
  {
   "cell_type": "markdown",
   "metadata": {},
   "source": [
    "Absolute humidity shall not be over the saturated absolute humidity. "
   ]
  },
  {
   "cell_type": "code",
   "execution_count": 6,
   "metadata": {
    "collapsed": false
   },
   "outputs": [
    {
     "name": "stdout",
     "output_type": "stream",
     "text": [
      "Error: Absolute humidity shall be not set at the state that the relative humidity is over 100 %.\n"
     ]
    }
   ],
   "source": [
    "try:\n",
    "    Air( Temperature(35.0,'Celsius'), 0.037, 'absolute' )\n",
    "        # saturated absolute humidity at 35 degree C is 0.036588480692732184 based on SONNTAG equation.\n",
    "except ValueError as e:\n",
    "    print(e)"
   ]
  },
  {
   "cell_type": "markdown",
   "metadata": {},
   "source": [
    "## 2.2 Get"
   ]
  },
  {
   "cell_type": "markdown",
   "metadata": {},
   "source": [
    "You can get the parameters by using property."
   ]
  },
  {
   "cell_type": "markdown",
   "metadata": {},
   "source": [
    "### 1) Temperature"
   ]
  },
  {
   "cell_type": "code",
   "execution_count": 7,
   "metadata": {
    "collapsed": false
   },
   "outputs": [
    {
     "data": {
      "text/plain": [
       "(<library.Temperature.Temperature at 0x175f3ccab00>, 35.0, 308.15)"
      ]
     },
     "execution_count": 7,
     "metadata": {},
     "output_type": "execute_result"
    }
   ],
   "source": [
    "a.T, a.T.C, a.T.K  # class, degree C, K "
   ]
  },
  {
   "cell_type": "markdown",
   "metadata": {},
   "source": [
    "### 2) Relative Humidity"
   ]
  },
  {
   "cell_type": "code",
   "execution_count": 8,
   "metadata": {
    "collapsed": false
   },
   "outputs": [
    {
     "data": {
      "text/plain": [
       "50.0"
      ]
     },
     "execution_count": 8,
     "metadata": {},
     "output_type": "execute_result"
    }
   ],
   "source": [
    "a.RH # %"
   ]
  },
  {
   "cell_type": "markdown",
   "metadata": {},
   "source": [
    "### 3) Absolute Humidity"
   ]
  },
  {
   "cell_type": "code",
   "execution_count": 9,
   "metadata": {
    "collapsed": false
   },
   "outputs": [
    {
     "data": {
      "text/plain": [
       "0.017771544359487364"
      ]
     },
     "execution_count": 9,
     "metadata": {},
     "output_type": "execute_result"
    }
   ],
   "source": [
    "a.AH # kg/kgDA"
   ]
  },
  {
   "cell_type": "markdown",
   "metadata": {},
   "source": [
    "### 4) Vapor Pressure"
   ]
  },
  {
   "cell_type": "code",
   "execution_count": 10,
   "metadata": {
    "collapsed": false
   },
   "outputs": [
    {
     "data": {
      "text/plain": [
       "2814.601162088015"
      ]
     },
     "execution_count": 10,
     "metadata": {},
     "output_type": "execute_result"
    }
   ],
   "source": [
    "a.VP # Pa"
   ]
  },
  {
   "cell_type": "markdown",
   "metadata": {},
   "source": [
    "### 5) Saturated Vapor Pressure"
   ]
  },
  {
   "cell_type": "code",
   "execution_count": 11,
   "metadata": {
    "collapsed": false
   },
   "outputs": [
    {
     "data": {
      "text/plain": [
       "5629.20232417603"
      ]
     },
     "execution_count": 11,
     "metadata": {},
     "output_type": "execute_result"
    }
   ],
   "source": [
    "a.SVP # Pa"
   ]
  },
  {
   "cell_type": "markdown",
   "metadata": {},
   "source": [
    "### 6) Saturated Absolute Humidity"
   ]
  },
  {
   "cell_type": "code",
   "execution_count": 12,
   "metadata": {
    "collapsed": false
   },
   "outputs": [
    {
     "data": {
      "text/plain": [
       "0.036588480692732184"
      ]
     },
     "execution_count": 12,
     "metadata": {},
     "output_type": "execute_result"
    }
   ],
   "source": [
    "a.SAH # kg/kgDA"
   ]
  },
  {
   "cell_type": "markdown",
   "metadata": {},
   "source": [
    "### 7) Dew Point Temperature"
   ]
  },
  {
   "cell_type": "code",
   "execution_count": 13,
   "metadata": {
    "collapsed": false
   },
   "outputs": [
    {
     "data": {
      "text/plain": [
       "(<library.Temperature.Temperature at 0x175f3d0dc50>,\n",
       " 296.1710157394409,\n",
       " 23.02101573944094)"
      ]
     },
     "execution_count": 13,
     "metadata": {},
     "output_type": "execute_result"
    }
   ],
   "source": [
    "a.DPT, a.DPT.K, a.DPT.C"
   ]
  },
  {
   "cell_type": "markdown",
   "metadata": {},
   "source": [
    "### 2.3 Change Parameter"
   ]
  },
  {
   "cell_type": "markdown",
   "metadata": {},
   "source": [
    "You can change parameters."
   ]
  },
  {
   "cell_type": "markdown",
   "metadata": {},
   "source": [
    "### 1) Temperature"
   ]
  },
  {
   "cell_type": "markdown",
   "metadata": {},
   "source": [
    "In the example below, the temperature is changed to 40.0 degree C from 35.0 degree C. "
   ]
  },
  {
   "cell_type": "code",
   "execution_count": 14,
   "metadata": {
    "collapsed": true
   },
   "outputs": [],
   "source": [
    "a2 = Air( Temperature(35.0,'Celsius'), 50.0, 'relative' )"
   ]
  },
  {
   "cell_type": "code",
   "execution_count": 15,
   "metadata": {
    "collapsed": false
   },
   "outputs": [
    {
     "data": {
      "text/plain": [
       "(35.0, 50.0, 0.017771544359487364)"
      ]
     },
     "execution_count": 15,
     "metadata": {},
     "output_type": "execute_result"
    }
   ],
   "source": [
    "a2.T.C, a2.RH, a2.AH"
   ]
  },
  {
   "cell_type": "code",
   "execution_count": 16,
   "metadata": {
    "collapsed": true
   },
   "outputs": [],
   "source": [
    "a2.T = Temperature(40.0,'Celsius')"
   ]
  },
  {
   "cell_type": "code",
   "execution_count": 17,
   "metadata": {
    "collapsed": false
   },
   "outputs": [
    {
     "data": {
      "text/plain": [
       "(40.0, 38.110878995581295, 0.017771544359487364)"
      ]
     },
     "execution_count": 17,
     "metadata": {},
     "output_type": "execute_result"
    }
   ],
   "source": [
    "a2.T.C, a2.RH, a2.AH"
   ]
  },
  {
   "cell_type": "markdown",
   "metadata": {},
   "source": [
    "You can not set the temperature which is below the dew point temperature."
   ]
  },
  {
   "cell_type": "code",
   "execution_count": 18,
   "metadata": {
    "collapsed": true
   },
   "outputs": [],
   "source": [
    "a3 = Air( Temperature(35.0,'Celsius'), 50.0, 'relative' )"
   ]
  },
  {
   "cell_type": "code",
   "execution_count": 19,
   "metadata": {
    "collapsed": false
   },
   "outputs": [
    {
     "data": {
      "text/plain": [
       "23.02101573944094"
      ]
     },
     "execution_count": 19,
     "metadata": {},
     "output_type": "execute_result"
    }
   ],
   "source": [
    "a3.DPT.C"
   ]
  },
  {
   "cell_type": "code",
   "execution_count": 20,
   "metadata": {
    "collapsed": false
   },
   "outputs": [
    {
     "name": "stdout",
     "output_type": "stream",
     "text": [
      "Error: Temperature shall be not set at the state that the relative humidity is over 100 %.\n"
     ]
    }
   ],
   "source": [
    "try:\n",
    "    a3.T = Temperature(23.0,'Celsius') # The dew point temperature is 23.02101573944094 degree C.\n",
    "except ValueError as e:\n",
    "    print(e)"
   ]
  },
  {
   "cell_type": "markdown",
   "metadata": {},
   "source": [
    "### 2) Absolute Humidity"
   ]
  },
  {
   "cell_type": "markdown",
   "metadata": {},
   "source": [
    "In the example below, the absolute humidity is changed to 0.019 kg/kgDA from 0.017 kg/kgDA. "
   ]
  },
  {
   "cell_type": "code",
   "execution_count": 21,
   "metadata": {
    "collapsed": true
   },
   "outputs": [],
   "source": [
    "a4 = Air( Temperature(35.0,'Celsius'), 0.017, 'absolute' )"
   ]
  },
  {
   "cell_type": "code",
   "execution_count": 22,
   "metadata": {
    "collapsed": false
   },
   "outputs": [
    {
     "data": {
      "text/plain": [
       "(35.0, 47.88702060713158, 0.017)"
      ]
     },
     "execution_count": 22,
     "metadata": {},
     "output_type": "execute_result"
    }
   ],
   "source": [
    "a4.T.C, a4.RH, a4.AH"
   ]
  },
  {
   "cell_type": "code",
   "execution_count": 23,
   "metadata": {
    "collapsed": true
   },
   "outputs": [],
   "source": [
    "a4.AH = 0.019"
   ]
  },
  {
   "cell_type": "code",
   "execution_count": 24,
   "metadata": {
    "collapsed": false
   },
   "outputs": [
    {
     "data": {
      "text/plain": [
       "(35.0, 53.353796199980216, 0.019)"
      ]
     },
     "execution_count": 24,
     "metadata": {},
     "output_type": "execute_result"
    }
   ],
   "source": [
    "a4.T.C, a4.RH, a4.AH"
   ]
  },
  {
   "cell_type": "markdown",
   "metadata": {},
   "source": [
    "You can not set the absolute humidity which is over the saturated absolute humidity."
   ]
  },
  {
   "cell_type": "code",
   "execution_count": 25,
   "metadata": {
    "collapsed": false
   },
   "outputs": [],
   "source": [
    "a5 = Air( Temperature(35.0,'Celsius'), 50.0, 'relative' )"
   ]
  },
  {
   "cell_type": "code",
   "execution_count": 26,
   "metadata": {
    "collapsed": false
   },
   "outputs": [
    {
     "data": {
      "text/plain": [
       "0.036588480692732184"
      ]
     },
     "execution_count": 26,
     "metadata": {},
     "output_type": "execute_result"
    }
   ],
   "source": [
    "a5.SAH"
   ]
  },
  {
   "cell_type": "code",
   "execution_count": 27,
   "metadata": {
    "collapsed": false
   },
   "outputs": [
    {
     "name": "stdout",
     "output_type": "stream",
     "text": [
      "Error: Absolute humidity shall be not set at the state that the relative humidity is over 100 %.\n"
     ]
    }
   ],
   "source": [
    "try:\n",
    "    a5.AH = 0.0366 # The saturated absolute humidity is 0.036588480692732184(kg/kgDA).\n",
    "except ValueError as e:\n",
    "    print(e)"
   ]
  },
  {
   "cell_type": "markdown",
   "metadata": {},
   "source": [
    "### 3) Relative Humidity"
   ]
  },
  {
   "cell_type": "markdown",
   "metadata": {},
   "source": [
    "In the example below, the relative humidity is changed to 75.0 % from 50.0 %. "
   ]
  },
  {
   "cell_type": "code",
   "execution_count": 28,
   "metadata": {
    "collapsed": false
   },
   "outputs": [],
   "source": [
    "a6 = Air( Temperature(35.0,'Celsius'), 50.0, 'relative' )"
   ]
  },
  {
   "cell_type": "code",
   "execution_count": 29,
   "metadata": {
    "collapsed": false
   },
   "outputs": [
    {
     "data": {
      "text/plain": [
       "(35.0, 50.0, 0.017771544359487364)"
      ]
     },
     "execution_count": 29,
     "metadata": {},
     "output_type": "execute_result"
    }
   ],
   "source": [
    "a6.T.C, a6.RH, a6.AH"
   ]
  },
  {
   "cell_type": "code",
   "execution_count": 30,
   "metadata": {
    "collapsed": true
   },
   "outputs": [],
   "source": [
    "a6.RH = 75.0"
   ]
  },
  {
   "cell_type": "code",
   "execution_count": 31,
   "metadata": {
    "collapsed": false
   },
   "outputs": [
    {
     "data": {
      "text/plain": [
       "75.0"
      ]
     },
     "execution_count": 31,
     "metadata": {},
     "output_type": "execute_result"
    }
   ],
   "source": [
    "a6.RH"
   ]
  },
  {
   "cell_type": "markdown",
   "metadata": {},
   "source": [
    "You can not set the relative humidity which is out of range of 0 ~ 100 %."
   ]
  },
  {
   "cell_type": "code",
   "execution_count": 32,
   "metadata": {
    "collapsed": true
   },
   "outputs": [],
   "source": [
    "a7 = Air( Temperature(35.0,'Celsius'), 50.0, 'relative' )"
   ]
  },
  {
   "cell_type": "code",
   "execution_count": 33,
   "metadata": {
    "collapsed": false
   },
   "outputs": [
    {
     "name": "stdout",
     "output_type": "stream",
     "text": [
      "Error: Relative humidity shall be equal to or more than 0 %.\n"
     ]
    }
   ],
   "source": [
    "try:\n",
    "    a7.RH = -1.0\n",
    "except ValueError as e:\n",
    "    print(e)"
   ]
  },
  {
   "cell_type": "code",
   "execution_count": 34,
   "metadata": {
    "collapsed": false
   },
   "outputs": [
    {
     "name": "stdout",
     "output_type": "stream",
     "text": [
      "Error: Relative humidity shall not be over 100 %.\n"
     ]
    }
   ],
   "source": [
    "try:\n",
    "    a7.RH = 101.0\n",
    "except ValueError as e:\n",
    "    print(e)"
   ]
  },
  {
   "cell_type": "markdown",
   "metadata": {},
   "source": [
    "### 4) Vapor Pressure"
   ]
  },
  {
   "cell_type": "markdown",
   "metadata": {},
   "source": [
    "In the example below, the vapor pressure is changed to 3000.0 Pa from 2814.601162088015 Pa. "
   ]
  },
  {
   "cell_type": "code",
   "execution_count": 35,
   "metadata": {
    "collapsed": true
   },
   "outputs": [],
   "source": [
    "a8 = Air( Temperature(35.0,'Celsius'), 50.0, 'relative' )"
   ]
  },
  {
   "cell_type": "code",
   "execution_count": 36,
   "metadata": {
    "collapsed": false
   },
   "outputs": [
    {
     "data": {
      "text/plain": [
       "2814.601162088015"
      ]
     },
     "execution_count": 36,
     "metadata": {},
     "output_type": "execute_result"
    }
   ],
   "source": [
    "a8.VP"
   ]
  },
  {
   "cell_type": "code",
   "execution_count": 37,
   "metadata": {
    "collapsed": false
   },
   "outputs": [],
   "source": [
    "a8.VP = 3000.0"
   ]
  },
  {
   "cell_type": "code",
   "execution_count": 38,
   "metadata": {
    "collapsed": false
   },
   "outputs": [
    {
     "data": {
      "text/plain": [
       "3000.0"
      ]
     },
     "execution_count": 38,
     "metadata": {},
     "output_type": "execute_result"
    }
   ],
   "source": [
    "a8.VP"
   ]
  },
  {
   "cell_type": "markdown",
   "metadata": {},
   "source": [
    "You can not set the vapor pressure which is over the saturated vapor pressure."
   ]
  },
  {
   "cell_type": "code",
   "execution_count": 39,
   "metadata": {
    "collapsed": true
   },
   "outputs": [],
   "source": [
    "a9 = Air( Temperature(35.0,'Celsius'), 50.0, 'relative' )"
   ]
  },
  {
   "cell_type": "code",
   "execution_count": 40,
   "metadata": {
    "collapsed": false
   },
   "outputs": [
    {
     "data": {
      "text/plain": [
       "5629.20232417603"
      ]
     },
     "execution_count": 40,
     "metadata": {},
     "output_type": "execute_result"
    }
   ],
   "source": [
    "a9.SVP"
   ]
  },
  {
   "cell_type": "code",
   "execution_count": 41,
   "metadata": {
    "collapsed": false
   },
   "outputs": [
    {
     "name": "stdout",
     "output_type": "stream",
     "text": [
      "Error: Vapor pressure shall be not set at the state that the relative humidity is over 100 %.\n"
     ]
    }
   ],
   "source": [
    "try:\n",
    "    a9.VP = 5630.0 # The saturated vapor pressure is 5629.20232417603(Pa).\n",
    "except ValueError as e:\n",
    "    print(e)"
   ]
  },
  {
   "cell_type": "code",
   "execution_count": null,
   "metadata": {
    "collapsed": true
   },
   "outputs": [],
   "source": []
  }
 ],
 "metadata": {
  "kernelspec": {
   "display_name": "Python 3",
   "language": "python",
   "name": "python3"
  },
  "language_info": {
   "codemirror_mode": {
    "name": "ipython",
    "version": 3
   },
   "file_extension": ".py",
   "mimetype": "text/x-python",
   "name": "python",
   "nbconvert_exporter": "python",
   "pygments_lexer": "ipython3",
   "version": "3.6.2"
  }
 },
 "nbformat": 4,
 "nbformat_minor": 2
}
