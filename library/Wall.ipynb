{
 "cells": [
  {
   "cell_type": "markdown",
   "metadata": {},
   "source": [
    "# Calculation of Envelope Part"
   ]
  },
  {
   "cell_type": "code",
   "execution_count": 8,
   "metadata": {
    "collapsed": true
   },
   "outputs": [],
   "source": [
    "class Side(): # マイナス側値とプラス側値をもつだけの構造体\n",
    "    def __init__(self, mns, pls):\n",
    "        self.mns = mns\n",
    "        self.pls = pls"
   ]
  },
  {
   "cell_type": "markdown",
   "metadata": {},
   "source": [
    "## Solid Layer Class"
   ]
  },
  {
   "cell_type": "markdown",
   "metadata": {},
   "source": [
    "This class has the properties below:  \n",
    "- thermal conductivity, W m<sup>-1</sup> K<sup>-1</sup>  \n",
    "- volumetric specific heat, J m<sup>-3</sup> K<sup>-1</sup>  \n",
    "- thickness, m  \n",
    "- division number."
   ]
  },
  {
   "cell_type": "code",
   "execution_count": 1,
   "metadata": {
    "collapsed": false
   },
   "outputs": [],
   "source": [
    "class Solid_Layer():\n",
    "    \n",
    "    def __init__(self, conductivity, specific_heat, thickness, division_number):\n",
    "        if conductivity <= 0.0:\n",
    "            raise ValueError('Conductivity shall be more than 0.0.')\n",
    "        if specific_heat <= 0.0:\n",
    "            raise ValueError('Specific Heat shall be more than 0.0.')\n",
    "        if thickness <= 0.0:\n",
    "            raise ValueError('Thickness shall be more than 0.0.')\n",
    "        if division_number <= 0.0:\n",
    "            raise ValueError('Division number shall be more than 0.')\n",
    "        self.__conductivity    = conductivity\n",
    "        self.__specific_heat   = specific_heat\n",
    "        self.__thickness       = thickness\n",
    "        self.__division_number = division_number\n",
    "        self.__delta_x         = thickness / division_number\n",
    "    \n",
    "    @property\n",
    "    def conductivity(self):\n",
    "        return self.__conductivity\n",
    "    \n",
    "    @property\n",
    "    def specific_heat(self):\n",
    "        return self.__specific_heat\n",
    "    \n",
    "    @property\n",
    "    def thickness(self):\n",
    "        return self.__thickness\n",
    "    \n",
    "    @property\n",
    "    def division_number( self ):\n",
    "        return self.__division_number\n",
    "    \n",
    "    @property\n",
    "    def delta_x(self):\n",
    "        return self.__delta_x"
   ]
  },
  {
   "cell_type": "code",
   "execution_count": 4,
   "metadata": {
    "collapsed": false
   },
   "outputs": [],
   "source": [
    "s = Solid_Layer(conductivity=1.2, specific_heat=100.0, thickness=0.12, division_number=10)"
   ]
  },
  {
   "cell_type": "code",
   "execution_count": 6,
   "metadata": {
    "collapsed": false
   },
   "outputs": [
    {
     "data": {
      "text/plain": [
       "(1.2, 100.0, 0.12, 10, 0.012)"
      ]
     },
     "execution_count": 6,
     "metadata": {},
     "output_type": "execute_result"
    }
   ],
   "source": [
    "s.conductivity, s.specific_heat, s.thickness, s.division_number, s.delta_x"
   ]
  },
  {
   "cell_type": "code",
   "execution_count": 47,
   "metadata": {
    "collapsed": true
   },
   "outputs": [],
   "source": [
    "class Air_Layer():\n",
    "    \n",
    "    def __init__(self, resistance):\n",
    "        if resistance <= 0.0:\n",
    "            raise ValueError('Air resistance shall be more than 0.0.')\n",
    "        self.__resistance = resistance\n",
    "        \n",
    "    @property\n",
    "    def resistance(self):\n",
    "        return self.__resistance"
   ]
  },
  {
   "cell_type": "code",
   "execution_count": 48,
   "metadata": {
    "collapsed": false
   },
   "outputs": [
    {
     "data": {
      "text/plain": [
       "0.1"
      ]
     },
     "execution_count": 48,
     "metadata": {},
     "output_type": "execute_result"
    }
   ],
   "source": [
    "a = Air_Layer(resistance=0.1)\n",
    "a.resistance"
   ]
  },
  {
   "cell_type": "markdown",
   "metadata": {},
   "source": [
    "## Cell Class"
   ]
  },
  {
   "cell_type": "code",
   "execution_count": 2,
   "metadata": {
    "collapsed": true
   },
   "outputs": [],
   "source": [
    "class Cell():\n",
    "    \n",
    "    def __init__(self, resistance, capacity):\n",
    "        self.__resistance = resistance\n",
    "        self.__capacity   = capacity\n",
    "    \n",
    "    @property\n",
    "    def resistance(self):\n",
    "        return self.__resistance\n",
    "    \n",
    "    @property\n",
    "    def capacity(self):\n",
    "        return self.__capacity\n",
    "    \n",
    "    def set_initial_temperature(self, initial_temperature = 0.0):\n",
    "        self.__temperature = initial_temperature\n",
    "        \n",
    "    @property\n",
    "    def temperature(self):\n",
    "        return self.__temperature\n",
    "    \n",
    "    def add_adjacent_cells(self, adjacent_cells ):\n",
    "        self.adjacent_cells = adjacent_cells\n",
    "        \n",
    "    def calc_new_temperature(self, side_temperature, surf_resistance, delta_t):\n",
    "        \n",
    "        temp_adj = Side(mns = side_temperature.mns if self.adjacent_cells.mns == 'AirMns' else adjacent_cells.mns.temperature,\n",
    "                        pls = side_temperature.pls if self.adjacent_cells.pls == 'AirPls' else adjacent_cells.pls.temperature)\n",
    "        \n",
    "        resistance_adj = Side(mns = surf_resistance.mns if self.adjacent_cells.mns == 'AirMns' else self.resistance.mns,\n",
    "                              pls = surf_resistance.pls if self.adjacent_cells.pls == 'AirPls' else self.resistance.pls)\n",
    "        \n",
    "        heatflow = ( ( temp_adj.mns - self.tempetature ) / resistance_adj.mns + ( temp_adj.pls - self.tempetature ) / resistance_adj.pls ) * delta_t\n",
    "        \n",
    "        self.__newtemp = heatflow / self.capacity + self.temperature\n",
    "        \n",
    "    def updatetemp( self ):\n",
    "        \n",
    "        self.__temperature = self.__newtemperature\n"
   ]
  },
  {
   "cell_type": "markdown",
   "metadata": {},
   "source": [
    "## Envelope Class"
   ]
  },
  {
   "cell_type": "code",
   "execution_count": 115,
   "metadata": {
    "collapsed": false
   },
   "outputs": [
    {
     "data": {
      "text/plain": [
       "True"
      ]
     },
     "execution_count": 115,
     "metadata": {},
     "output_type": "execute_result"
    }
   ],
   "source": [
    "s = Solid_Layer(1.2,1.2,1.2,1)\n",
    "type(s) == Solid_Layer"
   ]
  },
  {
   "cell_type": "code",
   "execution_count": 144,
   "metadata": {
    "collapsed": false
   },
   "outputs": [],
   "source": [
    "class Envelope():\n",
    "    \n",
    "    def __init__(self):\n",
    "        \n",
    "        self.__is_parameters_set  = False\n",
    "        self.__is_temperature_set = False\n",
    "    \n",
    "    def set_parameters(self, nameset, layers):\n",
    "        \n",
    "        self.__nameset = nameset\n",
    "        \n",
    "        if type(layers[0]) == Air_Layer:\n",
    "            raise Exception('First layer should not be air layer.')\n",
    "        \n",
    "        if type(layers[len(layers)-1]) == Air_Layer:\n",
    "            raise Exception('Last layer should not be air layer.')\n",
    "        \n",
    "        for i, l in enumerate(layers):\n",
    "            if type(l) == Air_Layer:\n",
    "                if type(layers[i+1]) == Air_Layer:\n",
    "                    raise Exception('Air layer should not set next to the air layer.')\n",
    "        \n",
    "        self.__cells = []\n",
    "        \n",
    "        for i, layer in enumerate(layers):\n",
    "            if type(layer) == Solid_Layer:\n",
    "                \n",
    "                if i == 0:\n",
    "                    self.__cells.append(Cell(resistance = Side(mns = 'surfaceMns', pls = layer.delta_x / layer.conductivity),\n",
    "                                             capacity   = layer.specific_heat * layer.delta_x / 2\n",
    "                                            ))\n",
    "                elif type(layers[i-1]) == Air_Layer:\n",
    "                    self.__cells.append(Cell(resistance = Side(mns = layers[i-1].resistance, pls = layer.delta_x / layer.conductivity),\n",
    "                                             capacity   = layer.specific_heat * layer.delta_x / 2\n",
    "                                            ))\n",
    "                else:\n",
    "                    pass\n",
    "                \n",
    "                self.__cells.extend([Cell(resistance = Side(mns = layer.delta_x / layer.conductivity, pls = layer.delta_x / layer.conductivity),\n",
    "                                          capacity   = layer.specific_heat * layer.delta_x\n",
    "                                         )] * (l.division_number - 1))\n",
    "                \n",
    "                if i == len(layers) - 1:\n",
    "                    self.__cells.append(Cell(resistance = Side(mns = layer.delta_x / layer.conductivity, pls = 'surfacePls'),\n",
    "                                             capacity   = layer.specific_heat * layer.delta_x / 2\n",
    "                                            ))\n",
    "                elif type(layers[i+1]) == Air_Layer:\n",
    "                    self.__cells.append(Cell(resistance = Side(mns = layer.delta_x / layer.conductivity, pls = layers[i+1].resistance),\n",
    "                                             capacity   = layer.specific_heat * layer.delta_x / 2\n",
    "                                            ))\n",
    "                else:\n",
    "                    self.__cells.append(Cell(resistance = Side(mns = layer.delta_x / layer.conductivity, pls = layers[i+1].delta_x / layers[i+1].conductivity),\n",
    "                                             capacity   = layer.specific_heat * layer.delta_x / 2 + layers[i+1].specific_heat * layers[i+1].delta_x / 2\n",
    "                                            ))\n",
    "        \n",
    "        for i, cell in enumerate(self.__cells):\n",
    "            if i == 0:\n",
    "                cell.add_adjacent_cells(Side(mns = 'surfaceMns', pls = self.__cells[i+1]))\n",
    "            elif i == len(self.__cells)-1:\n",
    "                cell.add_adjacent_cells(Side(mns = self.__cells[i-1], pls = 'surfacePls'))\n",
    "            else:\n",
    "                cell.add_adjacent_cells(Side(mns = self.__cells[i-1], pls = self.__cells[i+1]))\n",
    "                        \n",
    "        self.__is_parameters_set = True\n",
    "                \n",
    "    def set_initial_temperature(self, set_temperature):\n",
    "        if not self.__is_parameters_set:\n",
    "            raise Exception( 'error!: Before setting the initial temperature, call SetParameters function.' )\n",
    "        [ cell.set_initial_temperature(set_temperature) for c in self.__cells ]\n",
    "        self.__is_temperature_set = True\n",
    "        \n",
    "    def show_temperature(self, index):\n",
    "        self.check_set_initial_temperature():\n",
    "        if index >= len(self.__cells):\n",
    "            raise Exception('Index is over the number of cells.')\n",
    "        if index < 0:\n",
    "            raise Exception('Index should be over zero.')\n",
    "        return self.__cells[index].temperature\n",
    "        \n",
    "    def check_set_initial_temperature(self):\n",
    "        if not self.__is_temperature_set:\n",
    "            raise Exception('Set initial temperature!')\n",
    "\n",
    "    def show_surface_temperature(self):\n",
    "        self.check_set_initial_temperature()\n",
    "        return (self.__cells[0].temperature, self.__cells[-1].temperature)\n",
    "\n",
    "    def calc(self, rtemp, htransferc, sunabs, swave, lwaveemit, lwave, dt):\n",
    "        surface_heatflow_mns = htransferc.mns * (rtemp.mns - self.__cells[0].temperature ) \\\n",
    "                               + lwave.mns * lwaveemit.mns - self.HeatRadiation(lwaveemit.mns) \\\n",
    "                               + swave.mns * sunabs.mns\n",
    "\n",
    "    def calc_convective_heat_transfer(self, air_temp, heat_transfer_coeff):\n",
    "        \n",
    "        heat_mns = heat_transfer_coeff.mns * (air_temp.mns - self.__cells[0])\n",
    "        heat_pls = heat_transfer_coeff.pls * (air_temp.pls - self.__cells[-1])\n",
    "        \n",
    "        return Side(heat_mns, heat_pls)\n",
    "    \n",
    "    def calc_heat_radiation\n",
    "        /// <summary>\n",
    "        /// 壁体表面から両側に放射される熱流を示す\n",
    "        /// </summary>\n",
    "        /// <remarks>温度が初期化されていない場合エラーとなる</remarks>\n",
    "        /// <param name=\"lwaveemit\">壁体両側の長波長放射率</param>\n",
    "        /// <returns>壁体から放射される長波長放射 [W/m2]</returns>\n",
    "        public BothSide<double> HeatRadiation(BothSide<double> lwaveemit)\n",
    "        {\n",
    "            CheckSetInitialTempSet();\n",
    "\n",
    "            BothSide<double> lwave;\n",
    "\n",
    "            lwave.sideA = CalcLWaveEmitFromTemp(lwaveemit.sideA, SurfaceTempShow().sideA);\n",
    "            lwave.sideB = CalcLWaveEmitFromTemp(lwaveemit.sideB, SurfaceTempShow().sideB);\n",
    "\n",
    "            return lwave;\n",
    "\n",
    "        }\n",
    "\n",
    "    def check_longwave_emittance_range(self, value):\n",
    "        if value < 0.0 or value > 1.0:\n",
    "            raise ValueError('Long wave emittance should be in the range between 0.0 and 1.0.')\n",
    "\n",
    "    def calc_longwave_emittance(self, lwaveemit, surftemp):\n",
    "        self.check_longwave_emittance_range(lwaveemit)\n",
    "        SBFUNC = 5.670367 * 10**(-8)\n",
    "        TPWATER = 273.15\n",
    "        return lwaveemit * SBFUNC * (surftemp + TPWATER)**4\n"
   ]
  },
  {
   "cell_type": "code",
   "execution_count": 145,
   "metadata": {
    "collapsed": false
   },
   "outputs": [
    {
     "data": {
      "text/plain": [
       "(True, False)"
      ]
     },
     "execution_count": 145,
     "metadata": {},
     "output_type": "execute_result"
    }
   ],
   "source": [
    "e = Envelope()\n",
    "e.set_parameters('test',[Solid_Layer(conductivity=1.2, specific_heat=100.0, thickness=0.12, division_number=3),\n",
    "                         Air_Layer(resistance=120.0),\n",
    "                         Solid_Layer(conductivity=1.2, specific_heat=100.0, thickness=0.12, division_number=3),\n",
    "                         Solid_Layer(conductivity=1.2, specific_heat=100.0, thickness=0.12, division_number=3),\n",
    "                         Air_Layer(resistance=120.0),\n",
    "                         Solid_Layer(conductivity=1.2, specific_heat=100.0, thickness=0.12, division_number=6),\n",
    "                        ])\n",
    "e._Envelope__is_parameters_set, e._Envelope__is_temperature_set,"
   ]
  },
  {
   "cell_type": "code",
   "execution_count": 146,
   "metadata": {
    "collapsed": false,
    "scrolled": true
   },
   "outputs": [
    {
     "name": "stdout",
     "output_type": "stream",
     "text": [
      "0\n",
      "1\n",
      "2\n"
     ]
    }
   ],
   "source": [
    "for i in range(3):\n",
    "    print(i)"
   ]
  },
  {
   "cell_type": "code",
   "execution_count": 150,
   "metadata": {
    "collapsed": false,
    "scrolled": false
   },
   "outputs": [
    {
     "name": "stdout",
     "output_type": "stream",
     "text": [
      "<__main__.Side object at 0x000002095B73F518>\n",
      "2.0\n",
      "<__main__.Side object at 0x000002095B73F630>\n",
      "4.0\n",
      "<__main__.Side object at 0x000002095B73F630>\n",
      "4.0\n",
      "<__main__.Side object at 0x000002095B73F630>\n",
      "4.0\n",
      "<__main__.Side object at 0x000002095B73F630>\n",
      "4.0\n",
      "<__main__.Side object at 0x000002095B73F630>\n",
      "4.0\n",
      "<__main__.Side object at 0x000002095B73F6D8>\n",
      "2.0\n",
      "<__main__.Side object at 0x000002095B73F780>\n",
      "2.0\n",
      "<__main__.Side object at 0x000002095B73F7F0>\n",
      "4.0\n",
      "<__main__.Side object at 0x000002095B73F7F0>\n",
      "4.0\n",
      "<__main__.Side object at 0x000002095B73F7F0>\n",
      "4.0\n",
      "<__main__.Side object at 0x000002095B73F7F0>\n",
      "4.0\n",
      "<__main__.Side object at 0x000002095B73F7F0>\n",
      "4.0\n",
      "<__main__.Side object at 0x000002095B73F8D0>\n",
      "4.0\n",
      "<__main__.Side object at 0x000002095B73F860>\n",
      "4.0\n",
      "<__main__.Side object at 0x000002095B73F860>\n",
      "4.0\n",
      "<__main__.Side object at 0x000002095B73F860>\n",
      "4.0\n",
      "<__main__.Side object at 0x000002095B73F860>\n",
      "4.0\n",
      "<__main__.Side object at 0x000002095B73F860>\n",
      "4.0\n",
      "<__main__.Side object at 0x000002095B73F908>\n",
      "2.0\n",
      "<__main__.Side object at 0x000002095B73FA90>\n",
      "1.0\n",
      "<__main__.Side object at 0x000002095B73FA20>\n",
      "2.0\n",
      "<__main__.Side object at 0x000002095B73FA20>\n",
      "2.0\n",
      "<__main__.Side object at 0x000002095B73FA20>\n",
      "2.0\n",
      "<__main__.Side object at 0x000002095B73FA20>\n",
      "2.0\n",
      "<__main__.Side object at 0x000002095B73FA20>\n",
      "2.0\n",
      "<__main__.Side object at 0x000002095B73F9B0>\n",
      "1.0\n"
     ]
    }
   ],
   "source": [
    "for c in e.cells:\n",
    "    print(c.resistance)\n",
    "    print(c.capacity)\n"
   ]
  },
  {
   "cell_type": "code",
   "execution_count": 113,
   "metadata": {
    "collapsed": false
   },
   "outputs": [
    {
     "ename": "AttributeError",
     "evalue": "'Envelope' object has no attribute '_Envelope__layers'",
     "output_type": "error",
     "traceback": [
      "\u001b[0;31m---------------------------------------------------------------------------\u001b[0m",
      "\u001b[0;31mAttributeError\u001b[0m                            Traceback (most recent call last)",
      "\u001b[0;32m<ipython-input-113-afc464ed4050>\u001b[0m in \u001b[0;36m<module>\u001b[0;34m()\u001b[0m\n\u001b[0;32m----> 1\u001b[0;31m \u001b[0me\u001b[0m\u001b[1;33m.\u001b[0m\u001b[0m_Envelope__layers\u001b[0m\u001b[1;33m\u001b[0m\u001b[0m\n\u001b[0m",
      "\u001b[0;31mAttributeError\u001b[0m: 'Envelope' object has no attribute '_Envelope__layers'"
     ]
    }
   ],
   "source": [
    "e._Envelope__layers"
   ]
  },
  {
   "cell_type": "code",
   "execution_count": null,
   "metadata": {
    "collapsed": false
   },
   "outputs": [],
   "source": [
    "\n",
    "    def Calc(rtemp, htransferc, sunabs, swave, lwaveemit, lwave, dt):\n",
    "        \n",
    "        self.CheckSetInitialTempSet()\n",
    "        \n",
    "        n, m, k = 0, 0, 0\n",
    "\n",
    "        # 壁体表面の計算\n",
    "        \n",
    "        self.__newtemperatures[n] = self.__temperatures[n] + 2 * dt / self.__solidLayers[m].getSpecificHeat() / self.__solidLayers[m].getDeltaX() \\\n",
    "                                    + (htranserc[0] * (rtemp[0] - self.temperatures[n])\n",
    "                                       + lwave[0] * lwaveemit[0] - self.HeatRadiation(lwaveemit)[0]\n",
    "                                       + swave[0] * sunabs[0]\n",
    "                                       + self.__solidLayers[m].getConductivity() * (self.__temperatures[n+1] - self.__temperatures[n]) / self.__solidLayers[m].getDeltaX()\n",
    "                                      )\n",
    "        \n",
    "        n = n + 1\n",
    "        \n",
    "        \n",
    "        \n",
    "\n",
    "        public void Calc(BothSide<double> rtemp, BothSide<double> htransferc, BothSide<double> sunabs, BothSide<double> swave,\n",
    "                         BothSide<double> lwaveemit, BothSide<double> lwave, double dt)\n",
    "        {\n",
    "\n",
    "            for (m = 0; m < _layers.Length; m++)\n",
    "            {\n",
    "                // 分割数が2以上の時\n",
    "                if (_layers[m].Div != 1)\n",
    "                {\n",
    "\n",
    "                    // 計算＠両側の質点が同じ材質（物性値）\n",
    "\n",
    "                    for (k = 0; k < _layers[m].Div - 1; k++)\n",
    "                    {\n",
    "                        newtemp[n] = temp[n] + dt / _layers[m].Sph / _layers[m].Deltax\n",
    "                            * _layers[m].Cond * (temp[n + 1] + temp[n - 1] - 2 * temp[n]) / _layers[m].Deltax;\n",
    "                        n = n + 1;\n",
    "                    }\n",
    "                }\n",
    "\n",
    "                if (_apos == m + 1)\n",
    "\n",
    "                // 計算＠層と空気層の間\n",
    "                {\n",
    "                    newtemp[n] = temp[n] + 2 * dt / _layers[m].Sph / _layers[m].Deltax\n",
    "                        * (_layers[m].Cond * (temp[n - 1] - temp[n]) / _layers[m].Deltax\n",
    "                        + (temp[n + 1] - temp[n]) / _aregi);\n",
    "                    n = n + 1;\n",
    "                    newtemp[n] = temp[n] + 2 * dt / _layers[m + 1].Sph / _layers[m+1].Deltax\n",
    "                        * ((temp[n - 1] - temp[n]) / _aregi\n",
    "                        + _layers[m + 1].Cond * (temp[n + 1] - temp[n]) / _layers[m+1].Deltax);\n",
    "                    n = n + 1;\n",
    "                }\n",
    "\n",
    "                else if (m != _layers.Length - 1)\n",
    "\n",
    "\n",
    "                // 計算＠異種材料間（空気層なし）\n",
    "                {\n",
    "                    newtemp[n] = temp[n]\n",
    "                        + 2 * dt / (_layers[m].Sph * _layers[m].Deltax + _layers[m + 1].Sph * _layers[m+1].Deltax)\n",
    "                        * (_layers[m].Cond * (temp[n - 1] - temp[n]) / _layers[m].Deltax\n",
    "                        + _layers[m + 1].Cond * (temp[n + 1] - temp[n]) / _layers[m+1].Deltax);\n",
    "\n",
    "                    n = n + 1;\n",
    "                }\n",
    "\n",
    "            }\n",
    "\n",
    "            // 計算＠壁体表面\n",
    "            newtemp[n] = temp[n] + 2 * dt / _layers[m - 1].Sph / _layers[_layers.Length - 1].Deltax\n",
    "                * (htransferc.sideB * (rtemp.sideB - temp[n])          // 対流\n",
    "                + lwave.sideB * lwaveemit.sideB - HeatRadiation(lwaveemit).sideB // 長波長放射\n",
    "                + swave.sideB * sunabs.sideB                          // 日射\n",
    "                + _layers[m - 1].Cond * (temp[n - 1] - temp[n]) / _layers[_layers.Length - 1].Deltax); // 伝導成分\n",
    "\n",
    "            // 新しい壁体温度に置き換える\n",
    "            // temp = newtemp;\n",
    "\n",
    "        }\n",
    "\n",
    "        public void Update()\n",
    "        {\n",
    "            temp = newtemp;\n",
    "        }\n",
    "\n",
    "\n",
    "\n",
    "\n",
    "\n",
    "\n",
    "           "
   ]
  },
  {
   "cell_type": "code",
   "execution_count": null,
   "metadata": {
    "collapsed": true
   },
   "outputs": [],
   "source": [
    "w = Wall()"
   ]
  },
  {
   "cell_type": "code",
   "execution_count": null,
   "metadata": {
    "collapsed": false
   },
   "outputs": [],
   "source": [
    "w._Wall__isParametersSet"
   ]
  },
  {
   "cell_type": "code",
   "execution_count": null,
   "metadata": {
    "collapsed": false
   },
   "outputs": [],
   "source": [
    "w._Wall__isTemperatureSet"
   ]
  },
  {
   "cell_type": "code",
   "execution_count": null,
   "metadata": {
    "collapsed": false
   },
   "outputs": [],
   "source": [
    "w.SetParameters('',[ SolidLayer( 1.0, 1.0, 1.0, 5 ), SolidLayer( 1.0, 1.0, 1.0, 5 ), SolidLayer( 1.0, 1.0, 1.0, 5 ), SolidLayer( 1.0, 1.0, 1.0, 5 ) ],3,0.08)\n",
    "w._Wall__mesh\n",
    "w.SetInitialTemperature( 1.5 )\n",
    "w._Wall__temperatures"
   ]
  },
  {
   "cell_type": "code",
   "execution_count": null,
   "metadata": {
    "collapsed": false
   },
   "outputs": [],
   "source": [
    "w.SetParameters( '',[ SolidLayer( 1.0, 1.0, 1.0, 5 ), SolidLayer( 1.0, 1.0, 1.0, 5 )  ], 0, 0.08)\n",
    "w._Wall__mesh\n",
    "w._Wall__surfaceNumber"
   ]
  },
  {
   "cell_type": "code",
   "execution_count": null,
   "metadata": {
    "collapsed": true
   },
   "outputs": [],
   "source": []
  },
  {
   "cell_type": "code",
   "execution_count": null,
   "metadata": {
    "collapsed": true
   },
   "outputs": [],
   "source": [
    "namespace HeatLoadCalc.Logic\n",
    "{\n",
    "    public class Wall\n",
    "    {\n",
    "\n",
    "\n",
    "    }\n",
    "}\n"
   ]
  }
 ],
 "metadata": {
  "kernelspec": {
   "display_name": "Python 3",
   "language": "python",
   "name": "python3"
  },
  "language_info": {
   "codemirror_mode": {
    "name": "ipython",
    "version": 3
   },
   "file_extension": ".py",
   "mimetype": "text/x-python",
   "name": "python",
   "nbconvert_exporter": "python",
   "pygments_lexer": "ipython3",
   "version": "3.6.5"
  }
 },
 "nbformat": 4,
 "nbformat_minor": 2
}
