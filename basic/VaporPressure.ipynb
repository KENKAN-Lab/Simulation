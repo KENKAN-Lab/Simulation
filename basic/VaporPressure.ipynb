{
 "cells": [
  {
   "cell_type": "code",
   "execution_count": 1,
   "metadata": {
    "collapsed": false
   },
   "outputs": [
    {
     "name": "stdout",
     "output_type": "stream",
     "text": [
      "Importing Jupyter notebook from SaturatedVaporPressure.ipynb\n"
     ]
    }
   ],
   "source": [
    "import nbimporter\n",
    "from SaturatedVaporPressure import get_saturated_vapor_pressure as get_svp\n",
    "\n",
    "import matplotlib.pyplot as plt"
   ]
  },
  {
   "cell_type": "markdown",
   "metadata": {
    "collapsed": true
   },
   "source": [
    "# Vapor Pressure"
   ]
  },
  {
   "cell_type": "markdown",
   "metadata": {},
   "source": [
    "## 1. Introduction"
   ]
  },
  {
   "cell_type": "markdown",
   "metadata": {},
   "source": [
    "## 2. Functions"
   ]
  },
  {
   "cell_type": "markdown",
   "metadata": {},
   "source": [
    "### 2.1 Vapor Pressure and Absolute Humidity"
   ]
  },
  {
   "cell_type": "markdown",
   "metadata": {},
   "source": [
    "$$\n",
    "P_v = P_{atm} \\times \\frac{X}{(0.622 + X)}\n",
    "$$"
   ]
  },
  {
   "cell_type": "markdown",
   "metadata": {},
   "source": [
    "$$\n",
    "X = 0.622 \\times \\frac{P_v}{(P_{atm}-P_v)}\n",
    "$$"
   ]
  },
  {
   "cell_type": "markdown",
   "metadata": {},
   "source": [
    "Where  \n",
    "$P_V$ is the vapor pressure (Pa);  \n",
    "$P_{atm}$ is the atmospheric pressure (Pa) ( = 101325 );  \n",
    "$X$ is the absolute humidity (kg/kgDA)."
   ]
  },
  {
   "cell_type": "markdown",
   "metadata": {},
   "source": [
    "#### Basis"
   ]
  },
  {
   "cell_type": "markdown",
   "metadata": {},
   "source": [
    "Based on Dalton's law,  \n",
    "\n",
    "$ p_i = p_{total} \\times x_{i} $  \n",
    "\n",
    "where  \n",
    "$p_i$ is the partial pressures of each component (Pa);  \n",
    "$p_{total}$ is the total pressure (Pa);  \n",
    "$x_i$ is the mole fraction of the $i$ th component.\n",
    "\n",
    "In case of the absolute humidity of $X$,  \n",
    "the weight ratio is;  \n",
    "$ \\text{air} : \\text{vapor} = 1 : X $.  \n",
    "The mole fraction ration is;  \n",
    "$ \\text{air} : \\text{vapor} = 1 / 28.966 : X / 18.0 = 18.0 / 28.966 : X \\simeq 0.622 : X $  \n",
    "Because,\n",
    "the moleculer number of water (H<sub>2</sub>O) is 18.0.  \n",
    "And, the moleculer number of air is 28.8 ( $ 32 \\times 0.2 +28 \\times 0.8 =28.8 $ ) ( O<sub>2</sub> = 32, N<sub>2</sub> =28 ) and assumed that the air is composed of O<sub>2</sub> of 80% and N<sub>2</sub> of 20%.  \n",
    "Actually, the air include the other components such as argon and carbon dioxide, and then the moleculer number of air is assumed to be 28.966 (g/mol) here.\n"
   ]
  },
  {
   "cell_type": "code",
   "execution_count": 2,
   "metadata": {
    "collapsed": true
   },
   "outputs": [],
   "source": [
    "def ah_to_pv(X):\n",
    "    patm = 101325\n",
    "    return patm * X / ( 0.622 + X )"
   ]
  },
  {
   "cell_type": "code",
   "execution_count": 3,
   "metadata": {
    "collapsed": true
   },
   "outputs": [],
   "source": [
    "def pv_to_ah(pv):\n",
    "    patm = 101325\n",
    "    return 0.622 * pv / ( patm - pv )"
   ]
  },
  {
   "cell_type": "markdown",
   "metadata": {},
   "source": [
    "#### Example"
   ]
  },
  {
   "cell_type": "code",
   "execution_count": 4,
   "metadata": {
    "collapsed": false
   },
   "outputs": [
    {
     "data": {
      "text/plain": [
       "0.0030845524423506075"
      ]
     },
     "execution_count": 4,
     "metadata": {},
     "output_type": "execute_result"
    }
   ],
   "source": [
    "pv_to_ah(500)"
   ]
  },
  {
   "cell_type": "code",
   "execution_count": 5,
   "metadata": {
    "collapsed": false
   },
   "outputs": [
    {
     "data": {
      "text/plain": [
       "500.0"
      ]
     },
     "execution_count": 5,
     "metadata": {},
     "output_type": "execute_result"
    }
   ],
   "source": [
    "ah_to_pv(0.0030845524423506075)"
   ]
  },
  {
   "cell_type": "markdown",
   "metadata": {},
   "source": [
    "### 2.2 Relative Humidity and Vapor Pressure"
   ]
  },
  {
   "cell_type": "markdown",
   "metadata": {},
   "source": [
    "$$\n",
    "\\phi = \\frac{p_v}{p_{sv}} \\times 100\n",
    "$$"
   ]
  },
  {
   "cell_type": "markdown",
   "metadata": {},
   "source": [
    "$$\n",
    "p_v = p_{sv} \\times \\frac{\\phi}{100}\n",
    "$$"
   ]
  },
  {
   "cell_type": "markdown",
   "metadata": {},
   "source": [
    "Where  \n",
    "$P_V$ is the vapor pressure (Pa);  \n",
    "$P_{sv}$ is the saturated vapor pressure (Pa);  \n",
    "$\\psi$ is the relative humidity (0~100) (%)."
   ]
  },
  {
   "cell_type": "code",
   "execution_count": 6,
   "metadata": {
    "collapsed": true
   },
   "outputs": [],
   "source": [
    "def pv_to_rh(pv,T,svpeq,status):\n",
    "    return pv / get_svp(svpeq,status,T) * 100"
   ]
  },
  {
   "cell_type": "code",
   "execution_count": 7,
   "metadata": {
    "collapsed": false
   },
   "outputs": [],
   "source": [
    "def rh_to_pv(rh,T,svpeq,status):\n",
    "    return get_svp(svpeq,status,T) * rh / 100"
   ]
  },
  {
   "cell_type": "markdown",
   "metadata": {},
   "source": [
    "#### Example"
   ]
  },
  {
   "cell_type": "code",
   "execution_count": 8,
   "metadata": {
    "collapsed": false
   },
   "outputs": [
    {
     "data": {
      "text/plain": [
       "23.54587078514155"
      ]
     },
     "execution_count": 8,
     "metadata": {},
     "output_type": "execute_result"
    }
   ],
   "source": [
    "pv_to_rh(1000,303.15,'SONNTAG','water')"
   ]
  },
  {
   "cell_type": "code",
   "execution_count": 9,
   "metadata": {
    "collapsed": false
   },
   "outputs": [
    {
     "data": {
      "text/plain": [
       "1000.0"
      ]
     },
     "execution_count": 9,
     "metadata": {},
     "output_type": "execute_result"
    }
   ],
   "source": [
    "rh_to_pv(23.54587078514155,303.15,'SONNTAG','water')"
   ]
  },
  {
   "cell_type": "markdown",
   "metadata": {},
   "source": [
    "### 2.3 Absolute and Relative Humidity"
   ]
  },
  {
   "cell_type": "markdown",
   "metadata": {},
   "source": [
    "Relative humidity (%) to absolute humidity (kg/kgDA)."
   ]
  },
  {
   "cell_type": "code",
   "execution_count": 10,
   "metadata": {
    "collapsed": true
   },
   "outputs": [],
   "source": [
    "def rh_to_ah(rh,T,svpeq,status):\n",
    "    pv = rh_to_pv(rh,T,svpeq,status)\n",
    "    return pv_to_ah(pv)"
   ]
  },
  {
   "cell_type": "markdown",
   "metadata": {},
   "source": [
    "Absolute humidity (kg/kgDA) to relative humidity (%)."
   ]
  },
  {
   "cell_type": "code",
   "execution_count": 11,
   "metadata": {
    "collapsed": true
   },
   "outputs": [],
   "source": [
    "def ah_to_rh(X,T,svpeq,status):\n",
    "    pv = ah_to_pv(X)\n",
    "    return pv_to_rh(pv,T,svpeq,status)"
   ]
  },
  {
   "cell_type": "markdown",
   "metadata": {},
   "source": [
    "#### Example 1"
   ]
  },
  {
   "cell_type": "code",
   "execution_count": 12,
   "metadata": {
    "collapsed": false
   },
   "outputs": [
    {
     "data": {
      "text/plain": [
       "0.009884095183878179"
      ]
     },
     "execution_count": 12,
     "metadata": {},
     "output_type": "execute_result"
    }
   ],
   "source": [
    "rh_to_ah(50.0,298.15,'SONNTAG','water')"
   ]
  },
  {
   "cell_type": "code",
   "execution_count": 13,
   "metadata": {
    "collapsed": false
   },
   "outputs": [
    {
     "data": {
      "text/plain": [
       "49.99999999999999"
      ]
     },
     "execution_count": 13,
     "metadata": {},
     "output_type": "execute_result"
    }
   ],
   "source": [
    "ah_to_rh(0.009884095183878179,298.15,'SONNTAG','water')"
   ]
  },
  {
   "cell_type": "markdown",
   "metadata": {},
   "source": [
    "#### Example 2"
   ]
  },
  {
   "cell_type": "code",
   "execution_count": 14,
   "metadata": {
    "collapsed": false
   },
   "outputs": [
    {
     "data": {
      "image/png": "[encoded data removed]",
      "text/plain": [
       "<matplotlib.figure.Figure at 0x28fa3d79a20>"
      ]
     },
     "metadata": {},
     "output_type": "display_data"
    }
   ],
   "source": [
    "temp = [ 0.1 * x for x in range(0,500)]\n",
    "plt.figure( figsize = (15,4) )\n",
    "for rh in [25,50,75,100]:\n",
    "    ah = [ rh_to_ah(rh, t + 273.15, 'SONNTAG', 'water') for t in temp ] \n",
    "    plt.plot(temp,ah,label= str(rh) + '%')\n",
    "plt.legend()\n",
    "plt.xlabel('Temperature (degree C)')\n",
    "plt.ylabel('Absolute Humidity (kg/kgDA)')\n",
    "plt.show()"
   ]
  },
  {
   "cell_type": "markdown",
   "metadata": {},
   "source": [
    "### 2.4 Saturated Absolute Humidity"
   ]
  },
  {
   "cell_type": "code",
   "execution_count": 15,
   "metadata": {
    "collapsed": true
   },
   "outputs": [],
   "source": [
    "def get_saturated_absolute_humidity(T, svpeq, status):\n",
    "    svp = get_svp(svpeq,status,T)\n",
    "    return pv_to_ah(svp)"
   ]
  },
  {
   "cell_type": "markdown",
   "metadata": {},
   "source": [
    "#### Example"
   ]
  },
  {
   "cell_type": "code",
   "execution_count": 16,
   "metadata": {
    "collapsed": false
   },
   "outputs": [
    {
     "data": {
      "image/png": "[encoded data removed]",
      "text/plain": [
       "<matplotlib.figure.Figure at 0x28fa64f6e80>"
      ]
     },
     "metadata": {},
     "output_type": "display_data"
    }
   ],
   "source": [
    "temp = [ 0.1 * x for x in range(0,500)]\n",
    "plt.figure( figsize = (15,4) )\n",
    "ah = [ get_saturated_absolute_humidity(t + 273.15, 'SONNTAG', 'water') for t in temp ] \n",
    "plt.plot(temp,ah)\n",
    "plt.xlabel('Temperature (degree C)')\n",
    "plt.ylabel('Saturated Absolute Humidity (kg/kgDA)')\n",
    "plt.show()"
   ]
  },
  {
   "cell_type": "markdown",
   "metadata": {},
   "source": [
    "### 2.5 Dew Point Temperature"
   ]
  },
  {
   "cell_type": "code",
   "execution_count": 17,
   "metadata": {
    "collapsed": false
   },
   "outputs": [],
   "source": [
    "def get_dew_point_temp(ah, svpeq, status):\n",
    "    # use Bisection method\n",
    "    TL = 0.0    # T = 0.0 (K)\n",
    "    TH = 373.15 # T = 373.15 (K) = 100.0 (degree C)\n",
    "    n = 0 # Counter\n",
    "    nmax = 10000 # Maximum number of attempts\n",
    "    while True:\n",
    "        T = ( TH + TL )/2\n",
    "        sah = get_saturated_absolute_humidity(T, svpeq, status)\n",
    "        if abs( sah - ah ) < 1.0e-7:\n",
    "            break\n",
    "        n = n + 1\n",
    "        if n >= nmax:\n",
    "            raise Error('Error: Not converged in the calculation of the dew point temperature.')\n",
    "        if ah < sah:\n",
    "            TH = T\n",
    "        else:\n",
    "            TL = T\n",
    "    return T"
   ]
  },
  {
   "cell_type": "markdown",
   "metadata": {},
   "source": [
    "#### Example"
   ]
  },
  {
   "cell_type": "code",
   "execution_count": 18,
   "metadata": {
    "collapsed": false
   },
   "outputs": [
    {
     "data": {
      "text/plain": [
       "0.014699216458052453"
      ]
     },
     "execution_count": 18,
     "metadata": {},
     "output_type": "execute_result"
    }
   ],
   "source": [
    "get_saturated_absolute_humidity(293.15, 'SONNTAG', 'water')"
   ]
  },
  {
   "cell_type": "code",
   "execution_count": 19,
   "metadata": {
    "collapsed": false
   },
   "outputs": [
    {
     "data": {
      "text/plain": [
       "293.1500898838043"
      ]
     },
     "execution_count": 19,
     "metadata": {},
     "output_type": "execute_result"
    }
   ],
   "source": [
    "get_dew_point_temp(0.014699216458052453, 'SONNTAG', 'water')"
   ]
  }
 ],
 "metadata": {
  "kernelspec": {
   "display_name": "Python 3",
   "language": "python",
   "name": "python3"
  },
  "language_info": {
   "codemirror_mode": {
    "name": "ipython",
    "version": 3
   },
   "file_extension": ".py",
   "mimetype": "text/x-python",
   "name": "python",
   "nbconvert_exporter": "python",
   "pygments_lexer": "ipython3",
   "version": "3.6.2"
  }
 },
 "nbformat": 4,
 "nbformat_minor": 2
}
